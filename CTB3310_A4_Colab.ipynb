{
  "cells": [
    {
      "cell_type": "markdown",
      "metadata": {
        "id": "view-in-github",
        "colab_type": "text"
      },
      "source": [
        "<a href=\"https://colab.research.google.com/github/hvandermarel/Colab-Notebooks/blob/main/CTB3310_A4_Colab.ipynb\" target=\"_parent\"><img src=\"https://colab.research.google.com/assets/colab-badge.svg\" alt=\"Open In Colab\"/></a>"
      ]
    },
    {
      "cell_type": "markdown",
      "id": "40d6a2e7-5f3c-4aa6-ac72-cbdd82c87204",
      "metadata": {
        "id": "40d6a2e7-5f3c-4aa6-ac72-cbdd82c87204"
      },
      "source": [
        "# CTB3310 Assignment 4 - GNSS Data Analysis (Google Colab version)\n",
        "\n",
        "**Hans van der Marel, Delft, 5 Mar 2023**\n",
        "\n",
        "In this assignment you will analyze the GNSS data that you collected with the help of the SW Maps app during the fieldwork outdoors. The data is stored in geopackage format which we are going to read and process in Python with the help of the GeoPandas package on-line using Google Colab.\n",
        "\n",
        "## Google Colab requirements\n",
        "\n",
        "The following files are required for this assignment\n",
        "\n",
        "- this jupyter notebook (or a copy of it),\n",
        "- RD/NAP grid correction files `nlgeo2018.gtx` and `rdcorr2018.gsb`, geopackage file with Benelux coast-lines and borders, and three example geopackage files, which will be downloaded from Github by this notebook,\n",
        "- the geopackage file you created during the outdoor practical, which will be downloaded from Github by this notebook,\n",
        "- answer sheet template (MS Word), available from Brightspace.\n",
        "\n",
        "One important caveat to remember while using Colab is that the files won’t be available forever. **Colab is a temporary environment with an idle timeout of 90 minutes and an absolute timeout of 12 hours**. This means that the runtime will disconnect if it has remained idle for 90 minutes, or if it has been in use for 12 hours. On disconnection, you lose all your variables, states, installed packages, and files and will be connected to an entirely new and clean environment on reconnecting.\n",
        "\n",
        "We therefore **strongly recommend** to **save your notebook regularly** to your Google drive \n",
        "> `File > Save a copy in Drive`    (first time)\n",
        "\n",
        "> `File > Save`  \n",
        "\n",
        "or download it to your local drive.\n",
        "\n",
        "Only the notebook needs to be saved to Google drive. The other files are read only and can be downloaded from Github whenever necessary. "
      ]
    },
    {
      "cell_type": "markdown",
      "source": [
        "## Download datasets and geopackage files\n",
        "\n",
        "All the required files and datasets collected by the students are downloaded from Github. This must be done once every time a new clean session in Google Colab is started.\n",
        "\n",
        "We start with downloading the RD/NAP grid correction files and example datasets."
      ],
      "metadata": {
        "id": "9s0eLpD2M6gp"
      },
      "id": "9s0eLpD2M6gp"
    },
    {
      "cell_type": "code",
      "source": [
        "!wget -O CTB3310_A4_Datasets.zip https://github.com/hvandermarel/Colab-Notebooks/blob/main/datasets/CTB3310_A4_Datasets.zip?raw=true\n",
        "!unzip -o CTB3310_A4_Datasets.zip"
      ],
      "metadata": {
        "colab": {
          "base_uri": "https://localhost:8080/"
        },
        "id": "p9AVPf9TAg_2",
        "outputId": "e00e29be-1c87-4eec-88db-d35079dd50cd"
      },
      "id": "p9AVPf9TAg_2",
      "execution_count": 1,
      "outputs": [
        {
          "output_type": "stream",
          "name": "stdout",
          "text": [
            "--2023-03-05 10:15:55--  https://github.com/hvandermarel/Colab-Notebooks/blob/main/datasets/CTB3310_A4_Datasets.zip?raw=true\n",
            "Resolving github.com (github.com)... 20.27.177.113\n",
            "Connecting to github.com (github.com)|20.27.177.113|:443... connected.\n",
            "HTTP request sent, awaiting response... 302 Found\n",
            "Location: https://github.com/hvandermarel/Colab-Notebooks/raw/main/datasets/CTB3310_A4_Datasets.zip [following]\n",
            "--2023-03-05 10:15:55--  https://github.com/hvandermarel/Colab-Notebooks/raw/main/datasets/CTB3310_A4_Datasets.zip\n",
            "Reusing existing connection to github.com:443.\n",
            "HTTP request sent, awaiting response... 302 Found\n",
            "Location: https://raw.githubusercontent.com/hvandermarel/Colab-Notebooks/main/datasets/CTB3310_A4_Datasets.zip [following]\n",
            "--2023-03-05 10:15:55--  https://raw.githubusercontent.com/hvandermarel/Colab-Notebooks/main/datasets/CTB3310_A4_Datasets.zip\n",
            "Resolving raw.githubusercontent.com (raw.githubusercontent.com)... 185.199.108.133, 185.199.109.133, 185.199.110.133, ...\n",
            "Connecting to raw.githubusercontent.com (raw.githubusercontent.com)|185.199.108.133|:443... connected.\n",
            "HTTP request sent, awaiting response... 200 OK\n",
            "Length: 7838131 (7.5M) [application/zip]\n",
            "Saving to: ‘CTB3310_A4_Datasets.zip’\n",
            "\n",
            "CTB3310_A4_Datasets 100%[===================>]   7.47M  --.-KB/s    in 0.1s    \n",
            "\n",
            "2023-03-05 10:15:56 (71.6 MB/s) - ‘CTB3310_A4_Datasets.zip’ saved [7838131/7838131]\n",
            "\n",
            "Archive:  CTB3310_A4_Datasets.zip\n",
            "  inflating: Benelux.gpkg            \n",
            "  inflating: PracticalTest3.gpkg     \n",
            "  inflating: PracticalTest2.gpkg     \n",
            "  inflating: PracticalTest1.gpkg     \n",
            "  inflating: nlgeo2018.gtx           \n",
            "  inflating: rdcorr2018.gsb          \n"
          ]
        }
      ]
    },
    {
      "cell_type": "markdown",
      "source": [
        "After that the data collected during the practical is downloaded. This data is stored in three subdirectories, called `Monday20`, Wednesday22` and 'Thursday23`. "
      ],
      "metadata": {
        "id": "LqqYhRLQNf1b"
      },
      "id": "LqqYhRLQNf1b"
    },
    {
      "cell_type": "code",
      "source": [
        "!wget -O CTB3310_A4_GPKG.zip https://github.com/hvandermarel/Colab-Notebooks/blob/main/datasets/CTB3310_A4_GPKG.zip?raw=true\n",
        "!unzip -o CTB3310_A4_GPKG.zip"
      ],
      "metadata": {
        "colab": {
          "base_uri": "https://localhost:8080/"
        },
        "id": "FmhMSRA0HOlt",
        "outputId": "1aaa58c3-5cbe-4fda-d1d0-180b11b71810"
      },
      "id": "FmhMSRA0HOlt",
      "execution_count": 2,
      "outputs": [
        {
          "output_type": "stream",
          "name": "stdout",
          "text": [
            "--2023-03-05 10:15:57--  https://github.com/hvandermarel/Colab-Notebooks/blob/main/datasets/CTB3310_A4_GPKG.zip?raw=true\n",
            "Resolving github.com (github.com)... 20.27.177.113\n",
            "Connecting to github.com (github.com)|20.27.177.113|:443... connected.\n",
            "HTTP request sent, awaiting response... 302 Found\n",
            "Location: https://github.com/hvandermarel/Colab-Notebooks/raw/main/datasets/CTB3310_A4_GPKG.zip [following]\n",
            "--2023-03-05 10:15:57--  https://github.com/hvandermarel/Colab-Notebooks/raw/main/datasets/CTB3310_A4_GPKG.zip\n",
            "Reusing existing connection to github.com:443.\n",
            "HTTP request sent, awaiting response... 302 Found\n",
            "Location: https://raw.githubusercontent.com/hvandermarel/Colab-Notebooks/main/datasets/CTB3310_A4_GPKG.zip [following]\n",
            "--2023-03-05 10:15:58--  https://raw.githubusercontent.com/hvandermarel/Colab-Notebooks/main/datasets/CTB3310_A4_GPKG.zip\n",
            "Resolving raw.githubusercontent.com (raw.githubusercontent.com)... 185.199.108.133, 185.199.109.133, 185.199.110.133, ...\n",
            "Connecting to raw.githubusercontent.com (raw.githubusercontent.com)|185.199.108.133|:443... connected.\n",
            "HTTP request sent, awaiting response... 200 OK\n",
            "Length: 550685 (538K) [application/zip]\n",
            "Saving to: ‘CTB3310_A4_GPKG.zip’\n",
            "\n",
            "CTB3310_A4_GPKG.zip 100%[===================>] 537.78K  --.-KB/s    in 0.05s   \n",
            "\n",
            "2023-03-05 10:15:58 (9.98 MB/s) - ‘CTB3310_A4_GPKG.zip’ saved [550685/550685]\n",
            "\n",
            "Archive:  CTB3310_A4_GPKG.zip\n",
            "  inflating: Monday20/MA 21 GPKG.gpkg  \n",
            "  inflating: Monday20/ma1 GPKG.gpkg  \n",
            "  inflating: Monday20/MA10 GPKG.gpkg  \n",
            "  inflating: Monday20/MA11 GPKG.gpkg  \n",
            "  inflating: Monday20/ma12 GPKG.gpkg  \n",
            "  inflating: Monday20/MA13 GPKG.gpkg  \n",
            "  inflating: Monday20/MA15 GPKG.gpkg  \n",
            "  inflating: Monday20/Ma20a GPKG.gpkg  \n",
            "  inflating: Monday20/MA3 GPKG.gpkg  \n",
            "  inflating: Monday20/MA4 GPKG.gpkg  \n",
            "  inflating: Monday20/MA8 GPKG.gpkg  \n",
            "  inflating: Monday20/[MA2] GPKG.gpkg  \n",
            "  inflating: Thursday23/DO 19 GPKG.gpkg  \n",
            "  inflating: Thursday23/DO 23 GPKG.gpkg  \n",
            "  inflating: Thursday23/do 4 GPKG.gpkg  \n",
            "  inflating: Thursday23/do1 GPKG.gpkg  \n",
            "  inflating: Thursday23/DO10 GPKG.gpkg  \n",
            "  inflating: Thursday23/DO11 GPKG.gpkg  \n",
            "  inflating: Thursday23/do13 GPKG.gpkg  \n",
            "  inflating: Thursday23/DO15 GPKG.gpkg  \n",
            "  inflating: Thursday23/DO2 GPKG.gpkg  \n",
            "  inflating: Thursday23/do23_2 GPKG.gpkg  \n",
            "  inflating: Thursday23/DO5 GPKG.gpkg  \n",
            "  inflating: Thursday23/DO6 GPKG.gpkg  \n",
            "  inflating: Thursday23/Do7 GPKG.gpkg  \n",
            "  inflating: Thursday23/Do8 GPKG.gpkg  \n",
            "  inflating: Thursday23/DO9 GPKG.gpkg  \n",
            "  inflating: Wednesday22/WO06 F9P B USB DEFECT - SELECT OTHER DATASET.txt  \n",
            "  inflating: Wednesday22/WO11 GPKG.gpkg  \n",
            "  inflating: Wednesday22/WO12 GPKG.gpkg  \n",
            "  inflating: Wednesday22/WO13 GPKG.gpkg  \n",
            "  inflating: Wednesday22/WO14 GPKG.gpkg  \n",
            "  inflating: Wednesday22/WO15 GPKG.gpkg  \n",
            "  inflating: Wednesday22/WO16 GPKG (benchmark).gpkg  \n",
            "  inflating: Wednesday22/wo16-2 GPKG (topographical and DEM).gpkg  \n",
            "  inflating: Wednesday22/WO18 GPKG.gpkg  \n",
            "  inflating: Wednesday22/WO19 GPKG.gpkg  \n",
            "  inflating: Wednesday22/WO20 GPKG.gpkg  \n",
            "  inflating: Wednesday22/wo21 GPKG.gpkg  \n",
            "  inflating: Wednesday22/WO23_GPKG.gpkg  \n",
            "  inflating: Wednesday22/WO24 (Practical1) GPKG.gpkg  \n",
            "  inflating: Wednesday22/wo3 GPKG groep 3.gpkg  \n",
            "  inflating: Wednesday22/WO4 GPKG.gpkg  \n",
            "  inflating: Wednesday22/WO5(2e GPKG.gpkg  \n",
            "  inflating: Wednesday22/wo7 GPKG.gpkg  \n",
            "  inflating: Wednesday22/wo8 GPKG.gpkg  \n",
            "  inflating: Wednesday22/WO9 GPKG.gpkg  \n",
            "  inflating: Wednesday22/woensdag 2 GPKG.gpkg  \n",
            "  inflating: Wednesday22/WOgroep1 GPKG.gpkg  \n",
            "  inflating: Wednesday22/WO_22 GPKG.gpkg  \n"
          ]
        }
      ]
    },
    {
      "cell_type": "markdown",
      "source": [
        "You can see all available files using the filebrowser in the navigation menu on the left (file icon), or using bash shell commands in any of the code cells, as is shown in the following example:"
      ],
      "metadata": {
        "id": "qFKpDlXzN_yt"
      },
      "id": "qFKpDlXzN_yt"
    },
    {
      "cell_type": "code",
      "source": [
        "!pwd\n",
        "!ls -l"
      ],
      "metadata": {
        "colab": {
          "base_uri": "https://localhost:8080/"
        },
        "id": "g0KBSfloBIHr",
        "outputId": "680d5428-61c6-4f47-b03f-30512a269788"
      },
      "id": "g0KBSfloBIHr",
      "execution_count": 3,
      "outputs": [
        {
          "output_type": "stream",
          "name": "stdout",
          "text": [
            "/content\n",
            "total 28924\n",
            "-rw-r--r-- 1 root root 18890752 Mar  3 19:34 Benelux.gpkg\n",
            "-rw-r--r-- 1 root root  7838131 Mar  5 10:15 CTB3310_A4_Datasets.zip\n",
            "-rw-r--r-- 1 root root   550685 Mar  5 10:15 CTB3310_A4_GPKG.zip\n",
            "drwxr-xr-x 2 root root     4096 Mar  5 10:15 Monday20\n",
            "-rw-r--r-- 1 root root   579164 Mar 22  2019 nlgeo2018.gtx\n",
            "-rw-r--r-- 1 root root    81920 Feb  3 11:27 PracticalTest1.gpkg\n",
            "-rw-r--r-- 1 root root    61440 Feb 17 21:21 PracticalTest2.gpkg\n",
            "-rw-r--r-- 1 root root   114688 Feb 20 17:18 PracticalTest3.gpkg\n",
            "-rw-r--r-- 1 root root  1477616 Mar  5  2019 rdcorr2018.gsb\n",
            "drwxr-xr-x 1 root root     4096 Mar  3 01:40 sample_data\n",
            "drwxr-xr-x 2 root root     4096 Mar  5 10:15 Thursday23\n",
            "drwxr-xr-x 2 root root     4096 Mar  5 10:15 Wednesday22\n"
          ]
        }
      ]
    },
    {
      "cell_type": "code",
      "source": [
        "!ls -l Monday20"
      ],
      "metadata": {
        "colab": {
          "base_uri": "https://localhost:8080/"
        },
        "id": "zAeku1-ROd-f",
        "outputId": "67cd832e-bc5d-4295-d37b-f214967ad168"
      },
      "id": "zAeku1-ROd-f",
      "execution_count": 4,
      "outputs": [
        {
          "output_type": "stream",
          "name": "stdout",
          "text": [
            "total 868\n",
            "-rw-r--r-- 1 root root 65536 Feb 20 17:09 'MA10 GPKG.gpkg'\n",
            "-rw-r--r-- 1 root root 65536 Feb 20 17:09 'MA11 GPKG.gpkg'\n",
            "-rw-r--r-- 1 root root 73728 Feb 20 17:09 'ma12 GPKG.gpkg'\n",
            "-rw-r--r-- 1 root root 77824 Feb 20 17:08 'MA13 GPKG.gpkg'\n",
            "-rw-r--r-- 1 root root 81920 Feb 20 17:08 'MA15 GPKG.gpkg'\n",
            "-rw-r--r-- 1 root root 73728 Feb 20 17:09 'ma1 GPKG.gpkg'\n",
            "-rw-r--r-- 1 root root 81920 Feb 20 17:08 'Ma20a GPKG.gpkg'\n",
            "-rw-r--r-- 1 root root 61440 Feb 20 17:08 'MA 21 GPKG.gpkg'\n",
            "-rw-r--r-- 1 root root 77824 Feb 20 17:09 '[MA2] GPKG.gpkg'\n",
            "-rw-r--r-- 1 root root 73728 Feb 20 18:56 'MA3 GPKG.gpkg'\n",
            "-rw-r--r-- 1 root root 81920 Feb 20 17:09 'MA4 GPKG.gpkg'\n",
            "-rw-r--r-- 1 root root 73728 Feb 20 17:09 'MA8 GPKG.gpkg'\n"
          ]
        }
      ]
    },
    {
      "cell_type": "markdown",
      "source": [
        "## Link Google drive (optional)\n",
        "\n",
        "It is easy to link a Colab session to your Google drive. This is not necessary for this notebook as all the required files are read-only. However, whenever you create or modify files, it is best to do this on your Google drive (otherwise they will disappear after time) \n",
        "\n",
        "To mount the drive uncomment the code below"
      ],
      "metadata": {
        "id": "_0AaZFjY-YNp"
      },
      "id": "_0AaZFjY-YNp"
    },
    {
      "cell_type": "code",
      "source": [
        "#from google.colab import drive\n",
        "#drive.mount('/content/gdrive/', force_remount=True)"
      ],
      "metadata": {
        "id": "_cherM7x6M-x"
      },
      "id": "_cherM7x6M-x",
      "execution_count": 5,
      "outputs": []
    },
    {
      "cell_type": "markdown",
      "id": "c20336fe-0818-42a6-9225-0b95b6c31adc",
      "metadata": {
        "id": "c20336fe-0818-42a6-9225-0b95b6c31adc"
      },
      "source": [
        "## Install GeoPandas\n",
        "\n",
        "GeoPandas is written in pure Python, but has several dependencies written in C (GEOS, GDAL, PROJ).\n",
        "\n",
        "Geopandas, and several dependencies, are not installed by default in Google Colab. So, this has to be done everytime a new clean session is started in Colab. Installion is done with `pip`."
      ]
    },
    {
      "cell_type": "code",
      "source": [
        "!pip install geopandas mapclassify"
      ],
      "metadata": {
        "colab": {
          "base_uri": "https://localhost:8080/"
        },
        "id": "VQkc99SK4l7R",
        "outputId": "6b7e8e49-b0e1-40eb-9de6-8767d09b2a78"
      },
      "id": "VQkc99SK4l7R",
      "execution_count": 6,
      "outputs": [
        {
          "output_type": "stream",
          "name": "stdout",
          "text": [
            "Looking in indexes: https://pypi.org/simple, https://us-python.pkg.dev/colab-wheels/public/simple/\n",
            "Requirement already satisfied: geopandas in /usr/local/lib/python3.8/dist-packages (0.12.2)\n",
            "Requirement already satisfied: mapclassify in /usr/local/lib/python3.8/dist-packages (2.5.0)\n",
            "Requirement already satisfied: pandas>=1.0.0 in /usr/local/lib/python3.8/dist-packages (from geopandas) (1.3.5)\n",
            "Requirement already satisfied: packaging in /usr/local/lib/python3.8/dist-packages (from geopandas) (23.0)\n",
            "Requirement already satisfied: shapely>=1.7 in /usr/local/lib/python3.8/dist-packages (from geopandas) (2.0.1)\n",
            "Requirement already satisfied: fiona>=1.8 in /usr/local/lib/python3.8/dist-packages (from geopandas) (1.9.1)\n",
            "Requirement already satisfied: pyproj>=2.6.1.post1 in /usr/local/lib/python3.8/dist-packages (from geopandas) (3.4.1)\n",
            "Requirement already satisfied: numpy>=1.3 in /usr/local/lib/python3.8/dist-packages (from mapclassify) (1.22.4)\n",
            "Requirement already satisfied: scipy>=1.0 in /usr/local/lib/python3.8/dist-packages (from mapclassify) (1.10.1)\n",
            "Requirement already satisfied: scikit-learn in /usr/local/lib/python3.8/dist-packages (from mapclassify) (1.2.1)\n",
            "Requirement already satisfied: networkx in /usr/local/lib/python3.8/dist-packages (from mapclassify) (3.0)\n",
            "Requirement already satisfied: click~=8.0 in /usr/local/lib/python3.8/dist-packages (from fiona>=1.8->geopandas) (8.1.3)\n",
            "Requirement already satisfied: setuptools in /usr/local/lib/python3.8/dist-packages (from fiona>=1.8->geopandas) (57.4.0)\n",
            "Requirement already satisfied: click-plugins>=1.0 in /usr/local/lib/python3.8/dist-packages (from fiona>=1.8->geopandas) (1.1.1)\n",
            "Requirement already satisfied: munch>=2.3.2 in /usr/local/lib/python3.8/dist-packages (from fiona>=1.8->geopandas) (2.5.0)\n",
            "Requirement already satisfied: cligj>=0.5 in /usr/local/lib/python3.8/dist-packages (from fiona>=1.8->geopandas) (0.7.2)\n",
            "Requirement already satisfied: certifi in /usr/local/lib/python3.8/dist-packages (from fiona>=1.8->geopandas) (2022.12.7)\n",
            "Requirement already satisfied: attrs>=19.2.0 in /usr/local/lib/python3.8/dist-packages (from fiona>=1.8->geopandas) (22.2.0)\n",
            "Requirement already satisfied: python-dateutil>=2.7.3 in /usr/local/lib/python3.8/dist-packages (from pandas>=1.0.0->geopandas) (2.8.2)\n",
            "Requirement already satisfied: pytz>=2017.3 in /usr/local/lib/python3.8/dist-packages (from pandas>=1.0.0->geopandas) (2022.7.1)\n",
            "Requirement already satisfied: joblib>=1.1.1 in /usr/local/lib/python3.8/dist-packages (from scikit-learn->mapclassify) (1.2.0)\n",
            "Requirement already satisfied: threadpoolctl>=2.0.0 in /usr/local/lib/python3.8/dist-packages (from scikit-learn->mapclassify) (3.1.0)\n",
            "Requirement already satisfied: six in /usr/local/lib/python3.8/dist-packages (from munch>=2.3.2->fiona>=1.8->geopandas) (1.15.0)\n"
          ]
        }
      ]
    },
    {
      "cell_type": "markdown",
      "id": "dae8ea96-c192-421e-88ec-dda4c4139603",
      "metadata": {
        "id": "dae8ea96-c192-421e-88ec-dda4c4139603"
      },
      "source": [
        "## Import packages\n",
        "\n",
        "GeoPandas is an open source project to make working with geospatial data in python easier. GeoPandas extends the datatypes used by `pandas` to allow spatial operations on geometric types. Geometric operations are performed by `shapely`. Geopandas further depends on `fiona` for file access, `pyproj` for coordinate transformations, `matplotlib` for plotting and a number of other packages.\n",
        "\n",
        "For much of the work a simple import of `geopandas` is sufficient. The other packages do the work under the hood. However, sometimes, for more advanced work, it is necessary to import other packages in order to get access to more functionality form their native API's. Furthermore, for computational work rely on `numpy`."
      ]
    },
    {
      "cell_type": "code",
      "execution_count": 7,
      "id": "f693c20e-cbfd-4861-b168-c8073a1f3647",
      "metadata": {
        "id": "f693c20e-cbfd-4861-b168-c8073a1f3647"
      },
      "outputs": [],
      "source": [
        "import geopandas\n",
        "import fiona\n",
        "import pyproj\n",
        "\n",
        "import numpy as np\n",
        "import matplotlib.pyplot as plt"
      ]
    },
    {
      "cell_type": "markdown",
      "id": "2bafd677-aec3-4fcc-9bc9-2c57ada6ee6a",
      "metadata": {
        "id": "2bafd677-aec3-4fcc-9bc9-2c57ada6ee6a"
      },
      "source": [
        "## Read geopackage file\n",
        "\n",
        "The GNSS data is stored in a standard GIS format: geopackage. A geopackage contains multiple layers. If you used the SW Maps template provided by us, the layers are: *points*, *curves* and *Tracks*. Each layer is read into a *GeoDataFrame* object"
      ]
    },
    {
      "cell_type": "code",
      "execution_count": 8,
      "id": "1446e7b3-ebaf-41aa-8a5c-08ad023f4a84",
      "metadata": {
        "id": "1446e7b3-ebaf-41aa-8a5c-08ad023f4a84"
      },
      "outputs": [],
      "source": [
        "path_to_data = \"PracticalTest2.gpkg\""
      ]
    },
    {
      "cell_type": "code",
      "execution_count": 9,
      "id": "262a34e1-b1e3-4f4a-8b3e-7151bd3670b8",
      "metadata": {
        "colab": {
          "base_uri": "https://localhost:8080/"
        },
        "id": "262a34e1-b1e3-4f4a-8b3e-7151bd3670b8",
        "outputId": "611c7f94-7eec-43cd-84ec-9f150d2117a0"
      },
      "outputs": [
        {
          "output_type": "stream",
          "name": "stderr",
          "text": [
            "WARNING:fiona._env:GPKG: bad application_id=0x00000000 on 'PracticalTest2.gpkg'\n",
            "WARNING:fiona._env:GPKG: bad application_id=0x00000000 on 'PracticalTest2.gpkg'\n",
            "WARNING:fiona._env:GPKG: bad application_id=0x00000000 on 'PracticalTest2.gpkg'\n",
            "WARNING:fiona._env:Field format 'NUMBER' not supported\n",
            "WARNING:fiona._env:geometry column 'length' of type 'NUMBER' ignored\n"
          ]
        }
      ],
      "source": [
        "points = geopandas.read_file(path_to_data, layer='points')\n",
        "lines = geopandas.read_file(path_to_data, layer='curves')\n",
        "tracks = geopandas.read_file(path_to_data, layer='Tracks')"
      ]
    },
    {
      "cell_type": "markdown",
      "id": "826fa297-a8fa-4970-99e2-7b998fe2e4e2",
      "metadata": {
        "id": "826fa297-a8fa-4970-99e2-7b998fe2e4e2"
      },
      "source": [
        "The above commands assume that you stored the data in three layers named *points*, *curves* and *Tracks*; these are stored in *GeoDataFrame* objects with the names *points*, *lines* and *tracks* (Note: SW Maps uses *Tracks* as default layer name, however, we call the object *tracks*, without capitals, which is more Pythonic). If one layer is missing, or if you used different names for the layers, this will result in an error.\n",
        "\n",
        "To find out the names of the layers in the geopackage file we use `fiona`. If you find you have used different names, adjust the above commands accordingly."
      ]
    },
    {
      "cell_type": "code",
      "execution_count": 10,
      "id": "a4be394c-d728-4474-a604-2f1f4d23d2f2",
      "metadata": {
        "id": "a4be394c-d728-4474-a604-2f1f4d23d2f2",
        "colab": {
          "base_uri": "https://localhost:8080/"
        },
        "outputId": "fd15a84b-f8e6-4876-b70f-1daff3a94bec"
      },
      "outputs": [
        {
          "output_type": "stream",
          "name": "stderr",
          "text": [
            "WARNING:fiona._env:GPKG: bad application_id=0x00000000 on 'PracticalTest2.gpkg'\n"
          ]
        },
        {
          "output_type": "execute_result",
          "data": {
            "text/plain": [
              "['curves', 'points', 'Tracks', 'android_metadata']"
            ]
          },
          "metadata": {},
          "execution_count": 10
        }
      ],
      "source": [
        "layers = fiona.listlayers(path_to_data)\n",
        "layers"
      ]
    },
    {
      "cell_type": "markdown",
      "id": "52cf0135-8a25-463b-aaab-076e1c596417",
      "metadata": {
        "id": "52cf0135-8a25-463b-aaab-076e1c596417"
      },
      "source": [
        "To display the contents of the layers you can use print(object_name) or just type the object name (as last code line), e.g.:"
      ]
    },
    {
      "cell_type": "code",
      "execution_count": 11,
      "id": "aafedf9b-4174-4d18-b07a-88698588c576",
      "metadata": {
        "colab": {
          "base_uri": "https://localhost:8080/",
          "height": 280
        },
        "id": "aafedf9b-4174-4d18-b07a-88698588c576",
        "outputId": "7eaa67bd-5730-48a8-a61f-19c0314575c2"
      },
      "outputs": [
        {
          "output_type": "execute_result",
          "data": {
            "text/plain": [
              "                                   UUID FID _description   latitude  \\\n",
              "0  f3df39c0-e7aa-4124-9153-bc6a1f3f2e4a   1               51.997117   \n",
              "1  d5d504c2-324b-41f0-8278-bb0ff06cec46   2               51.997075   \n",
              "\n",
              "   longitude  elevation  ortho_ht                         time  fix_id name  \\\n",
              "0   4.375868   43.16642       0.0  13-02-2023 13:18:29.000 CET       4   a1   \n",
              "1   4.375872   43.17842       0.0  13-02-2023 13:19:18.000 CET       4   a2   \n",
              "\n",
              "  control_point remarks                             geometry  \n",
              "0           yes          POINT Z (4.37587 51.99712 43.16642)  \n",
              "1           yes          POINT Z (4.37587 51.99708 43.17842)  "
            ],
            "text/html": [
              "\n",
              "  <div id=\"df-54368ce1-6e0a-4a6b-a88a-e1f923624b75\">\n",
              "    <div class=\"colab-df-container\">\n",
              "      <div>\n",
              "<style scoped>\n",
              "    .dataframe tbody tr th:only-of-type {\n",
              "        vertical-align: middle;\n",
              "    }\n",
              "\n",
              "    .dataframe tbody tr th {\n",
              "        vertical-align: top;\n",
              "    }\n",
              "\n",
              "    .dataframe thead th {\n",
              "        text-align: right;\n",
              "    }\n",
              "</style>\n",
              "<table border=\"1\" class=\"dataframe\">\n",
              "  <thead>\n",
              "    <tr style=\"text-align: right;\">\n",
              "      <th></th>\n",
              "      <th>UUID</th>\n",
              "      <th>FID</th>\n",
              "      <th>_description</th>\n",
              "      <th>latitude</th>\n",
              "      <th>longitude</th>\n",
              "      <th>elevation</th>\n",
              "      <th>ortho_ht</th>\n",
              "      <th>time</th>\n",
              "      <th>fix_id</th>\n",
              "      <th>name</th>\n",
              "      <th>control_point</th>\n",
              "      <th>remarks</th>\n",
              "      <th>geometry</th>\n",
              "    </tr>\n",
              "  </thead>\n",
              "  <tbody>\n",
              "    <tr>\n",
              "      <th>0</th>\n",
              "      <td>f3df39c0-e7aa-4124-9153-bc6a1f3f2e4a</td>\n",
              "      <td>1</td>\n",
              "      <td></td>\n",
              "      <td>51.997117</td>\n",
              "      <td>4.375868</td>\n",
              "      <td>43.16642</td>\n",
              "      <td>0.0</td>\n",
              "      <td>13-02-2023 13:18:29.000 CET</td>\n",
              "      <td>4</td>\n",
              "      <td>a1</td>\n",
              "      <td>yes</td>\n",
              "      <td></td>\n",
              "      <td>POINT Z (4.37587 51.99712 43.16642)</td>\n",
              "    </tr>\n",
              "    <tr>\n",
              "      <th>1</th>\n",
              "      <td>d5d504c2-324b-41f0-8278-bb0ff06cec46</td>\n",
              "      <td>2</td>\n",
              "      <td></td>\n",
              "      <td>51.997075</td>\n",
              "      <td>4.375872</td>\n",
              "      <td>43.17842</td>\n",
              "      <td>0.0</td>\n",
              "      <td>13-02-2023 13:19:18.000 CET</td>\n",
              "      <td>4</td>\n",
              "      <td>a2</td>\n",
              "      <td>yes</td>\n",
              "      <td></td>\n",
              "      <td>POINT Z (4.37587 51.99708 43.17842)</td>\n",
              "    </tr>\n",
              "  </tbody>\n",
              "</table>\n",
              "</div>\n",
              "      <button class=\"colab-df-convert\" onclick=\"convertToInteractive('df-54368ce1-6e0a-4a6b-a88a-e1f923624b75')\"\n",
              "              title=\"Convert this dataframe to an interactive table.\"\n",
              "              style=\"display:none;\">\n",
              "        \n",
              "  <svg xmlns=\"http://www.w3.org/2000/svg\" height=\"24px\"viewBox=\"0 0 24 24\"\n",
              "       width=\"24px\">\n",
              "    <path d=\"M0 0h24v24H0V0z\" fill=\"none\"/>\n",
              "    <path d=\"M18.56 5.44l.94 2.06.94-2.06 2.06-.94-2.06-.94-.94-2.06-.94 2.06-2.06.94zm-11 1L8.5 8.5l.94-2.06 2.06-.94-2.06-.94L8.5 2.5l-.94 2.06-2.06.94zm10 10l.94 2.06.94-2.06 2.06-.94-2.06-.94-.94-2.06-.94 2.06-2.06.94z\"/><path d=\"M17.41 7.96l-1.37-1.37c-.4-.4-.92-.59-1.43-.59-.52 0-1.04.2-1.43.59L10.3 9.45l-7.72 7.72c-.78.78-.78 2.05 0 2.83L4 21.41c.39.39.9.59 1.41.59.51 0 1.02-.2 1.41-.59l7.78-7.78 2.81-2.81c.8-.78.8-2.07 0-2.86zM5.41 20L4 18.59l7.72-7.72 1.47 1.35L5.41 20z\"/>\n",
              "  </svg>\n",
              "      </button>\n",
              "      \n",
              "  <style>\n",
              "    .colab-df-container {\n",
              "      display:flex;\n",
              "      flex-wrap:wrap;\n",
              "      gap: 12px;\n",
              "    }\n",
              "\n",
              "    .colab-df-convert {\n",
              "      background-color: #E8F0FE;\n",
              "      border: none;\n",
              "      border-radius: 50%;\n",
              "      cursor: pointer;\n",
              "      display: none;\n",
              "      fill: #1967D2;\n",
              "      height: 32px;\n",
              "      padding: 0 0 0 0;\n",
              "      width: 32px;\n",
              "    }\n",
              "\n",
              "    .colab-df-convert:hover {\n",
              "      background-color: #E2EBFA;\n",
              "      box-shadow: 0px 1px 2px rgba(60, 64, 67, 0.3), 0px 1px 3px 1px rgba(60, 64, 67, 0.15);\n",
              "      fill: #174EA6;\n",
              "    }\n",
              "\n",
              "    [theme=dark] .colab-df-convert {\n",
              "      background-color: #3B4455;\n",
              "      fill: #D2E3FC;\n",
              "    }\n",
              "\n",
              "    [theme=dark] .colab-df-convert:hover {\n",
              "      background-color: #434B5C;\n",
              "      box-shadow: 0px 1px 3px 1px rgba(0, 0, 0, 0.15);\n",
              "      filter: drop-shadow(0px 1px 2px rgba(0, 0, 0, 0.3));\n",
              "      fill: #FFFFFF;\n",
              "    }\n",
              "  </style>\n",
              "\n",
              "      <script>\n",
              "        const buttonEl =\n",
              "          document.querySelector('#df-54368ce1-6e0a-4a6b-a88a-e1f923624b75 button.colab-df-convert');\n",
              "        buttonEl.style.display =\n",
              "          google.colab.kernel.accessAllowed ? 'block' : 'none';\n",
              "\n",
              "        async function convertToInteractive(key) {\n",
              "          const element = document.querySelector('#df-54368ce1-6e0a-4a6b-a88a-e1f923624b75');\n",
              "          const dataTable =\n",
              "            await google.colab.kernel.invokeFunction('convertToInteractive',\n",
              "                                                     [key], {});\n",
              "          if (!dataTable) return;\n",
              "\n",
              "          const docLinkHtml = 'Like what you see? Visit the ' +\n",
              "            '<a target=\"_blank\" href=https://colab.research.google.com/notebooks/data_table.ipynb>data table notebook</a>'\n",
              "            + ' to learn more about interactive tables.';\n",
              "          element.innerHTML = '';\n",
              "          dataTable['output_type'] = 'display_data';\n",
              "          await google.colab.output.renderOutput(dataTable, element);\n",
              "          const docLink = document.createElement('div');\n",
              "          docLink.innerHTML = docLinkHtml;\n",
              "          element.appendChild(docLink);\n",
              "        }\n",
              "      </script>\n",
              "    </div>\n",
              "  </div>\n",
              "  "
            ]
          },
          "metadata": {},
          "execution_count": 11
        }
      ],
      "source": [
        "points"
      ]
    },
    {
      "cell_type": "code",
      "execution_count": 12,
      "id": "07bb7d65-069d-44ad-9e07-616b05b18603",
      "metadata": {
        "colab": {
          "base_uri": "https://localhost:8080/",
          "height": 288
        },
        "id": "07bb7d65-069d-44ad-9e07-616b05b18603",
        "outputId": "35a207dd-d218-44e2-f718-ef7ecc4863d3"
      },
      "outputs": [
        {
          "output_type": "execute_result",
          "data": {
            "text/plain": [
              "                                   UUID FID _description    _length  \\\n",
              "0  867bd8a8-578f-462f-a1e5-ac3644c6bc39   3               30.440912   \n",
              "1  99b3b2eb-f81a-4745-849f-368afb296b2b   4               25.339667   \n",
              "2  af83b7ba-f2be-44d7-9f5f-d373ddee2d8b   5               28.924731   \n",
              "3  fdab2c37-7add-4902-abf3-b3036873a6ce   6               24.601319   \n",
              "\n",
              "         type alignment remarks  \\\n",
              "0        road    border           \n",
              "1        road    border           \n",
              "2  pedestrian    border           \n",
              "3        road    border           \n",
              "\n",
              "                                            geometry  \n",
              "0  LINESTRING Z (4.37608 51.99747 42.66542, 4.376...  \n",
              "1  LINESTRING Z (4.37598 51.99731 42.81142, 4.375...  \n",
              "2  LINESTRING Z (4.37587 51.99713 43.11042, 4.375...  \n",
              "3  LINESTRING Z (4.37589 51.99710 42.79242, 4.375...  "
            ],
            "text/html": [
              "\n",
              "  <div id=\"df-efcceada-f7c6-4b52-a0ff-0e3d92752d25\">\n",
              "    <div class=\"colab-df-container\">\n",
              "      <div>\n",
              "<style scoped>\n",
              "    .dataframe tbody tr th:only-of-type {\n",
              "        vertical-align: middle;\n",
              "    }\n",
              "\n",
              "    .dataframe tbody tr th {\n",
              "        vertical-align: top;\n",
              "    }\n",
              "\n",
              "    .dataframe thead th {\n",
              "        text-align: right;\n",
              "    }\n",
              "</style>\n",
              "<table border=\"1\" class=\"dataframe\">\n",
              "  <thead>\n",
              "    <tr style=\"text-align: right;\">\n",
              "      <th></th>\n",
              "      <th>UUID</th>\n",
              "      <th>FID</th>\n",
              "      <th>_description</th>\n",
              "      <th>_length</th>\n",
              "      <th>type</th>\n",
              "      <th>alignment</th>\n",
              "      <th>remarks</th>\n",
              "      <th>geometry</th>\n",
              "    </tr>\n",
              "  </thead>\n",
              "  <tbody>\n",
              "    <tr>\n",
              "      <th>0</th>\n",
              "      <td>867bd8a8-578f-462f-a1e5-ac3644c6bc39</td>\n",
              "      <td>3</td>\n",
              "      <td></td>\n",
              "      <td>30.440912</td>\n",
              "      <td>road</td>\n",
              "      <td>border</td>\n",
              "      <td></td>\n",
              "      <td>LINESTRING Z (4.37608 51.99747 42.66542, 4.376...</td>\n",
              "    </tr>\n",
              "    <tr>\n",
              "      <th>1</th>\n",
              "      <td>99b3b2eb-f81a-4745-849f-368afb296b2b</td>\n",
              "      <td>4</td>\n",
              "      <td></td>\n",
              "      <td>25.339667</td>\n",
              "      <td>road</td>\n",
              "      <td>border</td>\n",
              "      <td></td>\n",
              "      <td>LINESTRING Z (4.37598 51.99731 42.81142, 4.375...</td>\n",
              "    </tr>\n",
              "    <tr>\n",
              "      <th>2</th>\n",
              "      <td>af83b7ba-f2be-44d7-9f5f-d373ddee2d8b</td>\n",
              "      <td>5</td>\n",
              "      <td></td>\n",
              "      <td>28.924731</td>\n",
              "      <td>pedestrian</td>\n",
              "      <td>border</td>\n",
              "      <td></td>\n",
              "      <td>LINESTRING Z (4.37587 51.99713 43.11042, 4.375...</td>\n",
              "    </tr>\n",
              "    <tr>\n",
              "      <th>3</th>\n",
              "      <td>fdab2c37-7add-4902-abf3-b3036873a6ce</td>\n",
              "      <td>6</td>\n",
              "      <td></td>\n",
              "      <td>24.601319</td>\n",
              "      <td>road</td>\n",
              "      <td>border</td>\n",
              "      <td></td>\n",
              "      <td>LINESTRING Z (4.37589 51.99710 42.79242, 4.375...</td>\n",
              "    </tr>\n",
              "  </tbody>\n",
              "</table>\n",
              "</div>\n",
              "      <button class=\"colab-df-convert\" onclick=\"convertToInteractive('df-efcceada-f7c6-4b52-a0ff-0e3d92752d25')\"\n",
              "              title=\"Convert this dataframe to an interactive table.\"\n",
              "              style=\"display:none;\">\n",
              "        \n",
              "  <svg xmlns=\"http://www.w3.org/2000/svg\" height=\"24px\"viewBox=\"0 0 24 24\"\n",
              "       width=\"24px\">\n",
              "    <path d=\"M0 0h24v24H0V0z\" fill=\"none\"/>\n",
              "    <path d=\"M18.56 5.44l.94 2.06.94-2.06 2.06-.94-2.06-.94-.94-2.06-.94 2.06-2.06.94zm-11 1L8.5 8.5l.94-2.06 2.06-.94-2.06-.94L8.5 2.5l-.94 2.06-2.06.94zm10 10l.94 2.06.94-2.06 2.06-.94-2.06-.94-.94-2.06-.94 2.06-2.06.94z\"/><path d=\"M17.41 7.96l-1.37-1.37c-.4-.4-.92-.59-1.43-.59-.52 0-1.04.2-1.43.59L10.3 9.45l-7.72 7.72c-.78.78-.78 2.05 0 2.83L4 21.41c.39.39.9.59 1.41.59.51 0 1.02-.2 1.41-.59l7.78-7.78 2.81-2.81c.8-.78.8-2.07 0-2.86zM5.41 20L4 18.59l7.72-7.72 1.47 1.35L5.41 20z\"/>\n",
              "  </svg>\n",
              "      </button>\n",
              "      \n",
              "  <style>\n",
              "    .colab-df-container {\n",
              "      display:flex;\n",
              "      flex-wrap:wrap;\n",
              "      gap: 12px;\n",
              "    }\n",
              "\n",
              "    .colab-df-convert {\n",
              "      background-color: #E8F0FE;\n",
              "      border: none;\n",
              "      border-radius: 50%;\n",
              "      cursor: pointer;\n",
              "      display: none;\n",
              "      fill: #1967D2;\n",
              "      height: 32px;\n",
              "      padding: 0 0 0 0;\n",
              "      width: 32px;\n",
              "    }\n",
              "\n",
              "    .colab-df-convert:hover {\n",
              "      background-color: #E2EBFA;\n",
              "      box-shadow: 0px 1px 2px rgba(60, 64, 67, 0.3), 0px 1px 3px 1px rgba(60, 64, 67, 0.15);\n",
              "      fill: #174EA6;\n",
              "    }\n",
              "\n",
              "    [theme=dark] .colab-df-convert {\n",
              "      background-color: #3B4455;\n",
              "      fill: #D2E3FC;\n",
              "    }\n",
              "\n",
              "    [theme=dark] .colab-df-convert:hover {\n",
              "      background-color: #434B5C;\n",
              "      box-shadow: 0px 1px 3px 1px rgba(0, 0, 0, 0.15);\n",
              "      filter: drop-shadow(0px 1px 2px rgba(0, 0, 0, 0.3));\n",
              "      fill: #FFFFFF;\n",
              "    }\n",
              "  </style>\n",
              "\n",
              "      <script>\n",
              "        const buttonEl =\n",
              "          document.querySelector('#df-efcceada-f7c6-4b52-a0ff-0e3d92752d25 button.colab-df-convert');\n",
              "        buttonEl.style.display =\n",
              "          google.colab.kernel.accessAllowed ? 'block' : 'none';\n",
              "\n",
              "        async function convertToInteractive(key) {\n",
              "          const element = document.querySelector('#df-efcceada-f7c6-4b52-a0ff-0e3d92752d25');\n",
              "          const dataTable =\n",
              "            await google.colab.kernel.invokeFunction('convertToInteractive',\n",
              "                                                     [key], {});\n",
              "          if (!dataTable) return;\n",
              "\n",
              "          const docLinkHtml = 'Like what you see? Visit the ' +\n",
              "            '<a target=\"_blank\" href=https://colab.research.google.com/notebooks/data_table.ipynb>data table notebook</a>'\n",
              "            + ' to learn more about interactive tables.';\n",
              "          element.innerHTML = '';\n",
              "          dataTable['output_type'] = 'display_data';\n",
              "          await google.colab.output.renderOutput(dataTable, element);\n",
              "          const docLink = document.createElement('div');\n",
              "          docLink.innerHTML = docLinkHtml;\n",
              "          element.appendChild(docLink);\n",
              "        }\n",
              "      </script>\n",
              "    </div>\n",
              "  </div>\n",
              "  "
            ]
          },
          "metadata": {},
          "execution_count": 12
        }
      ],
      "source": [
        "lines"
      ]
    },
    {
      "cell_type": "code",
      "execution_count": 13,
      "id": "4bde9e6c-5cab-4e33-a892-792f0548cfb4",
      "metadata": {
        "colab": {
          "base_uri": "https://localhost:8080/",
          "height": 191
        },
        "id": "4bde9e6c-5cab-4e33-a892-792f0548cfb4",
        "outputId": "56716158-7f77-4cc5-b60b-364801655213"
      },
      "outputs": [
        {
          "output_type": "execute_result",
          "data": {
            "text/plain": [
              "                                   UUID remarks                   start_time  \\\n",
              "0  b7862745-0e9c-4a42-b742-8b3c19257840          13-02-2023 13:21:33.000 CET   \n",
              "1  69c779cf-3642-4545-88a7-73e17804cd13          13-02-2023 13:32:41.000 CET   \n",
              "\n",
              "                      end_time  \\\n",
              "0  13-02-2023 13:22:34.000 CET   \n",
              "1  13-02-2023 13:36:29.000 CET   \n",
              "\n",
              "                                            geometry  \n",
              "0  LINESTRING Z (4.37603 51.99741 42.54842, 4.376...  \n",
              "1  LINESTRING Z (4.37589 51.99724 43.04542, 4.375...  "
            ],
            "text/html": [
              "\n",
              "  <div id=\"df-7cda37c9-bdff-4000-a263-dcc834c6ef58\">\n",
              "    <div class=\"colab-df-container\">\n",
              "      <div>\n",
              "<style scoped>\n",
              "    .dataframe tbody tr th:only-of-type {\n",
              "        vertical-align: middle;\n",
              "    }\n",
              "\n",
              "    .dataframe tbody tr th {\n",
              "        vertical-align: top;\n",
              "    }\n",
              "\n",
              "    .dataframe thead th {\n",
              "        text-align: right;\n",
              "    }\n",
              "</style>\n",
              "<table border=\"1\" class=\"dataframe\">\n",
              "  <thead>\n",
              "    <tr style=\"text-align: right;\">\n",
              "      <th></th>\n",
              "      <th>UUID</th>\n",
              "      <th>remarks</th>\n",
              "      <th>start_time</th>\n",
              "      <th>end_time</th>\n",
              "      <th>geometry</th>\n",
              "    </tr>\n",
              "  </thead>\n",
              "  <tbody>\n",
              "    <tr>\n",
              "      <th>0</th>\n",
              "      <td>b7862745-0e9c-4a42-b742-8b3c19257840</td>\n",
              "      <td></td>\n",
              "      <td>13-02-2023 13:21:33.000 CET</td>\n",
              "      <td>13-02-2023 13:22:34.000 CET</td>\n",
              "      <td>LINESTRING Z (4.37603 51.99741 42.54842, 4.376...</td>\n",
              "    </tr>\n",
              "    <tr>\n",
              "      <th>1</th>\n",
              "      <td>69c779cf-3642-4545-88a7-73e17804cd13</td>\n",
              "      <td></td>\n",
              "      <td>13-02-2023 13:32:41.000 CET</td>\n",
              "      <td>13-02-2023 13:36:29.000 CET</td>\n",
              "      <td>LINESTRING Z (4.37589 51.99724 43.04542, 4.375...</td>\n",
              "    </tr>\n",
              "  </tbody>\n",
              "</table>\n",
              "</div>\n",
              "      <button class=\"colab-df-convert\" onclick=\"convertToInteractive('df-7cda37c9-bdff-4000-a263-dcc834c6ef58')\"\n",
              "              title=\"Convert this dataframe to an interactive table.\"\n",
              "              style=\"display:none;\">\n",
              "        \n",
              "  <svg xmlns=\"http://www.w3.org/2000/svg\" height=\"24px\"viewBox=\"0 0 24 24\"\n",
              "       width=\"24px\">\n",
              "    <path d=\"M0 0h24v24H0V0z\" fill=\"none\"/>\n",
              "    <path d=\"M18.56 5.44l.94 2.06.94-2.06 2.06-.94-2.06-.94-.94-2.06-.94 2.06-2.06.94zm-11 1L8.5 8.5l.94-2.06 2.06-.94-2.06-.94L8.5 2.5l-.94 2.06-2.06.94zm10 10l.94 2.06.94-2.06 2.06-.94-2.06-.94-.94-2.06-.94 2.06-2.06.94z\"/><path d=\"M17.41 7.96l-1.37-1.37c-.4-.4-.92-.59-1.43-.59-.52 0-1.04.2-1.43.59L10.3 9.45l-7.72 7.72c-.78.78-.78 2.05 0 2.83L4 21.41c.39.39.9.59 1.41.59.51 0 1.02-.2 1.41-.59l7.78-7.78 2.81-2.81c.8-.78.8-2.07 0-2.86zM5.41 20L4 18.59l7.72-7.72 1.47 1.35L5.41 20z\"/>\n",
              "  </svg>\n",
              "      </button>\n",
              "      \n",
              "  <style>\n",
              "    .colab-df-container {\n",
              "      display:flex;\n",
              "      flex-wrap:wrap;\n",
              "      gap: 12px;\n",
              "    }\n",
              "\n",
              "    .colab-df-convert {\n",
              "      background-color: #E8F0FE;\n",
              "      border: none;\n",
              "      border-radius: 50%;\n",
              "      cursor: pointer;\n",
              "      display: none;\n",
              "      fill: #1967D2;\n",
              "      height: 32px;\n",
              "      padding: 0 0 0 0;\n",
              "      width: 32px;\n",
              "    }\n",
              "\n",
              "    .colab-df-convert:hover {\n",
              "      background-color: #E2EBFA;\n",
              "      box-shadow: 0px 1px 2px rgba(60, 64, 67, 0.3), 0px 1px 3px 1px rgba(60, 64, 67, 0.15);\n",
              "      fill: #174EA6;\n",
              "    }\n",
              "\n",
              "    [theme=dark] .colab-df-convert {\n",
              "      background-color: #3B4455;\n",
              "      fill: #D2E3FC;\n",
              "    }\n",
              "\n",
              "    [theme=dark] .colab-df-convert:hover {\n",
              "      background-color: #434B5C;\n",
              "      box-shadow: 0px 1px 3px 1px rgba(0, 0, 0, 0.15);\n",
              "      filter: drop-shadow(0px 1px 2px rgba(0, 0, 0, 0.3));\n",
              "      fill: #FFFFFF;\n",
              "    }\n",
              "  </style>\n",
              "\n",
              "      <script>\n",
              "        const buttonEl =\n",
              "          document.querySelector('#df-7cda37c9-bdff-4000-a263-dcc834c6ef58 button.colab-df-convert');\n",
              "        buttonEl.style.display =\n",
              "          google.colab.kernel.accessAllowed ? 'block' : 'none';\n",
              "\n",
              "        async function convertToInteractive(key) {\n",
              "          const element = document.querySelector('#df-7cda37c9-bdff-4000-a263-dcc834c6ef58');\n",
              "          const dataTable =\n",
              "            await google.colab.kernel.invokeFunction('convertToInteractive',\n",
              "                                                     [key], {});\n",
              "          if (!dataTable) return;\n",
              "\n",
              "          const docLinkHtml = 'Like what you see? Visit the ' +\n",
              "            '<a target=\"_blank\" href=https://colab.research.google.com/notebooks/data_table.ipynb>data table notebook</a>'\n",
              "            + ' to learn more about interactive tables.';\n",
              "          element.innerHTML = '';\n",
              "          dataTable['output_type'] = 'display_data';\n",
              "          await google.colab.output.renderOutput(dataTable, element);\n",
              "          const docLink = document.createElement('div');\n",
              "          docLink.innerHTML = docLinkHtml;\n",
              "          element.appendChild(docLink);\n",
              "        }\n",
              "      </script>\n",
              "    </div>\n",
              "  </div>\n",
              "  "
            ]
          },
          "metadata": {},
          "execution_count": 13
        }
      ],
      "source": [
        "tracks"
      ]
    },
    {
      "cell_type": "markdown",
      "id": "3cd7ceae-ddaf-49f6-979a-95dc06e05269",
      "metadata": {
        "id": "3cd7ceae-ddaf-49f6-979a-95dc06e05269"
      },
      "source": [
        "Each layer consists of an index, feature data and **geometry**. The geometry is in Well-Known-Text (WKT) format. In our dataset two fundamental geometries are used in their three dimensional variant: **point** and **linestring**. The WKT representation is\n",
        "```\n",
        "POINT Z(<lon> <lat> <hgt>)\n",
        "LINESTRING Z(<lon> <lat> <hgt>, <lon> <lat> ... )\n",
        "```\n",
        "The **linestring** consists of a sequence of  coordinate tuples, the **point** has exactly one. The three dimensional coordinate **tuples** `(<lon> <lat> <hgt>)` provide the geographic **longitude** &lambda; and **latitude** &phi; in *degrees*, and **elevation** *h* above the ellipsoid in *meters*.\n",
        "The other columns contain the attributes that where stored with the data when it was collected, such as the name and type of the feature that you entered when collecting the data, while others, such as the fix_id (4 is RTK fixed) provided by the software.\n",
        "\n",
        "The `android_meatadata` layer does not contain much useful information."
      ]
    },
    {
      "cell_type": "markdown",
      "id": "5d0bc8f1-47d6-438a-a596-5eeff107e3f6",
      "metadata": {
        "id": "5d0bc8f1-47d6-438a-a596-5eeff107e3f6"
      },
      "source": [
        "## Mapping and Plotting\n",
        "\n",
        "GeoPandas provides a high-level interface to the `matplotlib` library for making maps. Mapping shapes is as easy as using the `plot()` method on a GeoSeries or GeoDataFrame. "
      ]
    },
    {
      "cell_type": "code",
      "execution_count": 14,
      "id": "9d7002e8-963c-442e-9fc4-4e3021231291",
      "metadata": {
        "colab": {
          "base_uri": "https://localhost:8080/",
          "height": 307
        },
        "id": "9d7002e8-963c-442e-9fc4-4e3021231291",
        "outputId": "826fe507-cc07-491a-f0b9-d878cb3e493e"
      },
      "outputs": [
        {
          "output_type": "execute_result",
          "data": {
            "text/plain": [
              "<AxesSubplot:>"
            ]
          },
          "metadata": {},
          "execution_count": 14
        },
        {
          "output_type": "display_data",
          "data": {
            "text/plain": [
              "<Figure size 432x288 with 1 Axes>"
            ],
            "image/png": "[encoded data removed]"
          },
          "metadata": {
            "needs_background": "light"
          }
        }
      ],
      "source": [
        "tracks.plot()"
      ]
    },
    {
      "cell_type": "markdown",
      "id": "448eaf69-7ee5-4374-8c6e-43c8cecba4e1",
      "metadata": {
        "id": "448eaf69-7ee5-4374-8c6e-43c8cecba4e1"
      },
      "source": [
        "For making a map with multiple layers, first remember to always ensure they share a common Coordinate Reference System (CRS), so they will align. In our dataset this is (still) the case as the layers come from the same source. To create a map with multiple layers we call the plot method on individual layers with options. \n",
        "\n",
        "Note that in general, any options one can pass to pyplot in matplotlib (or style options that work for lines) can be passed to the plot() method."
      ]
    },
    {
      "cell_type": "code",
      "execution_count": 15,
      "id": "64216b7b-daa5-4f94-a1bc-e3e7eb5a1e08",
      "metadata": {
        "tags": [],
        "colab": {
          "base_uri": "https://localhost:8080/",
          "height": 295
        },
        "id": "64216b7b-daa5-4f94-a1bc-e3e7eb5a1e08",
        "outputId": "56ccac56-5ae5-4a0b-a248-3024c5c5e5d7"
      },
      "outputs": [
        {
          "output_type": "display_data",
          "data": {
            "text/plain": [
              "<Figure size 432x288 with 1 Axes>"
            ],
            "image/png": "[encoded data removed]"
          },
          "metadata": {
            "needs_background": "light"
          }
        }
      ],
      "source": [
        "base = lines.plot(color='blue')\n",
        "points.plot(ax=base, marker='o', color='red', markersize=10)\n",
        "tracks.plot(ax=base, color='green')\n",
        "base.set(xlabel='Longitude [deg]', ylabel='Latitude [deg]', title='Our Map');"
      ]
    },
    {
      "cell_type": "markdown",
      "id": "a037d12f-f2ba-41ba-9d4c-f74adf3e5f68",
      "metadata": {
        "id": "a037d12f-f2ba-41ba-9d4c-f74adf3e5f68"
      },
      "source": [
        "**Question 1:** Include this plot/map in your report."
      ]
    },
    {
      "cell_type": "markdown",
      "id": "bbf83a56-248e-41ad-a867-0504b4baf0ee",
      "metadata": {
        "id": "bbf83a56-248e-41ad-a867-0504b4baf0ee"
      },
      "source": [
        "When using the *GeoPandas* plot() method the aspect ratio is set automatically to equal (note that this is not done when working with pyplot directly). It is smart: it even takes into account the fact that - except at the equator - one degree in latitude is not the same distance as one degree in longitude! "
      ]
    },
    {
      "cell_type": "markdown",
      "id": "68e3cf63-8694-4765-aa9d-7d7a77fa5bf6",
      "metadata": {
        "id": "68e3cf63-8694-4765-aa9d-7d7a77fa5bf6"
      },
      "source": [
        "**Question 2:** Explain why this phenomena occurs, measure the ratio between latitude and longitude in the plot and compute the ratio from the formulas in the book (29.7) on Northing and Easting, section 29.2.2, and compare.  \n",
        "\n",
        "**Answer** Towards the pole the meridians are converging with the result that, except at the equator, one degree in longitude represents a shorter metric distance than one degree in latitude.  The approximate ratio is $$ \\frac{ distance(deg\\ latitude) }{ distance(deg\\ longitude)} = 1 / \\cos(latitude) $$ \n"
      ]
    },
    {
      "cell_type": "code",
      "execution_count": 16,
      "id": "b64614e1-3cde-446c-814f-7ef0a0342988",
      "metadata": {
        "colab": {
          "base_uri": "https://localhost:8080/"
        },
        "id": "b64614e1-3cde-446c-814f-7ef0a0342988",
        "outputId": "b10f4b34-40a1-445d-8edb-cc3edb1bf518"
      },
      "outputs": [
        {
          "output_type": "stream",
          "name": "stdout",
          "text": [
            "ratio computed: 1.624269245482744 , measured in map: 1.6666666666666667\n"
          ]
        }
      ],
      "source": [
        "ratio_computed = 1 / np.cos(np.deg2rad(52))\n",
        "ratio_measured_in_map = 20 / 12            # mm for 0.0001 deg in latitude resp. longitude\n",
        "print('ratio computed:', ratio_computed, ', measured in map:', ratio_measured_in_map )"
      ]
    },
    {
      "cell_type": "markdown",
      "id": "20f7f5f2-080a-43d3-b2bb-dd47651cf67b",
      "metadata": {
        "id": "20f7f5f2-080a-43d3-b2bb-dd47651cf67b"
      },
      "source": [
        "To illustrate this point we redo the map, using a slightly different method to plot multiple layers using `pyplot` (for fun), and set the **aspect ratio** to **one**."
      ]
    },
    {
      "cell_type": "code",
      "execution_count": 17,
      "id": "58491298-1afe-4750-83e0-50d82a904931",
      "metadata": {
        "colab": {
          "base_uri": "https://localhost:8080/",
          "height": 295
        },
        "id": "58491298-1afe-4750-83e0-50d82a904931",
        "outputId": "9cd05f1a-31b4-4d3a-ee52-31abfff8421e"
      },
      "outputs": [
        {
          "output_type": "display_data",
          "data": {
            "text/plain": [
              "<Figure size 432x288 with 1 Axes>"
            ],
            "image/png": "[encoded data removed]"
          },
          "metadata": {
            "needs_background": "light"
          }
        }
      ],
      "source": [
        "fig, ax = plt.subplots()\n",
        "\n",
        "lines.plot(ax=ax, color='blue')\n",
        "points.plot(ax=ax, marker='o', color='red', markersize=10)\n",
        "tracks.plot(ax=ax, color='green')\n",
        "ax.set(xlabel='Longitude [deg]', ylabel='Latitude [deg]', title='Our Map')\n",
        "\n",
        "ax.set_aspect(1)\n",
        "\n",
        "plt.show();"
      ]
    },
    {
      "cell_type": "markdown",
      "id": "cb5a5cbe-b32b-4f59-b9ae-9c4fb67fb580",
      "metadata": {
        "id": "cb5a5cbe-b32b-4f59-b9ae-9c4fb67fb580"
      },
      "source": [
        "Clearly, this is not the way latitude and longitude data should be plotted (you are warned!). When you plot latitude and longitude data always set the aspect ratio accordingly."
      ]
    },
    {
      "cell_type": "markdown",
      "id": "a47428a1-115b-45a6-8012-aa6e399fc288",
      "metadata": {
        "id": "a47428a1-115b-45a6-8012-aa6e399fc288"
      },
      "source": [
        "Try this yourself by adjusting the aspect ratio in the previous code. You do not have to give the plot in your report **[HM: could be turned into question]**."
      ]
    },
    {
      "cell_type": "markdown",
      "id": "c52d75ad-926e-45e4-a4e2-5befd5534232",
      "metadata": {
        "id": "c52d75ad-926e-45e4-a4e2-5befd5534232"
      },
      "source": [
        "However, if you want to do geometric computations, such as computing areas, it is a much better idea to use a map projection, as we will explore later."
      ]
    },
    {
      "cell_type": "markdown",
      "id": "1927c543-2b25-4da8-ac6a-c90ec86ae446",
      "metadata": {
        "id": "1927c543-2b25-4da8-ac6a-c90ec86ae446"
      },
      "source": [
        "## Interactive mapping\n",
        "\n",
        "GeoPandas can also create interactive maps based on the `folium` library (under the hood in geopandas). Creating maps for interactive exploration uses the `explore()` method of a GeoSeries or GeoDataFrame.\n",
        "\n",
        "The `explore()` method returns a `folium.Map` object, which can also be passed directly (as you did with ax in plot()). In the example below, we plot our three layers on the same map by passing the folium.Map object to subsequent layers (using *m* instead of *ax* keywords). \n",
        "\n",
        "After importing folium you can also use folium functionality directly on the resulting map, e.g. adding additional tiles allowing you to change the background directly in the map. We leave this to you to experiment (after consulting geopandas and folium documentation)."
      ]
    },
    {
      "cell_type": "code",
      "execution_count": 18,
      "id": "a8de4a31-f20f-47b4-82cd-8aaa5dc8ef9b",
      "metadata": {
        "colab": {
          "base_uri": "https://localhost:8080/",
          "height": 671
        },
        "id": "a8de4a31-f20f-47b4-82cd-8aaa5dc8ef9b",
        "outputId": "4261ffd8-af4d-40fa-9c93-5449a073cc65"
      },
      "outputs": [
        {
          "output_type": "execute_result",
          "data": {
            "text/plain": [
              "<folium.folium.Map at 0x7f6797e74e20>"
            ],
            "text/html": [
              "<div style=\"width:100%;\"><div style=\"position:relative;width:100%;height:0;padding-bottom:60%;\"><span style=\"color:#565656\">Make this Notebook Trusted to load map: File -> Trust Notebook</span><iframe srcdoc=\"&lt;!DOCTYPE html&gt;\n",
              "&lt;html&gt;\n",
              "&lt;head&gt;\n",
              "    \n",
              "    &lt;meta http-equiv=&quot;content-type&quot; content=&quot;text/html; charset=UTF-8&quot; /&gt;\n",
              "    \n",
              "        &lt;script&gt;\n",
              "            L_NO_TOUCH = false;\n",
              "            L_DISABLE_3D = false;\n",
              "        &lt;/script&gt;\n",
              "    \n",
              "    &lt;style&gt;html, body {width: 100%;height: 100%;margin: 0;padding: 0;}&lt;/style&gt;\n",
              "    &lt;style&gt;#map {position:absolute;top:0;bottom:0;right:0;left:0;}&lt;/style&gt;\n",
              "    &lt;script src=&quot;https://cdn.jsdelivr.net/npm/leaflet@1.6.0/dist/leaflet.js&quot;&gt;&lt;/script&gt;\n",
              "    &lt;script src=&quot;https://code.jquery.com/jquery-1.12.4.min.js&quot;&gt;&lt;/script&gt;\n",
              "    &lt;script src=&quot;https://maxcdn.bootstrapcdn.com/bootstrap/3.2.0/js/bootstrap.min.js&quot;&gt;&lt;/script&gt;\n",
              "    &lt;script src=&quot;https://cdnjs.cloudflare.com/ajax/libs/Leaflet.awesome-markers/2.0.2/leaflet.awesome-markers.js&quot;&gt;&lt;/script&gt;\n",
              "    &lt;link rel=&quot;stylesheet&quot; href=&quot;https://cdn.jsdelivr.net/npm/leaflet@1.6.0/dist/leaflet.css&quot;/&gt;\n",
              "    &lt;link rel=&quot;stylesheet&quot; href=&quot;https://maxcdn.bootstrapcdn.com/bootstrap/3.2.0/css/bootstrap.min.css&quot;/&gt;\n",
              "    &lt;link rel=&quot;stylesheet&quot; href=&quot;https://maxcdn.bootstrapcdn.com/bootstrap/3.2.0/css/bootstrap-theme.min.css&quot;/&gt;\n",
              "    &lt;link rel=&quot;stylesheet&quot; href=&quot;https://maxcdn.bootstrapcdn.com/font-awesome/4.6.3/css/font-awesome.min.css&quot;/&gt;\n",
              "    &lt;link rel=&quot;stylesheet&quot; href=&quot;https://cdnjs.cloudflare.com/ajax/libs/Leaflet.awesome-markers/2.0.2/leaflet.awesome-markers.css&quot;/&gt;\n",
              "    &lt;link rel=&quot;stylesheet&quot; href=&quot;https://cdn.jsdelivr.net/gh/python-visualization/folium/folium/templates/leaflet.awesome.rotate.min.css&quot;/&gt;\n",
              "    \n",
              "            &lt;meta name=&quot;viewport&quot; content=&quot;width=device-width,\n",
              "                initial-scale=1.0, maximum-scale=1.0, user-scalable=no&quot; /&gt;\n",
              "            &lt;style&gt;\n",
              "                #map_ada0c9304dd40975132c1009c817ba34 {\n",
              "                    position: relative;\n",
              "                    width: 100.0%;\n",
              "                    height: 100.0%;\n",
              "                    left: 0.0%;\n",
              "                    top: 0.0%;\n",
              "                }\n",
              "            &lt;/style&gt;\n",
              "        \n",
              "    \n",
              "                    &lt;style&gt;\n",
              "                        .foliumtooltip {\n",
              "                            \n",
              "                        }\n",
              "                       .foliumtooltip table{\n",
              "                            margin: auto;\n",
              "                        }\n",
              "                        .foliumtooltip tr{\n",
              "                            text-align: left;\n",
              "                        }\n",
              "                        .foliumtooltip th{\n",
              "                            padding: 2px; padding-right: 8px;\n",
              "                        }\n",
              "                    &lt;/style&gt;\n",
              "            \n",
              "    \n",
              "                    &lt;style&gt;\n",
              "                        .foliumtooltip {\n",
              "                            \n",
              "                        }\n",
              "                       .foliumtooltip table{\n",
              "                            margin: auto;\n",
              "                        }\n",
              "                        .foliumtooltip tr{\n",
              "                            text-align: left;\n",
              "                        }\n",
              "                        .foliumtooltip th{\n",
              "                            padding: 2px; padding-right: 8px;\n",
              "                        }\n",
              "                    &lt;/style&gt;\n",
              "            \n",
              "    \n",
              "                    &lt;style&gt;\n",
              "                        .foliumtooltip {\n",
              "                            \n",
              "                        }\n",
              "                       .foliumtooltip table{\n",
              "                            margin: auto;\n",
              "                        }\n",
              "                        .foliumtooltip tr{\n",
              "                            text-align: left;\n",
              "                        }\n",
              "                        .foliumtooltip th{\n",
              "                            padding: 2px; padding-right: 8px;\n",
              "                        }\n",
              "                    &lt;/style&gt;\n",
              "            \n",
              "&lt;/head&gt;\n",
              "&lt;body&gt;\n",
              "    \n",
              "    \n",
              "            &lt;div class=&quot;folium-map&quot; id=&quot;map_ada0c9304dd40975132c1009c817ba34&quot; &gt;&lt;/div&gt;\n",
              "        \n",
              "&lt;/body&gt;\n",
              "&lt;script&gt;\n",
              "    \n",
              "    \n",
              "            var map_ada0c9304dd40975132c1009c817ba34 = L.map(\n",
              "                &quot;map_ada0c9304dd40975132c1009c817ba34&quot;,\n",
              "                {\n",
              "                    center: [51.997233941666664, 4.375938575833333],\n",
              "                    crs: L.CRS.EPSG3857,\n",
              "                    zoom: 10,\n",
              "                    zoomControl: true,\n",
              "                    preferCanvas: false,\n",
              "                }\n",
              "            );\n",
              "            L.control.scale().addTo(map_ada0c9304dd40975132c1009c817ba34);\n",
              "\n",
              "            \n",
              "\n",
              "        \n",
              "    \n",
              "            var tile_layer_10131f6cd5d4a97d25b9f562c7b77dbf = L.tileLayer(\n",
              "                &quot;https://{s}.tile.openstreetmap.org/{z}/{x}/{y}.png&quot;,\n",
              "                {&quot;attribution&quot;: &quot;Data by \\u0026copy; \\u003ca href=\\&quot;http://openstreetmap.org\\&quot;\\u003eOpenStreetMap\\u003c/a\\u003e, under \\u003ca href=\\&quot;http://www.openstreetmap.org/copyright\\&quot;\\u003eODbL\\u003c/a\\u003e.&quot;, &quot;detectRetina&quot;: false, &quot;maxNativeZoom&quot;: 18, &quot;maxZoom&quot;: 18, &quot;minZoom&quot;: 0, &quot;noWrap&quot;: false, &quot;opacity&quot;: 1, &quot;subdomains&quot;: &quot;abc&quot;, &quot;tms&quot;: false}\n",
              "            ).addTo(map_ada0c9304dd40975132c1009c817ba34);\n",
              "        \n",
              "    \n",
              "            map_ada0c9304dd40975132c1009c817ba34.fitBounds(\n",
              "                [[51.996997253333326, 4.37579416], [51.99747063, 4.376082991666666]],\n",
              "                {}\n",
              "            );\n",
              "        \n",
              "    \n",
              "        function geo_json_4035a31743468a7e4c7f561f0e23aeed_styler(feature) {\n",
              "            switch(feature.id) {\n",
              "                default:\n",
              "                    return {&quot;color&quot;: &quot;blue&quot;, &quot;fillColor&quot;: &quot;blue&quot;, &quot;fillOpacity&quot;: 0.5, &quot;weight&quot;: 2};\n",
              "            }\n",
              "        }\n",
              "        function geo_json_4035a31743468a7e4c7f561f0e23aeed_highlighter(feature) {\n",
              "            switch(feature.id) {\n",
              "                default:\n",
              "                    return {&quot;fillOpacity&quot;: 0.75};\n",
              "            }\n",
              "        }\n",
              "        function geo_json_4035a31743468a7e4c7f561f0e23aeed_pointToLayer(feature, latlng) {\n",
              "            var opts = {&quot;bubblingMouseEvents&quot;: true, &quot;color&quot;: &quot;#3388ff&quot;, &quot;dashArray&quot;: null, &quot;dashOffset&quot;: null, &quot;fill&quot;: true, &quot;fillColor&quot;: &quot;#3388ff&quot;, &quot;fillOpacity&quot;: 0.2, &quot;fillRule&quot;: &quot;evenodd&quot;, &quot;lineCap&quot;: &quot;round&quot;, &quot;lineJoin&quot;: &quot;round&quot;, &quot;opacity&quot;: 1.0, &quot;radius&quot;: 2, &quot;stroke&quot;: true, &quot;weight&quot;: 3};\n",
              "            \n",
              "            let style = geo_json_4035a31743468a7e4c7f561f0e23aeed_styler(feature)\n",
              "            Object.assign(opts, style)\n",
              "            \n",
              "            return new L.CircleMarker(latlng, opts)\n",
              "        }\n",
              "\n",
              "        function geo_json_4035a31743468a7e4c7f561f0e23aeed_onEachFeature(feature, layer) {\n",
              "            layer.on({\n",
              "                mouseout: function(e) {\n",
              "                    if(typeof e.target.setStyle === &quot;function&quot;){\n",
              "                        geo_json_4035a31743468a7e4c7f561f0e23aeed.resetStyle(e.target);\n",
              "                    }\n",
              "                },\n",
              "                mouseover: function(e) {\n",
              "                    if(typeof e.target.setStyle === &quot;function&quot;){\n",
              "                        const highlightStyle = geo_json_4035a31743468a7e4c7f561f0e23aeed_highlighter(e.target.feature)\n",
              "                        e.target.setStyle(highlightStyle);\n",
              "                    }\n",
              "                },\n",
              "            });\n",
              "        };\n",
              "        var geo_json_4035a31743468a7e4c7f561f0e23aeed = L.geoJson(null, {\n",
              "                onEachFeature: geo_json_4035a31743468a7e4c7f561f0e23aeed_onEachFeature,\n",
              "            \n",
              "                style: geo_json_4035a31743468a7e4c7f561f0e23aeed_styler,\n",
              "                pointToLayer: geo_json_4035a31743468a7e4c7f561f0e23aeed_pointToLayer\n",
              "        });\n",
              "\n",
              "        function geo_json_4035a31743468a7e4c7f561f0e23aeed_add (data) {\n",
              "            geo_json_4035a31743468a7e4c7f561f0e23aeed\n",
              "                .addData(data)\n",
              "                .addTo(map_ada0c9304dd40975132c1009c817ba34);\n",
              "        }\n",
              "            geo_json_4035a31743468a7e4c7f561f0e23aeed_add({&quot;bbox&quot;: [4.37579416, 51.996997253333326, 4.376082991666666, 51.99747063], &quot;features&quot;: [{&quot;bbox&quot;: [4.375984248333332, 51.99730639333334, 4.376082991666666, 51.99747063], &quot;geometry&quot;: {&quot;coordinates&quot;: [[4.376082991666666, 51.99747063, 42.66542], [4.376070901666667, 51.99744949166668, 42.63942], [4.376071250000001, 51.99744916, 42.632419999999996], [4.376071013333334, 51.99744919166666, 42.63442], [4.376070926666667, 51.99744919833333, 42.63442], [4.376070416666667, 51.99744777833333, 42.67942], [4.37606734, 51.99744145833333, 42.66942], [4.376062026666666, 51.997432495, 42.67442], [4.376055893333334, 51.99742373666666, 42.71942], [4.376047608333334, 51.99741650833332, 42.71242], [4.3760353499999995, 51.997411854999996, 42.67742], [4.376021988333333, 51.997410215, 42.68542], [4.376008231666667, 51.99741190833333, 42.638419999999996], [4.375997768333334, 51.99741720166667, 42.638419999999996], [4.375993865, 51.99742463333334, 42.63442], [4.375995648333333, 51.997432828333324, 42.63142], [4.376005593333333, 51.99743770166666, 42.64642], [4.376018494999999, 51.99743877666666, 42.66642], [4.376031483333333, 51.997435143333334, 42.684419999999996], [4.3760420149999995, 51.99742885333333, 42.69142], [4.376047863333333, 51.99742119166667, 42.66042], [4.376049973333334, 51.99741621166666, 42.61042], [4.376050143333333, 51.99741582, 42.59042], [4.376050266666666, 51.99741542833333, 42.59142], [4.376049933333333, 51.99741468333333, 42.59342], [4.375984248333332, 51.99730663333334, 42.818419999999996], [4.375984333333334, 51.99730639333334, 42.81142]], &quot;type&quot;: &quot;LineString&quot;}, &quot;id&quot;: &quot;0&quot;, &quot;properties&quot;: {&quot;FID&quot;: &quot;3&quot;, &quot;UUID&quot;: &quot;867bd8a8-578f-462f-a1e5-ac3644c6bc39&quot;, &quot;__folium_color&quot;: &quot;blue&quot;, &quot;_description&quot;: &quot;&quot;, &quot;_length&quot;: 30.440912252945836, &quot;alignment&quot;: &quot;border&quot;, &quot;remarks&quot;: &quot;&quot;, &quot;type&quot;: &quot;road&quot;}, &quot;type&quot;: &quot;Feature&quot;}, {&quot;bbox&quot;: [4.375912753333334, 51.99716288, 4.3759839849999995, 51.99730596666666], &quot;geometry&quot;: {&quot;coordinates&quot;: [[4.3759839849999995, 51.99730596666666, 42.81142], [4.375912753333334, 51.997191599999994, 43.105419999999995], [4.375927056666667, 51.99716288, 43.07542], [4.375940131666666, 51.997184355, 43.13742], [4.375968703333333, 51.997233738333335, 43.16242]], &quot;type&quot;: &quot;LineString&quot;}, &quot;id&quot;: &quot;1&quot;, &quot;properties&quot;: {&quot;FID&quot;: &quot;4&quot;, &quot;UUID&quot;: &quot;99b3b2eb-f81a-4745-849f-368afb296b2b&quot;, &quot;__folium_color&quot;: &quot;blue&quot;, &quot;_description&quot;: &quot;&quot;, &quot;_length&quot;: 25.33966700065109, &quot;alignment&quot;: &quot;border&quot;, &quot;remarks&quot;: &quot;&quot;, &quot;type&quot;: &quot;road&quot;}, &quot;type&quot;: &quot;Feature&quot;}, {&quot;bbox&quot;: [4.37579416, 51.996997253333326, 4.375886073333334, 51.99712714333334], &quot;geometry&quot;: {&quot;coordinates&quot;: [[4.375873801666667, 51.99712714333334, 43.11042], [4.37579416, 51.996997253333326, 42.75542], [4.3758299716666675, 51.997006308333326, 42.75042], [4.375886073333334, 51.99709743333333, 43.59042]], &quot;type&quot;: &quot;LineString&quot;}, &quot;id&quot;: &quot;2&quot;, &quot;properties&quot;: {&quot;FID&quot;: &quot;5&quot;, &quot;UUID&quot;: &quot;af83b7ba-f2be-44d7-9f5f-d373ddee2d8b&quot;, &quot;__folium_color&quot;: &quot;blue&quot;, &quot;_description&quot;: &quot;&quot;, &quot;_length&quot;: 28.924730594919378, &quot;alignment&quot;: &quot;border&quot;, &quot;remarks&quot;: &quot;&quot;, &quot;type&quot;: &quot;pedestrian&quot;}, &quot;type&quot;: &quot;Feature&quot;}, {&quot;bbox&quot;: [4.3758948166666665, 51.99707340666667, 4.375956938333333, 51.997107025], &quot;geometry&quot;: {&quot;coordinates&quot;: [[4.3758948166666665, 51.99709974333333, 42.79242], [4.375900698333334, 51.99708349999999, 42.79242], [4.375900548333334, 51.99708351166667, 42.79342], [4.375900388333334, 51.997083585000006, 42.79642], [4.375900241666667, 51.99708354333334, 42.797419999999995], [4.375900286666666, 51.99708358833334, 42.79942], [4.375900338333333, 51.99708351833333, 42.79442], [4.3759025099999995, 51.99708152, 42.81642], [4.375910393333334, 51.99707665333334, 42.84842], [4.3759248699999995, 51.99707507, 42.86342], [4.375939863333333, 51.997079036666676, 42.83942], [4.375949853333333, 51.99708627166667, 42.81642], [4.375951518333333, 51.99709563833334, 42.79642], [4.375944114999999, 51.99710341, 42.77042], [4.37592915, 51.997107025, 42.79542], [4.375912941666667, 51.997106560000006, 42.79642], [4.375902051666667, 51.99710169500001, 42.83042], [4.375896886666666, 51.99709534833334, 42.83942], [4.375897326666667, 51.997091653333335, 42.79942], [4.375896695, 51.99709136500001, 42.803419999999996], [4.375897564999999, 51.997091, 42.79542], [4.375897508333334, 51.997091066666655, 42.79542], [4.375897395, 51.997091165, 42.79542], [4.375897265000001, 51.99709106499999, 42.797419999999995], [4.375897404999999, 51.99709100333333, 42.79642], [4.375897545000001, 51.99709102166667, 42.79842], [4.375897393333333, 51.99709100499999, 42.79542], [4.375897654999999, 51.99709102333333, 42.79542], [4.375899528333334, 51.997089786666656, 42.85742], [4.375902215000001, 51.99708689833333, 42.90942], [4.375906825, 51.99708132166667, 42.95542], [4.375915119999999, 51.99707593500001, 42.96642], [4.375928683333333, 51.99707340666667, 42.95442], [4.375941391666667, 51.99707482666666, 42.93042], [4.375953031666667, 51.997078391666676, 42.928419999999996], [4.375956938333333, 51.99708441333334, 42.91742], [4.3759551566666675, 51.99709240666666, 42.89142], [4.375948691666667, 51.99709968166666, 42.934419999999996], [4.375936168333333, 51.997103974999995, 42.92342], [4.37592235, 51.997106028333334, 42.92642], [4.375909226666667, 51.99710333666666, 42.93242], [4.3759012749999995, 51.99709852666667, 42.94542], [4.375900201666666, 51.997094735000005, 42.88442], [4.375899736666667, 51.99709187166667, 42.809419999999996], [4.37589892, 51.997091063333336, 42.79942], [4.375899005, 51.99709097333333, 42.80442]], &quot;type&quot;: &quot;LineString&quot;}, &quot;id&quot;: &quot;3&quot;, &quot;properties&quot;: {&quot;FID&quot;: &quot;6&quot;, &quot;UUID&quot;: &quot;fdab2c37-7add-4902-abf3-b3036873a6ce&quot;, &quot;__folium_color&quot;: &quot;blue&quot;, &quot;_description&quot;: &quot;&quot;, &quot;_length&quot;: 24.601319449612394, &quot;alignment&quot;: &quot;border&quot;, &quot;remarks&quot;: &quot;&quot;, &quot;type&quot;: &quot;road&quot;}, &quot;type&quot;: &quot;Feature&quot;}], &quot;type&quot;: &quot;FeatureCollection&quot;});\n",
              "\n",
              "        \n",
              "    \n",
              "    geo_json_4035a31743468a7e4c7f561f0e23aeed.bindTooltip(\n",
              "    function(layer){\n",
              "    let div = L.DomUtil.create(&#x27;div&#x27;);\n",
              "    \n",
              "    let handleObject = feature=&gt;typeof(feature)==&#x27;object&#x27; ? JSON.stringify(feature) : feature;\n",
              "    let fields = [&quot;UUID&quot;, &quot;FID&quot;, &quot;_description&quot;, &quot;_length&quot;, &quot;type&quot;, &quot;alignment&quot;, &quot;remarks&quot;];\n",
              "    let aliases = [&quot;UUID&quot;, &quot;FID&quot;, &quot;_description&quot;, &quot;_length&quot;, &quot;type&quot;, &quot;alignment&quot;, &quot;remarks&quot;];\n",
              "    let table = &#x27;&lt;table&gt;&#x27; +\n",
              "        String(\n",
              "        fields.map(\n",
              "        (v,i)=&gt;\n",
              "        `&lt;tr&gt;\n",
              "            &lt;th&gt;${aliases[i]}&lt;/th&gt;\n",
              "            \n",
              "            &lt;td&gt;${handleObject(layer.feature.properties[v])}&lt;/td&gt;\n",
              "        &lt;/tr&gt;`).join(&#x27;&#x27;))\n",
              "    +&#x27;&lt;/table&gt;&#x27;;\n",
              "    div.innerHTML=table;\n",
              "    \n",
              "    return div\n",
              "    }\n",
              "    ,{&quot;className&quot;: &quot;foliumtooltip&quot;, &quot;sticky&quot;: true});\n",
              "                     \n",
              "    \n",
              "        function geo_json_4975c4b2c81c92f3e455b4aa757daa26_styler(feature) {\n",
              "            switch(feature.id) {\n",
              "                default:\n",
              "                    return {&quot;color&quot;: &quot;red&quot;, &quot;fillColor&quot;: &quot;red&quot;, &quot;fillOpacity&quot;: 0.5, &quot;weight&quot;: 2};\n",
              "            }\n",
              "        }\n",
              "        function geo_json_4975c4b2c81c92f3e455b4aa757daa26_highlighter(feature) {\n",
              "            switch(feature.id) {\n",
              "                default:\n",
              "                    return {&quot;fillOpacity&quot;: 0.75};\n",
              "            }\n",
              "        }\n",
              "        function geo_json_4975c4b2c81c92f3e455b4aa757daa26_pointToLayer(feature, latlng) {\n",
              "            var opts = {&quot;bubblingMouseEvents&quot;: true, &quot;color&quot;: &quot;#3388ff&quot;, &quot;dashArray&quot;: null, &quot;dashOffset&quot;: null, &quot;fill&quot;: true, &quot;fillColor&quot;: &quot;#3388ff&quot;, &quot;fillOpacity&quot;: 0.2, &quot;fillRule&quot;: &quot;evenodd&quot;, &quot;lineCap&quot;: &quot;round&quot;, &quot;lineJoin&quot;: &quot;round&quot;, &quot;opacity&quot;: 1.0, &quot;radius&quot;: 2, &quot;stroke&quot;: true, &quot;weight&quot;: 3};\n",
              "            \n",
              "            let style = geo_json_4975c4b2c81c92f3e455b4aa757daa26_styler(feature)\n",
              "            Object.assign(opts, style)\n",
              "            \n",
              "            return new L.CircleMarker(latlng, opts)\n",
              "        }\n",
              "\n",
              "        function geo_json_4975c4b2c81c92f3e455b4aa757daa26_onEachFeature(feature, layer) {\n",
              "            layer.on({\n",
              "                mouseout: function(e) {\n",
              "                    if(typeof e.target.setStyle === &quot;function&quot;){\n",
              "                        geo_json_4975c4b2c81c92f3e455b4aa757daa26.resetStyle(e.target);\n",
              "                    }\n",
              "                },\n",
              "                mouseover: function(e) {\n",
              "                    if(typeof e.target.setStyle === &quot;function&quot;){\n",
              "                        const highlightStyle = geo_json_4975c4b2c81c92f3e455b4aa757daa26_highlighter(e.target.feature)\n",
              "                        e.target.setStyle(highlightStyle);\n",
              "                    }\n",
              "                },\n",
              "            });\n",
              "        };\n",
              "        var geo_json_4975c4b2c81c92f3e455b4aa757daa26 = L.geoJson(null, {\n",
              "                onEachFeature: geo_json_4975c4b2c81c92f3e455b4aa757daa26_onEachFeature,\n",
              "            \n",
              "                style: geo_json_4975c4b2c81c92f3e455b4aa757daa26_styler,\n",
              "                pointToLayer: geo_json_4975c4b2c81c92f3e455b4aa757daa26_pointToLayer\n",
              "        });\n",
              "\n",
              "        function geo_json_4975c4b2c81c92f3e455b4aa757daa26_add (data) {\n",
              "            geo_json_4975c4b2c81c92f3e455b4aa757daa26\n",
              "                .addData(data)\n",
              "                .addTo(map_ada0c9304dd40975132c1009c817ba34);\n",
              "        }\n",
              "            geo_json_4975c4b2c81c92f3e455b4aa757daa26_add({&quot;bbox&quot;: [4.375868448333334, 51.997075204999994, 4.375871558333333, 51.99711651], &quot;features&quot;: [{&quot;bbox&quot;: [4.375868448333334, 51.99711651, 4.375868448333334, 51.99711651], &quot;geometry&quot;: {&quot;coordinates&quot;: [4.375868448333334, 51.99711651, 43.16642], &quot;type&quot;: &quot;Point&quot;}, &quot;id&quot;: &quot;0&quot;, &quot;properties&quot;: {&quot;FID&quot;: &quot;1&quot;, &quot;UUID&quot;: &quot;f3df39c0-e7aa-4124-9153-bc6a1f3f2e4a&quot;, &quot;__folium_color&quot;: &quot;red&quot;, &quot;_description&quot;: &quot;&quot;, &quot;control_point&quot;: &quot;yes&quot;, &quot;elevation&quot;: 43.16642, &quot;fix_id&quot;: 4, &quot;latitude&quot;: 51.99711651, &quot;longitude&quot;: 4.375868448333334, &quot;name&quot;: &quot;a1&quot;, &quot;ortho_ht&quot;: 0.0, &quot;remarks&quot;: &quot;&quot;, &quot;time&quot;: &quot;13-02-2023 13:18:29.000 CET&quot;}, &quot;type&quot;: &quot;Feature&quot;}, {&quot;bbox&quot;: [4.375871558333333, 51.997075204999994, 4.375871558333333, 51.997075204999994], &quot;geometry&quot;: {&quot;coordinates&quot;: [4.375871558333333, 51.997075204999994, 43.178419999999996], &quot;type&quot;: &quot;Point&quot;}, &quot;id&quot;: &quot;1&quot;, &quot;properties&quot;: {&quot;FID&quot;: &quot;2&quot;, &quot;UUID&quot;: &quot;d5d504c2-324b-41f0-8278-bb0ff06cec46&quot;, &quot;__folium_color&quot;: &quot;red&quot;, &quot;_description&quot;: &quot;&quot;, &quot;control_point&quot;: &quot;yes&quot;, &quot;elevation&quot;: 43.178419999999996, &quot;fix_id&quot;: 4, &quot;latitude&quot;: 51.997075204999994, &quot;longitude&quot;: 4.375871558333333, &quot;name&quot;: &quot;a2&quot;, &quot;ortho_ht&quot;: 0.0, &quot;remarks&quot;: &quot;&quot;, &quot;time&quot;: &quot;13-02-2023 13:19:18.000 CET&quot;}, &quot;type&quot;: &quot;Feature&quot;}], &quot;type&quot;: &quot;FeatureCollection&quot;});\n",
              "\n",
              "        \n",
              "    \n",
              "    geo_json_4975c4b2c81c92f3e455b4aa757daa26.bindTooltip(\n",
              "    function(layer){\n",
              "    let div = L.DomUtil.create(&#x27;div&#x27;);\n",
              "    \n",
              "    let handleObject = feature=&gt;typeof(feature)==&#x27;object&#x27; ? JSON.stringify(feature) : feature;\n",
              "    let fields = [&quot;UUID&quot;, &quot;FID&quot;, &quot;_description&quot;, &quot;latitude&quot;, &quot;longitude&quot;, &quot;elevation&quot;, &quot;ortho_ht&quot;, &quot;time&quot;, &quot;fix_id&quot;, &quot;name&quot;, &quot;control_point&quot;, &quot;remarks&quot;];\n",
              "    let aliases = [&quot;UUID&quot;, &quot;FID&quot;, &quot;_description&quot;, &quot;latitude&quot;, &quot;longitude&quot;, &quot;elevation&quot;, &quot;ortho_ht&quot;, &quot;time&quot;, &quot;fix_id&quot;, &quot;name&quot;, &quot;control_point&quot;, &quot;remarks&quot;];\n",
              "    let table = &#x27;&lt;table&gt;&#x27; +\n",
              "        String(\n",
              "        fields.map(\n",
              "        (v,i)=&gt;\n",
              "        `&lt;tr&gt;\n",
              "            &lt;th&gt;${aliases[i]}&lt;/th&gt;\n",
              "            \n",
              "            &lt;td&gt;${handleObject(layer.feature.properties[v])}&lt;/td&gt;\n",
              "        &lt;/tr&gt;`).join(&#x27;&#x27;))\n",
              "    +&#x27;&lt;/table&gt;&#x27;;\n",
              "    div.innerHTML=table;\n",
              "    \n",
              "    return div\n",
              "    }\n",
              "    ,{&quot;className&quot;: &quot;foliumtooltip&quot;, &quot;sticky&quot;: true});\n",
              "                     \n",
              "    \n",
              "        function geo_json_2550e18de320de50fb2eca3a8c15cd32_styler(feature) {\n",
              "            switch(feature.id) {\n",
              "                default:\n",
              "                    return {&quot;color&quot;: &quot;green&quot;, &quot;fillColor&quot;: &quot;green&quot;, &quot;fillOpacity&quot;: 0.5, &quot;weight&quot;: 2};\n",
              "            }\n",
              "        }\n",
              "        function geo_json_2550e18de320de50fb2eca3a8c15cd32_highlighter(feature) {\n",
              "            switch(feature.id) {\n",
              "                default:\n",
              "                    return {&quot;fillOpacity&quot;: 0.75};\n",
              "            }\n",
              "        }\n",
              "        function geo_json_2550e18de320de50fb2eca3a8c15cd32_pointToLayer(feature, latlng) {\n",
              "            var opts = {&quot;bubblingMouseEvents&quot;: true, &quot;color&quot;: &quot;#3388ff&quot;, &quot;dashArray&quot;: null, &quot;dashOffset&quot;: null, &quot;fill&quot;: true, &quot;fillColor&quot;: &quot;#3388ff&quot;, &quot;fillOpacity&quot;: 0.2, &quot;fillRule&quot;: &quot;evenodd&quot;, &quot;lineCap&quot;: &quot;round&quot;, &quot;lineJoin&quot;: &quot;round&quot;, &quot;opacity&quot;: 1.0, &quot;radius&quot;: 2, &quot;stroke&quot;: true, &quot;weight&quot;: 3};\n",
              "            \n",
              "            let style = geo_json_2550e18de320de50fb2eca3a8c15cd32_styler(feature)\n",
              "            Object.assign(opts, style)\n",
              "            \n",
              "            return new L.CircleMarker(latlng, opts)\n",
              "        }\n",
              "\n",
              "        function geo_json_2550e18de320de50fb2eca3a8c15cd32_onEachFeature(feature, layer) {\n",
              "            layer.on({\n",
              "                mouseout: function(e) {\n",
              "                    if(typeof e.target.setStyle === &quot;function&quot;){\n",
              "                        geo_json_2550e18de320de50fb2eca3a8c15cd32.resetStyle(e.target);\n",
              "                    }\n",
              "                },\n",
              "                mouseover: function(e) {\n",
              "                    if(typeof e.target.setStyle === &quot;function&quot;){\n",
              "                        const highlightStyle = geo_json_2550e18de320de50fb2eca3a8c15cd32_highlighter(e.target.feature)\n",
              "                        e.target.setStyle(highlightStyle);\n",
              "                    }\n",
              "                },\n",
              "            });\n",
              "        };\n",
              "        var geo_json_2550e18de320de50fb2eca3a8c15cd32 = L.geoJson(null, {\n",
              "                onEachFeature: geo_json_2550e18de320de50fb2eca3a8c15cd32_onEachFeature,\n",
              "            \n",
              "                style: geo_json_2550e18de320de50fb2eca3a8c15cd32_styler,\n",
              "                pointToLayer: geo_json_2550e18de320de50fb2eca3a8c15cd32_pointToLayer\n",
              "        });\n",
              "\n",
              "        function geo_json_2550e18de320de50fb2eca3a8c15cd32_add (data) {\n",
              "            geo_json_2550e18de320de50fb2eca3a8c15cd32\n",
              "                .addData(data)\n",
              "                .addTo(map_ada0c9304dd40975132c1009c817ba34);\n",
              "        }\n",
              "            geo_json_2550e18de320de50fb2eca3a8c15cd32_add({&quot;bbox&quot;: [4.375848583333333, 51.99723477833333, 4.37607664, 51.9974051], &quot;features&quot;: [{&quot;bbox&quot;: [4.37602564, 51.99740502166666, 4.3760257566666665, 51.9974051], &quot;geometry&quot;: {&quot;coordinates&quot;: [[4.376025721666666, 51.99740507833334, 42.54842], [4.376025705, 51.997405065, 42.54842], [4.376025688333333, 51.99740506, 42.550419999999995], [4.376025718333333, 51.99740506333333, 42.54842], [4.376025731666667, 51.997405066666666, 42.55742], [4.376025733333334, 51.997405046666664, 42.553419999999996], [4.3760257566666665, 51.99740503166666, 42.556419999999996], [4.376025686666666, 51.997405045, 42.54942], [4.376025660000001, 51.99740505166666, 42.550419999999995], [4.37602569, 51.997405045, 42.550419999999995], [4.376025703333334, 51.99740506166666, 42.55142], [4.376025701666666, 51.99740506, 42.55142], [4.376025684999999, 51.99740505333333, 42.55442], [4.376025688333333, 51.997405056666665, 42.54842], [4.376025673333333, 51.997405068333336, 42.550419999999995], [4.376025673333333, 51.99740508166666, 42.550419999999995], [4.37602564, 51.9974051, 42.553419999999996], [4.376025695, 51.99740506166666, 42.550419999999995], [4.376025708333334, 51.997405055, 42.553419999999996], [4.376025666666666, 51.99740505333333, 42.553419999999996], [4.376025688333333, 51.99740503833333, 42.55442], [4.376025681666667, 51.997405068333336, 42.55242], [4.376025671666667, 51.99740507833334, 42.54842], [4.3760256616666675, 51.99740507833334, 42.550419999999995], [4.376025681666667, 51.99740507333332, 42.54942], [4.3760257, 51.99740505333333, 42.55442], [4.37602573, 51.997405055, 42.556419999999996], [4.376025725, 51.99740507, 42.55442], [4.37602573, 51.99740505, 42.55742], [4.37602569, 51.99740507833334, 42.54942], [4.376025676666667, 51.99740508333332, 42.54542], [4.376025716666666, 51.99740507166666, 42.550419999999995], [4.376025723333333, 51.99740509, 42.55542], [4.3760257283333335, 51.99740508333332, 42.55542], [4.376025705, 51.997405075, 42.550419999999995], [4.376025681666667, 51.99740508, 42.547419999999995], [4.376025668333333, 51.997405076666666, 42.54542], [4.376025681666667, 51.99740509833334, 42.547419999999995], [4.376025693333333, 51.99740508, 42.55142], [4.37602567, 51.99740509, 42.54842], [4.37602567, 51.99740509333332, 42.55142], [4.376025666666666, 51.99740506166666, 42.55442], [4.376025701666666, 51.997405065, 42.553419999999996], [4.376025678333334, 51.997405075, 42.550419999999995], [4.376025681666667, 51.997405085000004, 42.55142], [4.376025688333333, 51.99740508166666, 42.54842], [4.376025686666666, 51.99740508166666, 42.54842], [4.376025701666666, 51.997405055, 42.54942], [4.376025701666666, 51.99740506, 42.550419999999995], [4.376025696666667, 51.99740506333333, 42.54942], [4.3760257283333335, 51.99740503833333, 42.55442], [4.37602573, 51.99740503833333, 42.55842], [4.376025711666667, 51.99740503166666, 42.553419999999996], [4.376025725, 51.997405035, 42.550419999999995], [4.376025739999999, 51.99740502166666, 42.55242], [4.376025701666666, 51.99740503666666, 42.55242], [4.376025703333334, 51.99740503166666, 42.55442], [4.376025715000001, 51.99740504, 42.55742], [4.376025708333334, 51.997405025, 42.55542]], &quot;type&quot;: &quot;LineString&quot;}, &quot;id&quot;: &quot;0&quot;, &quot;properties&quot;: {&quot;UUID&quot;: &quot;b7862745-0e9c-4a42-b742-8b3c19257840&quot;, &quot;__folium_color&quot;: &quot;green&quot;, &quot;end_time&quot;: &quot;13-02-2023 13:22:34.000 CET&quot;, &quot;remarks&quot;: &quot;&quot;, &quot;start_time&quot;: &quot;13-02-2023 13:21:33.000 CET&quot;}, &quot;type&quot;: &quot;Feature&quot;}, {&quot;bbox&quot;: [4.375848583333333, 51.99723477833333, 4.37607664, 51.99737418666667], &quot;geometry&quot;: {&quot;coordinates&quot;: [[4.37589283, 51.997235685, 43.04542], [4.375893146666666, 51.99723558166667, 43.04942], [4.375894163333334, 51.997236046666664, 43.123419999999996], [4.3758946199999995, 51.99723655333334, 43.19142], [4.37590097, 51.997238191666675, 43.254419999999996], [4.37590702, 51.997239591666656, 43.29242], [4.375916708333334, 51.99724136666667, 43.32342], [4.375926791666667, 51.99724341666667, 43.312419999999996], [4.375938156666667, 51.997245985, 43.25942], [4.375949996666667, 51.997248993333336, 43.20942], [4.375962748333333, 51.99725187166667, 43.20042], [4.375974236666667, 51.997254731666665, 43.16142], [4.3759851266666665, 51.99725822166667, 43.13642], [4.375996016666666, 51.997261806666664, 43.132419999999996], [4.376005765, 51.997265016666674, 43.16042], [4.376015983333334, 51.99726728166667, 43.12142], [4.376025888333333, 51.997269981666676, 43.02542], [4.376035558333334, 51.99727189000001, 42.92142], [4.376046028333333, 51.99727407000001, 42.81142], [4.376055539999999, 51.997276931666654, 42.72042], [4.3760630449999995, 51.997279183333326, 42.66242], [4.376070666666666, 51.99728129666667, 42.58042], [4.37607664, 51.99728435000001, 42.54042], [4.376075778333333, 51.99728938333333, 42.52342], [4.376072476666667, 51.997295433333335, 42.50242], [4.376068033333333, 51.99730029166667, 42.50642], [4.376059558333333, 51.99729993999999, 42.49642], [4.376049178333333, 51.99729709666667, 42.56142], [4.376035388333333, 51.997294839999995, 42.672419999999995], [4.376028, 51.997293138333326, 42.83242], [4.37601884, 51.997291716666666, 42.89842], [4.376010233333333, 51.99728901833334, 42.934419999999996], [4.375999123333333, 51.997287218333334, 42.98742], [4.37598749, 51.997283908333344, 43.00342], [4.375975775, 51.99728077333333, 43.059419999999996], [4.375963518333333, 51.997277615, 43.07942], [4.375951416666666, 51.99727481833334, 43.09242], [4.375939461666667, 51.99727179833334, 43.11842], [4.3759275083333335, 51.99726870833333, 43.199419999999996], [4.37591756, 51.99726556166667, 43.32642], [4.375907151666667, 51.99726347666666, 43.367419999999996], [4.375896246666667, 51.99726278333333, 43.34142], [4.375887648333333, 51.997262231666674, 43.31042], [4.375882825000001, 51.99726181999999, 43.233419999999995], [4.375880901666667, 51.997265578333334, 43.20242], [4.3758791583333325, 51.99727224166666, 43.18942], [4.3758759, 51.99727849999999, 43.18242], [4.375875658333333, 51.997282846666664, 43.17342], [4.375875696666667, 51.997282625, 43.18842], [4.37588043, 51.99728428499999, 43.27942], [4.375890856666666, 51.99728715166666, 43.36342], [4.375901951666666, 51.997288756666656, 43.370419999999996], [4.375912329999999, 51.99729176166667, 43.30742], [4.375924331666668, 51.99729381833333, 43.23742], [4.3759357, 51.99729683666666, 43.11842], [4.375947616666667, 51.997299375, 43.06642], [4.375959610000001, 51.99730218166666, 42.99642], [4.375971851666668, 51.997304838333335, 42.97042], [4.375983736666667, 51.99730751166666, 42.888419999999996], [4.375995211666666, 51.99731055000001, 42.85942], [4.376006309999999, 51.997314169999996, 42.82942], [4.376018286666667, 51.99731711333334, 42.78842], [4.376030494999999, 51.99731956333334, 42.739419999999996], [4.37604199, 51.99732244166667, 42.70142], [4.3760523383333325, 51.997325215000004, 42.66042], [4.376055121666667, 51.99732726333334, 42.67642], [4.37605258, 51.99733072666666, 42.66542], [4.376051018333334, 51.99733654166666, 42.68942], [4.3760467400000005, 51.99734249833334, 42.70242], [4.376043131666666, 51.99734943166666, 42.64842], [4.376039890000001, 51.99735392333334, 42.65942], [4.376033678333334, 51.997353765, 42.63342], [4.376023104999999, 51.99735132000001, 42.672419999999995], [4.376009476666666, 51.99734773666667, 42.66242], [4.37599612, 51.997345210000006, 42.70942], [4.375983133333333, 51.997341875, 42.77242], [4.3759704416666665, 51.997338826666656, 42.85042], [4.375956911666666, 51.99733536833334, 42.96142], [4.375943776666667, 51.99733212333334, 43.11242], [4.375931516666667, 51.99732947000001, 43.22842], [4.3759196849999995, 51.997326595000004, 43.297419999999995], [4.375907175000001, 51.99732420833334, 43.38942], [4.375895794999999, 51.997322158333326, 43.449419999999996], [4.375884075000001, 51.99732020500001, 43.42342], [4.375872683333333, 51.997318815, 43.364419999999996], [4.375862651666667, 51.9973169, 43.23142], [4.375857483333333, 51.99731628999999, 43.17642], [4.375853661666666, 51.997319466666674, 43.15042], [4.375850440000001, 51.99732625833333, 43.16742], [4.375848583333333, 51.99733261166666, 43.199419999999996], [4.375849059999999, 51.99733495166667, 43.21642], [4.375850678333333, 51.99733676833333, 43.22242], [4.375861186666667, 51.99733880499999, 43.33542], [4.375874793333333, 51.99734076333334, 43.422419999999995], [4.375888370000001, 51.99734296500001, 43.501419999999996], [4.375899021666666, 51.997346245, 43.45042], [4.375911944999999, 51.9973488, 43.39642], [4.375925336666667, 51.99735171333334, 43.30542], [4.3759376350000005, 51.99735414166666, 43.193419999999996], [4.375949763333334, 51.99735643499999, 43.059419999999996], [4.375960911666667, 51.99735953833333, 42.934419999999996], [4.375973088333333, 51.997364128333324, 42.760419999999996], [4.3759855283333335, 51.997367191666676, 42.70742], [4.375997380000001, 51.99737014666667, 42.66442], [4.376005981666665, 51.99737304, 42.63142], [4.376008114999999, 51.99737418666667, 42.63942], [4.376011385000001, 51.99737008333333, 42.61242], [4.376017383333333, 51.99736428666667, 42.61642], [4.37602358, 51.99735602333334, 42.638419999999996], [4.3760278800000005, 51.99734813166666, 42.65242], [4.376033636666667, 51.99734057166666, 42.67042], [4.376038986666667, 51.99733237, 42.71442], [4.376043756666666, 51.99732540666667, 42.66842], [4.376048043333334, 51.99731775166667, 42.63042], [4.376054060000001, 51.99731, 42.55842], [4.376059086666667, 51.997301873333335, 42.52042], [4.376064571666667, 51.99729542166666, 42.53942], [4.3760663583333335, 51.997289245000005, 42.53342], [4.376065291666667, 51.99728669500001, 42.54942], [4.376058076666667, 51.99728364166667, 42.61042], [4.37604792, 51.99728103666666, 42.70442], [4.376041151666667, 51.99728120166667, 42.78642], [4.376035233333334, 51.997283906666674, 42.84042], [4.376031738333333, 51.997290344999996, 42.82942], [4.376028643333333, 51.99729783666666, 42.809419999999996], [4.376025056666666, 51.99730538333333, 42.82342], [4.376019048333333, 51.997314374999995, 42.80142], [4.376014785000001, 51.99732245, 42.75542], [4.376010013333333, 51.997330690000005, 42.74142], [4.3760037816666655, 51.99733926833333, 42.72842], [4.375997433333333, 51.99734758500001, 42.70542], [4.375993273333333, 51.99735471333334, 42.72142], [4.375987383333333, 51.997359565000004, 42.696419999999996], [4.375978821666667, 51.99736141499999, 42.72242], [4.375967841666666, 51.99735970166666, 42.81742], [4.375957751666666, 51.997358128333325, 42.93342], [4.375950236666667, 51.99735554833334, 43.04042], [4.375948988333333, 51.997352235, 43.044419999999995], [4.375953501666666, 51.997345556666666, 43.03442], [4.375958615, 51.99733805166667, 42.97742], [4.3759625516666665, 51.99732994999999, 42.98142], [4.375967263333334, 51.99732236833333, 42.95142], [4.375972170000001, 51.997314794999994, 42.94142], [4.375978933333334, 51.997305900000015, 42.90042], [4.375983023333333, 51.997296821666666, 42.95142], [4.3759872699999995, 51.997289378333335, 42.99642], [4.375991698333333, 51.99728159166666, 43.004419999999996], [4.375995725, 51.99727455166667, 43.074419999999996], [4.376001148333334, 51.997267216666664, 43.123419999999996], [4.376005086666667, 51.997261553333324, 43.20742], [4.37600139, 51.997259441666664, 43.22542], [4.375990748333333, 51.99725587166665, 43.21642], [4.375980286666667, 51.997252466666666, 43.19842], [4.375971241666666, 51.99725148666666, 43.20042], [4.375966581666667, 51.99725174333333, 43.19742], [4.375962976666666, 51.997257929999996, 43.19842], [4.375960849999999, 51.997266280000005, 43.129419999999996], [4.375959938333333, 51.99727467500001, 43.07542], [4.375955153333334, 51.997284265000005, 43.00042], [4.375952323333333, 51.997292904999995, 42.989419999999996], [4.375950146666668, 51.997301586666666, 43.04942], [4.375947106666666, 51.99730976166667, 43.08042], [4.375942248333334, 51.99731772, 43.105419999999995], [4.375938729999999, 51.997326065, 43.15042], [4.375937071666666, 51.997334134999996, 43.20242], [4.375934446666666, 51.99734136666667, 43.21342], [4.37593166, 51.997349066666665, 43.22342], [4.375927571666666, 51.99735590833333, 43.26942], [4.37592131, 51.99736076000001, 43.236419999999995], [4.375908723333334, 51.997360215, 43.39742], [4.375899368333332, 51.99735839833334, 43.48842], [4.375889495000001, 51.99735641, 43.495419999999996], [4.375883015, 51.997352025, 43.504419999999996], [4.375883863333333, 51.997346291666666, 43.50642], [4.375887495, 51.99733899666667, 43.46142], [4.37589195, 51.99733054333333, 43.47142], [4.375896993333333, 51.99732210666666, 43.39842], [4.375903465, 51.99731398666666, 43.36042], [4.375908156666667, 51.997304586666665, 43.33842], [4.375913453333334, 51.99729643166667, 43.303419999999996], [4.375919458333334, 51.99728860166666, 43.27342], [4.375925256666667, 51.99728038, 43.21342], [4.375929188333333, 51.99727198166667, 43.18942], [4.375935635, 51.997264821666676, 43.18342], [4.37594176, 51.99725708333333, 43.17142], [4.375945349999999, 51.99725052833334, 43.22242], [4.375944426666666, 51.997246485000005, 43.24042], [4.375934855, 51.997242366666654, 43.27742], [4.375922655, 51.99724153166667, 43.318419999999996], [4.375919, 51.997243690000005, 43.297419999999995], [4.3759148283333325, 51.99725019333333, 43.35342], [4.375893616666667, 51.997234823333336, 43.02642], [4.375893663333333, 51.99723477833333, 43.02642]], &quot;type&quot;: &quot;LineString&quot;}, &quot;id&quot;: &quot;1&quot;, &quot;properties&quot;: {&quot;UUID&quot;: &quot;69c779cf-3642-4545-88a7-73e17804cd13&quot;, &quot;__folium_color&quot;: &quot;green&quot;, &quot;end_time&quot;: &quot;13-02-2023 13:36:29.000 CET&quot;, &quot;remarks&quot;: &quot;&quot;, &quot;start_time&quot;: &quot;13-02-2023 13:32:41.000 CET&quot;}, &quot;type&quot;: &quot;Feature&quot;}], &quot;type&quot;: &quot;FeatureCollection&quot;});\n",
              "\n",
              "        \n",
              "    \n",
              "    geo_json_2550e18de320de50fb2eca3a8c15cd32.bindTooltip(\n",
              "    function(layer){\n",
              "    let div = L.DomUtil.create(&#x27;div&#x27;);\n",
              "    \n",
              "    let handleObject = feature=&gt;typeof(feature)==&#x27;object&#x27; ? JSON.stringify(feature) : feature;\n",
              "    let fields = [&quot;UUID&quot;, &quot;remarks&quot;, &quot;start_time&quot;, &quot;end_time&quot;];\n",
              "    let aliases = [&quot;UUID&quot;, &quot;remarks&quot;, &quot;start_time&quot;, &quot;end_time&quot;];\n",
              "    let table = &#x27;&lt;table&gt;&#x27; +\n",
              "        String(\n",
              "        fields.map(\n",
              "        (v,i)=&gt;\n",
              "        `&lt;tr&gt;\n",
              "            &lt;th&gt;${aliases[i]}&lt;/th&gt;\n",
              "            \n",
              "            &lt;td&gt;${handleObject(layer.feature.properties[v])}&lt;/td&gt;\n",
              "        &lt;/tr&gt;`).join(&#x27;&#x27;))\n",
              "    +&#x27;&lt;/table&gt;&#x27;;\n",
              "    div.innerHTML=table;\n",
              "    \n",
              "    return div\n",
              "    }\n",
              "    ,{&quot;className&quot;: &quot;foliumtooltip&quot;, &quot;sticky&quot;: true});\n",
              "                     \n",
              "&lt;/script&gt;\n",
              "&lt;/html&gt;\" style=\"position:absolute;width:100%;height:100%;left:0;top:0;border:none !important;\" allowfullscreen webkitallowfullscreen mozallowfullscreen></iframe></div></div>"
            ]
          },
          "metadata": {},
          "execution_count": 18
        }
      ],
      "source": [
        "fm = lines.explore(color='blue')\n",
        "points.explore(m=fm, color='red')\n",
        "tracks.explore(m=fm, color='green')"
      ]
    },
    {
      "cell_type": "markdown",
      "id": "a2f3079d-2366-4497-a0c6-807de9500c21",
      "metadata": {
        "id": "a2f3079d-2366-4497-a0c6-807de9500c21"
      },
      "source": [
        "Hovering over a feature shows a popup with all the feature attributes. \n",
        "\n",
        "Note that the GeoDataFrame needs to have a Coordinate Reference System (CRS) set to display the background tiles! (and get the aspect ratio correct as with the static matplotlib plots)."
      ]
    },
    {
      "cell_type": "markdown",
      "id": "3c034ef9-6418-48b4-b974-82f51034e034",
      "metadata": {
        "id": "3c034ef9-6418-48b4-b974-82f51034e034"
      },
      "source": [
        "> ### A note on interactive mapping (QGIS promotion, for your information)\n",
        ">\n",
        "> Interactive mapping may seem a nice and useful feature of GeoPandas. However for true interactive mapping we recommend using a GIS system, such as ArcGIS or the freely available **QGIS** that will be used in assignment 5 and 6. \n",
        "> To obtain more or less the same result in QGIS: \n",
        "> 1. open a new QGIS project, \n",
        "> 2. double click `browser > XYZ Tiles > OpenStreetMap`, \n",
        "> 3. add your geopackage file using `Layer > Add Layer > Add Vector Layer` .\n",
        ">\n",
        "> Do not forget to set your project CRS to e.g. EPSG:28992 (otherwise you have this very unprofessional distorted latitude/longitude reference system.   "
      ]
    },
    {
      "cell_type": "markdown",
      "id": "75450e92-c21b-4207-90ac-73db8bf4081c",
      "metadata": {
        "id": "75450e92-c21b-4207-90ac-73db8bf4081c"
      },
      "source": [
        "## Coordinate Reference System (CRS)\n",
        "\n",
        "A GeoDataFrame needs to have a Coordinate Reference System (CRS) set to perform spatial analyses and enable coordinate transformations.\n",
        "\n",
        "To obtain information on the CRS use the `.crs` attribute on a GeoDataFrame or GeoSeries."
      ]
    },
    {
      "cell_type": "code",
      "execution_count": 19,
      "id": "0ddb3821-8dbf-4adc-9692-a45d94c8a3ec",
      "metadata": {
        "colab": {
          "base_uri": "https://localhost:8080/"
        },
        "id": "0ddb3821-8dbf-4adc-9692-a45d94c8a3ec",
        "outputId": "a1d34e12-141b-471b-fd0d-b0ea565e49a7"
      },
      "outputs": [
        {
          "output_type": "execute_result",
          "data": {
            "text/plain": [
              "<Geographic 2D CRS: EPSG:4326>\n",
              "Name: WGS 84\n",
              "Axis Info [ellipsoidal]:\n",
              "- Lat[north]: Geodetic latitude (degree)\n",
              "- Lon[east]: Geodetic longitude (degree)\n",
              "Area of Use:\n",
              "- name: World.\n",
              "- bounds: (-180.0, -90.0, 180.0, 90.0)\n",
              "Datum: World Geodetic System 1984 ensemble\n",
              "- Ellipsoid: WGS 84\n",
              "- Prime Meridian: Greenwich"
            ]
          },
          "metadata": {},
          "execution_count": 19
        }
      ],
      "source": [
        "lines.crs"
      ]
    },
    {
      "cell_type": "code",
      "execution_count": 20,
      "id": "5fcaf344-189e-44dc-b0c3-12f49fe168b7",
      "metadata": {
        "colab": {
          "base_uri": "https://localhost:8080/"
        },
        "id": "5fcaf344-189e-44dc-b0c3-12f49fe168b7",
        "outputId": "26b336f0-830c-4976-9733-1d86dd619afa"
      },
      "outputs": [
        {
          "output_type": "stream",
          "name": "stdout",
          "text": [
            "EPSG:4326\n"
          ]
        }
      ],
      "source": [
        "print(lines.crs)"
      ]
    },
    {
      "cell_type": "markdown",
      "id": "5732c58a-a1fc-49fd-86ea-2b094acb1c80",
      "metadata": {
        "id": "5732c58a-a1fc-49fd-86ea-2b094acb1c80"
      },
      "source": [
        "An important element is the EPSG code. Each geodetic datum, spatial reference system, Earth ellipsoid, coordinate transformation and related units of measurements is assigned an EPSG code between 1024 and 32767, that corresponds to a public registry in the EPSG Geodetic Parameter Dataset, originated by a member of the European Petroleum Survey Group (EPSG) in 1985, and maintained by the IOGP Geomatics Committee, see also Section 31.4 in the book.\n",
        "\n",
        "Common EPSG codes are\n",
        "\n",
        "* EPSG:4326 - WGS 84, latitude/longitude coordinate system based on the Earth's center of mass, used by the Global Positioning System among others.\n",
        "* EPSG:3857 - Web Mercator projection used for display by many web-based mapping tools, including Google Maps and OpenStreetMap.\n",
        "* EPSG:7789 - International Terrestrial Reference Frame 2014 (ITRF2014), an Earth-fixed system that is independent of continental drift.\n",
        "* EPSG:4258 - European Terrestrial Reference Frame 1989 (ETRS89), an Earth-Fixed system moving along with the Eurasian Plate, defined only for the European continent.\n",
        "* EPSG:28992 - Projected coordinate system for Netherlands - onshore, including Waddenzee, Dutch Wadden Islands and 12-mile offshore coastal zone.\n",
        "\n",
        "These systems are covered later in class and in part V of the book.\n",
        "\n",
        "Our data is apparently in WGS84, but as we will find out later, this is not entirely correct (to be precise: it is the national realization of ETRS89). Coordinates are given as longitude &lambda;, latitude &phi; and elevation (height) *h* above the ellipsoid, cf. Figure 29.2 of the book.\n",
        "\n",
        "Another way to describe the CRS that is used is by the standard machine-readable well-known text (WKT) representation, or a *proj4* string used by the legacy `proj4` library.  These CRS representations can be accessed using the *to_wrt()* or *to_proj4()* methods. "
      ]
    },
    {
      "cell_type": "code",
      "execution_count": 21,
      "id": "baff2f25-8e39-4637-9cd0-54500e570c03",
      "metadata": {
        "colab": {
          "base_uri": "https://localhost:8080/"
        },
        "id": "baff2f25-8e39-4637-9cd0-54500e570c03",
        "outputId": "7fcd9be8-a7e4-4a94-d285-6266c1a28f7c"
      },
      "outputs": [
        {
          "output_type": "stream",
          "name": "stdout",
          "text": [
            "GEOGCRS[\"WGS 84\",\n",
            "    ENSEMBLE[\"World Geodetic System 1984 ensemble\",\n",
            "        MEMBER[\"World Geodetic System 1984 (Transit)\"],\n",
            "        MEMBER[\"World Geodetic System 1984 (G730)\"],\n",
            "        MEMBER[\"World Geodetic System 1984 (G873)\"],\n",
            "        MEMBER[\"World Geodetic System 1984 (G1150)\"],\n",
            "        MEMBER[\"World Geodetic System 1984 (G1674)\"],\n",
            "        MEMBER[\"World Geodetic System 1984 (G1762)\"],\n",
            "        MEMBER[\"World Geodetic System 1984 (G2139)\"],\n",
            "        ELLIPSOID[\"WGS 84\",6378137,298.257223563,\n",
            "            LENGTHUNIT[\"metre\",1]],\n",
            "        ENSEMBLEACCURACY[2.0]],\n",
            "    PRIMEM[\"Greenwich\",0,\n",
            "        ANGLEUNIT[\"degree\",0.0174532925199433]],\n",
            "    CS[ellipsoidal,2],\n",
            "        AXIS[\"geodetic latitude (Lat)\",north,\n",
            "            ORDER[1],\n",
            "            ANGLEUNIT[\"degree\",0.0174532925199433]],\n",
            "        AXIS[\"geodetic longitude (Lon)\",east,\n",
            "            ORDER[2],\n",
            "            ANGLEUNIT[\"degree\",0.0174532925199433]],\n",
            "    USAGE[\n",
            "        SCOPE[\"Horizontal component of 3D system.\"],\n",
            "        AREA[\"World.\"],\n",
            "        BBOX[-90,-180,90,180]],\n",
            "    ID[\"EPSG\",4326]]\n"
          ]
        }
      ],
      "source": [
        "print(lines.crs.to_wkt(pretty=True))"
      ]
    },
    {
      "cell_type": "code",
      "execution_count": 22,
      "id": "716570a4-11e9-49d9-b028-4f82cfa25027",
      "metadata": {
        "colab": {
          "base_uri": "https://localhost:8080/"
        },
        "id": "716570a4-11e9-49d9-b028-4f82cfa25027",
        "outputId": "75371d84-f6ed-472d-eb2d-d57bb1c93e38"
      },
      "outputs": [
        {
          "output_type": "stream",
          "name": "stdout",
          "text": [
            "+proj=longlat +datum=WGS84 +no_defs +type=crs\n"
          ]
        },
        {
          "output_type": "stream",
          "name": "stderr",
          "text": [
            "/usr/local/lib/python3.8/dist-packages/pyproj/crs/crs.py:1296: UserWarning: You will likely lose important projection information when converting to a PROJ string from another format. See: https://proj.org/faq.html#what-is-the-best-format-for-describing-coordinate-reference-systems\n",
            "  proj = self._crs.to_proj4(version=version)\n"
          ]
        }
      ],
      "source": [
        "print(lines.crs.to_proj4())"
      ]
    },
    {
      "cell_type": "markdown",
      "id": "ca40e9c2-1dfe-47d0-abf2-9ebf11687186",
      "metadata": {
        "id": "ca40e9c2-1dfe-47d0-abf2-9ebf11687186"
      },
      "source": [
        "As you will notice, the legacy *to_proj4()* method produces a warning, informing that you might loose some information when using this representation."
      ]
    },
    {
      "cell_type": "markdown",
      "id": "4d8bd356-daa2-4724-8870-7a50cff61f82",
      "metadata": {
        "id": "4d8bd356-daa2-4724-8870-7a50cff61f82"
      },
      "source": [
        "## Coordinate Reference System (CRS) transformations with GeoPandas\n",
        "\n",
        "Coordinate Reference System (CRS) transformations with GeoPandas is made ''easy'' using the `pyproj` package, the Python interface to **PROJ** (cartographic projections and coordinate transformations library), under the hood.\n",
        "\n",
        "> PROJ is a generic coordinate transformation software written in C that transforms geospatial coordinates from one coordinate reference system (CRS) to another. This includes cartographic projections as well as geodetic transformations, cf. Figure 31.1 of the book. PROJ includes an API as well as command line applications. PROJ started purely as a cartography application letting users convert geodetic coordinates into projected coordinates using a number of different cartographic projections. Over the years, as the need has become apparent, support for datum shifts has slowly worked its way into PROJ as well. Today PROJ supports more than a hundred different map projections and can transform coordinates between datums using all but the most obscure geodetic techniques. PROJ has become the de-facto standard for coordinate transformations all around the World. See also Section 31.5 of the book.\n",
        "\n",
        "GeoPandas provides a high-level interface to PROJ using the `to_crs()` method on a GeoSeries or GeoDataFrame. \n",
        "\n",
        "The next examples show how to transform our GeoDataFrames to the Dutch projected coordinate system, called RD (RijksDriehoeksmeting), cf. Figure 35.2: "
      ]
    },
    {
      "cell_type": "code",
      "execution_count": 23,
      "id": "54fadec8-367d-4553-a2c3-dfca0bf960ec",
      "metadata": {
        "id": "54fadec8-367d-4553-a2c3-dfca0bf960ec"
      },
      "outputs": [],
      "source": [
        "points_rd = points.to_crs(\"EPSG:28992\")\n",
        "lines_rd = lines.to_crs(\"EPSG:28992\")\n",
        "tracks_rd = tracks.to_crs(\"EPSG:28992\")"
      ]
    },
    {
      "cell_type": "code",
      "execution_count": 24,
      "id": "5cfcb10e-db2c-49ed-a62d-a4cb756cb96a",
      "metadata": {
        "colab": {
          "base_uri": "https://localhost:8080/"
        },
        "id": "5cfcb10e-db2c-49ed-a62d-a4cb756cb96a",
        "outputId": "24164d74-44e4-457a-a59b-4c3d66c8d929"
      },
      "outputs": [
        {
          "output_type": "execute_result",
          "data": {
            "text/plain": [
              "<Derived Projected CRS: EPSG:28992>\n",
              "Name: Amersfoort / RD New\n",
              "Axis Info [cartesian]:\n",
              "- X[east]: Easting (metre)\n",
              "- Y[north]: Northing (metre)\n",
              "Area of Use:\n",
              "- name: Netherlands - onshore, including Waddenzee, Dutch Wadden Islands and 12-mile offshore coastal zone.\n",
              "- bounds: (3.2, 50.75, 7.22, 53.7)\n",
              "Coordinate Operation:\n",
              "- name: RD New\n",
              "- method: Oblique Stereographic\n",
              "Datum: Amersfoort\n",
              "- Ellipsoid: Bessel 1841\n",
              "- Prime Meridian: Greenwich"
            ]
          },
          "metadata": {},
          "execution_count": 24
        }
      ],
      "source": [
        "lines_rd.crs"
      ]
    },
    {
      "cell_type": "code",
      "execution_count": 25,
      "id": "10e11e64-4ef7-4641-90ed-73a734d7face",
      "metadata": {
        "colab": {
          "base_uri": "https://localhost:8080/",
          "height": 280
        },
        "id": "10e11e64-4ef7-4641-90ed-73a734d7face",
        "outputId": "9bbb9b96-f439-40d4-fccc-103a1872d63d"
      },
      "outputs": [
        {
          "output_type": "execute_result",
          "data": {
            "text/plain": [
              "                                   UUID FID _description   latitude  \\\n",
              "0  f3df39c0-e7aa-4124-9153-bc6a1f3f2e4a   1               51.997117   \n",
              "1  d5d504c2-324b-41f0-8278-bb0ff06cec46   2               51.997075   \n",
              "\n",
              "   longitude  elevation  ortho_ht                         time  fix_id name  \\\n",
              "0   4.375868   43.16642       0.0  13-02-2023 13:18:29.000 CET       4   a1   \n",
              "1   4.375872   43.17842       0.0  13-02-2023 13:19:18.000 CET       4   a2   \n",
              "\n",
              "  control_point remarks                               geometry  \n",
              "0           yes          POINT Z (85546.727 445898.267 43.166)  \n",
              "1           yes          POINT Z (85546.876 445893.669 43.178)  "
            ],
            "text/html": [
              "\n",
              "  <div id=\"df-c8ebf74f-84a2-46b2-9f4c-be12a01d7442\">\n",
              "    <div class=\"colab-df-container\">\n",
              "      <div>\n",
              "<style scoped>\n",
              "    .dataframe tbody tr th:only-of-type {\n",
              "        vertical-align: middle;\n",
              "    }\n",
              "\n",
              "    .dataframe tbody tr th {\n",
              "        vertical-align: top;\n",
              "    }\n",
              "\n",
              "    .dataframe thead th {\n",
              "        text-align: right;\n",
              "    }\n",
              "</style>\n",
              "<table border=\"1\" class=\"dataframe\">\n",
              "  <thead>\n",
              "    <tr style=\"text-align: right;\">\n",
              "      <th></th>\n",
              "      <th>UUID</th>\n",
              "      <th>FID</th>\n",
              "      <th>_description</th>\n",
              "      <th>latitude</th>\n",
              "      <th>longitude</th>\n",
              "      <th>elevation</th>\n",
              "      <th>ortho_ht</th>\n",
              "      <th>time</th>\n",
              "      <th>fix_id</th>\n",
              "      <th>name</th>\n",
              "      <th>control_point</th>\n",
              "      <th>remarks</th>\n",
              "      <th>geometry</th>\n",
              "    </tr>\n",
              "  </thead>\n",
              "  <tbody>\n",
              "    <tr>\n",
              "      <th>0</th>\n",
              "      <td>f3df39c0-e7aa-4124-9153-bc6a1f3f2e4a</td>\n",
              "      <td>1</td>\n",
              "      <td></td>\n",
              "      <td>51.997117</td>\n",
              "      <td>4.375868</td>\n",
              "      <td>43.16642</td>\n",
              "      <td>0.0</td>\n",
              "      <td>13-02-2023 13:18:29.000 CET</td>\n",
              "      <td>4</td>\n",
              "      <td>a1</td>\n",
              "      <td>yes</td>\n",
              "      <td></td>\n",
              "      <td>POINT Z (85546.727 445898.267 43.166)</td>\n",
              "    </tr>\n",
              "    <tr>\n",
              "      <th>1</th>\n",
              "      <td>d5d504c2-324b-41f0-8278-bb0ff06cec46</td>\n",
              "      <td>2</td>\n",
              "      <td></td>\n",
              "      <td>51.997075</td>\n",
              "      <td>4.375872</td>\n",
              "      <td>43.17842</td>\n",
              "      <td>0.0</td>\n",
              "      <td>13-02-2023 13:19:18.000 CET</td>\n",
              "      <td>4</td>\n",
              "      <td>a2</td>\n",
              "      <td>yes</td>\n",
              "      <td></td>\n",
              "      <td>POINT Z (85546.876 445893.669 43.178)</td>\n",
              "    </tr>\n",
              "  </tbody>\n",
              "</table>\n",
              "</div>\n",
              "      <button class=\"colab-df-convert\" onclick=\"convertToInteractive('df-c8ebf74f-84a2-46b2-9f4c-be12a01d7442')\"\n",
              "              title=\"Convert this dataframe to an interactive table.\"\n",
              "              style=\"display:none;\">\n",
              "        \n",
              "  <svg xmlns=\"http://www.w3.org/2000/svg\" height=\"24px\"viewBox=\"0 0 24 24\"\n",
              "       width=\"24px\">\n",
              "    <path d=\"M0 0h24v24H0V0z\" fill=\"none\"/>\n",
              "    <path d=\"M18.56 5.44l.94 2.06.94-2.06 2.06-.94-2.06-.94-.94-2.06-.94 2.06-2.06.94zm-11 1L8.5 8.5l.94-2.06 2.06-.94-2.06-.94L8.5 2.5l-.94 2.06-2.06.94zm10 10l.94 2.06.94-2.06 2.06-.94-2.06-.94-.94-2.06-.94 2.06-2.06.94z\"/><path d=\"M17.41 7.96l-1.37-1.37c-.4-.4-.92-.59-1.43-.59-.52 0-1.04.2-1.43.59L10.3 9.45l-7.72 7.72c-.78.78-.78 2.05 0 2.83L4 21.41c.39.39.9.59 1.41.59.51 0 1.02-.2 1.41-.59l7.78-7.78 2.81-2.81c.8-.78.8-2.07 0-2.86zM5.41 20L4 18.59l7.72-7.72 1.47 1.35L5.41 20z\"/>\n",
              "  </svg>\n",
              "      </button>\n",
              "      \n",
              "  <style>\n",
              "    .colab-df-container {\n",
              "      display:flex;\n",
              "      flex-wrap:wrap;\n",
              "      gap: 12px;\n",
              "    }\n",
              "\n",
              "    .colab-df-convert {\n",
              "      background-color: #E8F0FE;\n",
              "      border: none;\n",
              "      border-radius: 50%;\n",
              "      cursor: pointer;\n",
              "      display: none;\n",
              "      fill: #1967D2;\n",
              "      height: 32px;\n",
              "      padding: 0 0 0 0;\n",
              "      width: 32px;\n",
              "    }\n",
              "\n",
              "    .colab-df-convert:hover {\n",
              "      background-color: #E2EBFA;\n",
              "      box-shadow: 0px 1px 2px rgba(60, 64, 67, 0.3), 0px 1px 3px 1px rgba(60, 64, 67, 0.15);\n",
              "      fill: #174EA6;\n",
              "    }\n",
              "\n",
              "    [theme=dark] .colab-df-convert {\n",
              "      background-color: #3B4455;\n",
              "      fill: #D2E3FC;\n",
              "    }\n",
              "\n",
              "    [theme=dark] .colab-df-convert:hover {\n",
              "      background-color: #434B5C;\n",
              "      box-shadow: 0px 1px 3px 1px rgba(0, 0, 0, 0.15);\n",
              "      filter: drop-shadow(0px 1px 2px rgba(0, 0, 0, 0.3));\n",
              "      fill: #FFFFFF;\n",
              "    }\n",
              "  </style>\n",
              "\n",
              "      <script>\n",
              "        const buttonEl =\n",
              "          document.querySelector('#df-c8ebf74f-84a2-46b2-9f4c-be12a01d7442 button.colab-df-convert');\n",
              "        buttonEl.style.display =\n",
              "          google.colab.kernel.accessAllowed ? 'block' : 'none';\n",
              "\n",
              "        async function convertToInteractive(key) {\n",
              "          const element = document.querySelector('#df-c8ebf74f-84a2-46b2-9f4c-be12a01d7442');\n",
              "          const dataTable =\n",
              "            await google.colab.kernel.invokeFunction('convertToInteractive',\n",
              "                                                     [key], {});\n",
              "          if (!dataTable) return;\n",
              "\n",
              "          const docLinkHtml = 'Like what you see? Visit the ' +\n",
              "            '<a target=\"_blank\" href=https://colab.research.google.com/notebooks/data_table.ipynb>data table notebook</a>'\n",
              "            + ' to learn more about interactive tables.';\n",
              "          element.innerHTML = '';\n",
              "          dataTable['output_type'] = 'display_data';\n",
              "          await google.colab.output.renderOutput(dataTable, element);\n",
              "          const docLink = document.createElement('div');\n",
              "          docLink.innerHTML = docLinkHtml;\n",
              "          element.appendChild(docLink);\n",
              "        }\n",
              "      </script>\n",
              "    </div>\n",
              "  </div>\n",
              "  "
            ]
          },
          "metadata": {},
          "execution_count": 25
        }
      ],
      "source": [
        "points_rd"
      ]
    },
    {
      "cell_type": "code",
      "execution_count": 26,
      "id": "be19c274-0624-4fd4-aa3e-752b9a47f529",
      "metadata": {
        "colab": {
          "base_uri": "https://localhost:8080/",
          "height": 288
        },
        "id": "be19c274-0624-4fd4-aa3e-752b9a47f529",
        "outputId": "0bb57e82-5979-4928-a4dc-8e495770ff29"
      },
      "outputs": [
        {
          "output_type": "execute_result",
          "data": {
            "text/plain": [
              "                                   UUID FID _description    _length  \\\n",
              "0  867bd8a8-578f-462f-a1e5-ac3644c6bc39   3               30.440912   \n",
              "1  99b3b2eb-f81a-4745-849f-368afb296b2b   4               25.339667   \n",
              "2  af83b7ba-f2be-44d7-9f5f-d373ddee2d8b   5               28.924731   \n",
              "3  fdab2c37-7add-4902-abf3-b3036873a6ce   6               24.601319   \n",
              "\n",
              "         type alignment remarks  \\\n",
              "0        road    border           \n",
              "1        road    border           \n",
              "2  pedestrian    border           \n",
              "3        road    border           \n",
              "\n",
              "                                            geometry  \n",
              "0  LINESTRING Z (85562.008 445937.457 42.665, 855...  \n",
              "1  LINESTRING Z (85554.954 445919.233 42.811, 855...  \n",
              "2  LINESTRING Z (85547.111 445899.445 43.110, 855...  \n",
              "3  LINESTRING Z (85548.511 445896.376 42.792, 855...  "
            ],
            "text/html": [
              "\n",
              "  <div id=\"df-236d99bd-1da3-4256-8a19-df00c638569d\">\n",
              "    <div class=\"colab-df-container\">\n",
              "      <div>\n",
              "<style scoped>\n",
              "    .dataframe tbody tr th:only-of-type {\n",
              "        vertical-align: middle;\n",
              "    }\n",
              "\n",
              "    .dataframe tbody tr th {\n",
              "        vertical-align: top;\n",
              "    }\n",
              "\n",
              "    .dataframe thead th {\n",
              "        text-align: right;\n",
              "    }\n",
              "</style>\n",
              "<table border=\"1\" class=\"dataframe\">\n",
              "  <thead>\n",
              "    <tr style=\"text-align: right;\">\n",
              "      <th></th>\n",
              "      <th>UUID</th>\n",
              "      <th>FID</th>\n",
              "      <th>_description</th>\n",
              "      <th>_length</th>\n",
              "      <th>type</th>\n",
              "      <th>alignment</th>\n",
              "      <th>remarks</th>\n",
              "      <th>geometry</th>\n",
              "    </tr>\n",
              "  </thead>\n",
              "  <tbody>\n",
              "    <tr>\n",
              "      <th>0</th>\n",
              "      <td>867bd8a8-578f-462f-a1e5-ac3644c6bc39</td>\n",
              "      <td>3</td>\n",
              "      <td></td>\n",
              "      <td>30.440912</td>\n",
              "      <td>road</td>\n",
              "      <td>border</td>\n",
              "      <td></td>\n",
              "      <td>LINESTRING Z (85562.008 445937.457 42.665, 855...</td>\n",
              "    </tr>\n",
              "    <tr>\n",
              "      <th>1</th>\n",
              "      <td>99b3b2eb-f81a-4745-849f-368afb296b2b</td>\n",
              "      <td>4</td>\n",
              "      <td></td>\n",
              "      <td>25.339667</td>\n",
              "      <td>road</td>\n",
              "      <td>border</td>\n",
              "      <td></td>\n",
              "      <td>LINESTRING Z (85554.954 445919.233 42.811, 855...</td>\n",
              "    </tr>\n",
              "    <tr>\n",
              "      <th>2</th>\n",
              "      <td>af83b7ba-f2be-44d7-9f5f-d373ddee2d8b</td>\n",
              "      <td>5</td>\n",
              "      <td></td>\n",
              "      <td>28.924731</td>\n",
              "      <td>pedestrian</td>\n",
              "      <td>border</td>\n",
              "      <td></td>\n",
              "      <td>LINESTRING Z (85547.111 445899.445 43.110, 855...</td>\n",
              "    </tr>\n",
              "    <tr>\n",
              "      <th>3</th>\n",
              "      <td>fdab2c37-7add-4902-abf3-b3036873a6ce</td>\n",
              "      <td>6</td>\n",
              "      <td></td>\n",
              "      <td>24.601319</td>\n",
              "      <td>road</td>\n",
              "      <td>border</td>\n",
              "      <td></td>\n",
              "      <td>LINESTRING Z (85548.511 445896.376 42.792, 855...</td>\n",
              "    </tr>\n",
              "  </tbody>\n",
              "</table>\n",
              "</div>\n",
              "      <button class=\"colab-df-convert\" onclick=\"convertToInteractive('df-236d99bd-1da3-4256-8a19-df00c638569d')\"\n",
              "              title=\"Convert this dataframe to an interactive table.\"\n",
              "              style=\"display:none;\">\n",
              "        \n",
              "  <svg xmlns=\"http://www.w3.org/2000/svg\" height=\"24px\"viewBox=\"0 0 24 24\"\n",
              "       width=\"24px\">\n",
              "    <path d=\"M0 0h24v24H0V0z\" fill=\"none\"/>\n",
              "    <path d=\"M18.56 5.44l.94 2.06.94-2.06 2.06-.94-2.06-.94-.94-2.06-.94 2.06-2.06.94zm-11 1L8.5 8.5l.94-2.06 2.06-.94-2.06-.94L8.5 2.5l-.94 2.06-2.06.94zm10 10l.94 2.06.94-2.06 2.06-.94-2.06-.94-.94-2.06-.94 2.06-2.06.94z\"/><path d=\"M17.41 7.96l-1.37-1.37c-.4-.4-.92-.59-1.43-.59-.52 0-1.04.2-1.43.59L10.3 9.45l-7.72 7.72c-.78.78-.78 2.05 0 2.83L4 21.41c.39.39.9.59 1.41.59.51 0 1.02-.2 1.41-.59l7.78-7.78 2.81-2.81c.8-.78.8-2.07 0-2.86zM5.41 20L4 18.59l7.72-7.72 1.47 1.35L5.41 20z\"/>\n",
              "  </svg>\n",
              "      </button>\n",
              "      \n",
              "  <style>\n",
              "    .colab-df-container {\n",
              "      display:flex;\n",
              "      flex-wrap:wrap;\n",
              "      gap: 12px;\n",
              "    }\n",
              "\n",
              "    .colab-df-convert {\n",
              "      background-color: #E8F0FE;\n",
              "      border: none;\n",
              "      border-radius: 50%;\n",
              "      cursor: pointer;\n",
              "      display: none;\n",
              "      fill: #1967D2;\n",
              "      height: 32px;\n",
              "      padding: 0 0 0 0;\n",
              "      width: 32px;\n",
              "    }\n",
              "\n",
              "    .colab-df-convert:hover {\n",
              "      background-color: #E2EBFA;\n",
              "      box-shadow: 0px 1px 2px rgba(60, 64, 67, 0.3), 0px 1px 3px 1px rgba(60, 64, 67, 0.15);\n",
              "      fill: #174EA6;\n",
              "    }\n",
              "\n",
              "    [theme=dark] .colab-df-convert {\n",
              "      background-color: #3B4455;\n",
              "      fill: #D2E3FC;\n",
              "    }\n",
              "\n",
              "    [theme=dark] .colab-df-convert:hover {\n",
              "      background-color: #434B5C;\n",
              "      box-shadow: 0px 1px 3px 1px rgba(0, 0, 0, 0.15);\n",
              "      filter: drop-shadow(0px 1px 2px rgba(0, 0, 0, 0.3));\n",
              "      fill: #FFFFFF;\n",
              "    }\n",
              "  </style>\n",
              "\n",
              "      <script>\n",
              "        const buttonEl =\n",
              "          document.querySelector('#df-236d99bd-1da3-4256-8a19-df00c638569d button.colab-df-convert');\n",
              "        buttonEl.style.display =\n",
              "          google.colab.kernel.accessAllowed ? 'block' : 'none';\n",
              "\n",
              "        async function convertToInteractive(key) {\n",
              "          const element = document.querySelector('#df-236d99bd-1da3-4256-8a19-df00c638569d');\n",
              "          const dataTable =\n",
              "            await google.colab.kernel.invokeFunction('convertToInteractive',\n",
              "                                                     [key], {});\n",
              "          if (!dataTable) return;\n",
              "\n",
              "          const docLinkHtml = 'Like what you see? Visit the ' +\n",
              "            '<a target=\"_blank\" href=https://colab.research.google.com/notebooks/data_table.ipynb>data table notebook</a>'\n",
              "            + ' to learn more about interactive tables.';\n",
              "          element.innerHTML = '';\n",
              "          dataTable['output_type'] = 'display_data';\n",
              "          await google.colab.output.renderOutput(dataTable, element);\n",
              "          const docLink = document.createElement('div');\n",
              "          docLink.innerHTML = docLinkHtml;\n",
              "          element.appendChild(docLink);\n",
              "        }\n",
              "      </script>\n",
              "    </div>\n",
              "  </div>\n",
              "  "
            ]
          },
          "metadata": {},
          "execution_count": 26
        }
      ],
      "source": [
        "lines_rd"
      ]
    },
    {
      "cell_type": "markdown",
      "id": "05cfb019-f47c-4d07-bda3-45af424a3dde",
      "metadata": {
        "id": "05cfb019-f47c-4d07-bda3-45af424a3dde"
      },
      "source": [
        "As you can observe from the GeoDataFrames the *geometry* has changed, but not the other attributes! (the point GeoDataFrame still has attributes latitude and longitude from the original). \n",
        "Also note the transformation **DID NOT change the elevation** (the third coordinate). The height coordinate is still given as elevation above the original ellipsoid!\n",
        "\n",
        "Below the data is plotted in the new CRS:"
      ]
    },
    {
      "cell_type": "code",
      "execution_count": 27,
      "id": "2a2deaa1-8877-4eeb-8815-5cd5ef9eb685",
      "metadata": {
        "tags": [],
        "colab": {
          "base_uri": "https://localhost:8080/",
          "height": 295
        },
        "id": "2a2deaa1-8877-4eeb-8815-5cd5ef9eb685",
        "outputId": "8a208fce-b744-4e5b-debf-6323f6b89a8d"
      },
      "outputs": [
        {
          "output_type": "display_data",
          "data": {
            "text/plain": [
              "<Figure size 432x288 with 1 Axes>"
            ],
            "image/png": "[encoded data removed]"
          },
          "metadata": {
            "needs_background": "light"
          }
        }
      ],
      "source": [
        "base = lines_rd.plot(color='blue')\n",
        "points_rd.plot(ax=base, marker='o', color='red', markersize=10)\n",
        "tracks_rd.plot(ax=base, color='green')\n",
        "base.set(xlabel='x-RD [m]', ylabel='y-RD [m]', title='Our Map in RD');"
      ]
    },
    {
      "cell_type": "markdown",
      "id": "6871db30-ae20-45a1-a313-6b1bb601978d",
      "metadata": {
        "id": "6871db30-ae20-45a1-a313-6b1bb601978d"
      },
      "source": [
        "**Question 3: Include this map in RD in your report.**"
      ]
    },
    {
      "cell_type": "markdown",
      "id": "983da582-92a3-49e4-bcef-466798178ebb",
      "metadata": {
        "id": "983da582-92a3-49e4-bcef-466798178ebb"
      },
      "source": [
        "The aspect ratio is now  for both axis equal (as we would expect from projected coordinates).\n",
        "\n",
        "> The coordinate transformation from EPSG:4326 (WGS-84) to EPSG:28992 has only an accuracy of about 1 meter. See also https://epsg.io/28992-to-4326 . This is mainly for two reasons: we actually have geographic coordinates in ETRS89 instead of WGS-84 and because a correction grid for RD was not used. Later we will show how to do a more accurate transformation, and why this is important.\n",
        "\n",
        "We will also discuss later how to convert the elevation above the ellipsoid into the Amsterdam Ordance datum, in Dutch, Normaal Amsterdam Peil (NAP). This is important because there is a difference of about 42 meters between the elevation above the ellipsoid and NAP heights, cf. Figure 35.10 (hey, you didn't believe we were 40 meters above sea-level in Delft, really?)."
      ]
    },
    {
      "cell_type": "markdown",
      "id": "f0353a5c-ad55-40b5-8089-f4e3fa49c6e3",
      "metadata": {
        "id": "f0353a5c-ad55-40b5-8089-f4e3fa49c6e3"
      },
      "source": [
        "## Data selections with GeoPandas (and Pandas)\n",
        "\n",
        "GeoDataFrames are an extension of Panda's dataframes. This means you can select rows using the `loc[]`, `iloc[]` and `query()` methods. This is best ilustrated with examples:"
      ]
    },
    {
      "cell_type": "code",
      "execution_count": 28,
      "id": "d930ae64-9bc1-4461-9f29-edf4c0e137a2",
      "metadata": {
        "colab": {
          "base_uri": "https://localhost:8080/",
          "height": 125
        },
        "id": "d930ae64-9bc1-4461-9f29-edf4c0e137a2",
        "outputId": "b4b8153c-1cf7-4d75-a2c9-f8c9758753fc"
      },
      "outputs": [
        {
          "output_type": "execute_result",
          "data": {
            "text/plain": [
              "                                   UUID FID _description    _length  type  \\\n",
              "0  867bd8a8-578f-462f-a1e5-ac3644c6bc39   3               30.440912  road   \n",
              "\n",
              "  alignment remarks                                           geometry  \n",
              "0    border          LINESTRING Z (4.37608 51.99747 42.66542, 4.376...  "
            ],
            "text/html": [
              "\n",
              "  <div id=\"df-ec3f767f-2315-4265-a354-d195c03c834f\">\n",
              "    <div class=\"colab-df-container\">\n",
              "      <div>\n",
              "<style scoped>\n",
              "    .dataframe tbody tr th:only-of-type {\n",
              "        vertical-align: middle;\n",
              "    }\n",
              "\n",
              "    .dataframe tbody tr th {\n",
              "        vertical-align: top;\n",
              "    }\n",
              "\n",
              "    .dataframe thead th {\n",
              "        text-align: right;\n",
              "    }\n",
              "</style>\n",
              "<table border=\"1\" class=\"dataframe\">\n",
              "  <thead>\n",
              "    <tr style=\"text-align: right;\">\n",
              "      <th></th>\n",
              "      <th>UUID</th>\n",
              "      <th>FID</th>\n",
              "      <th>_description</th>\n",
              "      <th>_length</th>\n",
              "      <th>type</th>\n",
              "      <th>alignment</th>\n",
              "      <th>remarks</th>\n",
              "      <th>geometry</th>\n",
              "    </tr>\n",
              "  </thead>\n",
              "  <tbody>\n",
              "    <tr>\n",
              "      <th>0</th>\n",
              "      <td>867bd8a8-578f-462f-a1e5-ac3644c6bc39</td>\n",
              "      <td>3</td>\n",
              "      <td></td>\n",
              "      <td>30.440912</td>\n",
              "      <td>road</td>\n",
              "      <td>border</td>\n",
              "      <td></td>\n",
              "      <td>LINESTRING Z (4.37608 51.99747 42.66542, 4.376...</td>\n",
              "    </tr>\n",
              "  </tbody>\n",
              "</table>\n",
              "</div>\n",
              "      <button class=\"colab-df-convert\" onclick=\"convertToInteractive('df-ec3f767f-2315-4265-a354-d195c03c834f')\"\n",
              "              title=\"Convert this dataframe to an interactive table.\"\n",
              "              style=\"display:none;\">\n",
              "        \n",
              "  <svg xmlns=\"http://www.w3.org/2000/svg\" height=\"24px\"viewBox=\"0 0 24 24\"\n",
              "       width=\"24px\">\n",
              "    <path d=\"M0 0h24v24H0V0z\" fill=\"none\"/>\n",
              "    <path d=\"M18.56 5.44l.94 2.06.94-2.06 2.06-.94-2.06-.94-.94-2.06-.94 2.06-2.06.94zm-11 1L8.5 8.5l.94-2.06 2.06-.94-2.06-.94L8.5 2.5l-.94 2.06-2.06.94zm10 10l.94 2.06.94-2.06 2.06-.94-2.06-.94-.94-2.06-.94 2.06-2.06.94z\"/><path d=\"M17.41 7.96l-1.37-1.37c-.4-.4-.92-.59-1.43-.59-.52 0-1.04.2-1.43.59L10.3 9.45l-7.72 7.72c-.78.78-.78 2.05 0 2.83L4 21.41c.39.39.9.59 1.41.59.51 0 1.02-.2 1.41-.59l7.78-7.78 2.81-2.81c.8-.78.8-2.07 0-2.86zM5.41 20L4 18.59l7.72-7.72 1.47 1.35L5.41 20z\"/>\n",
              "  </svg>\n",
              "      </button>\n",
              "      \n",
              "  <style>\n",
              "    .colab-df-container {\n",
              "      display:flex;\n",
              "      flex-wrap:wrap;\n",
              "      gap: 12px;\n",
              "    }\n",
              "\n",
              "    .colab-df-convert {\n",
              "      background-color: #E8F0FE;\n",
              "      border: none;\n",
              "      border-radius: 50%;\n",
              "      cursor: pointer;\n",
              "      display: none;\n",
              "      fill: #1967D2;\n",
              "      height: 32px;\n",
              "      padding: 0 0 0 0;\n",
              "      width: 32px;\n",
              "    }\n",
              "\n",
              "    .colab-df-convert:hover {\n",
              "      background-color: #E2EBFA;\n",
              "      box-shadow: 0px 1px 2px rgba(60, 64, 67, 0.3), 0px 1px 3px 1px rgba(60, 64, 67, 0.15);\n",
              "      fill: #174EA6;\n",
              "    }\n",
              "\n",
              "    [theme=dark] .colab-df-convert {\n",
              "      background-color: #3B4455;\n",
              "      fill: #D2E3FC;\n",
              "    }\n",
              "\n",
              "    [theme=dark] .colab-df-convert:hover {\n",
              "      background-color: #434B5C;\n",
              "      box-shadow: 0px 1px 3px 1px rgba(0, 0, 0, 0.15);\n",
              "      filter: drop-shadow(0px 1px 2px rgba(0, 0, 0, 0.3));\n",
              "      fill: #FFFFFF;\n",
              "    }\n",
              "  </style>\n",
              "\n",
              "      <script>\n",
              "        const buttonEl =\n",
              "          document.querySelector('#df-ec3f767f-2315-4265-a354-d195c03c834f button.colab-df-convert');\n",
              "        buttonEl.style.display =\n",
              "          google.colab.kernel.accessAllowed ? 'block' : 'none';\n",
              "\n",
              "        async function convertToInteractive(key) {\n",
              "          const element = document.querySelector('#df-ec3f767f-2315-4265-a354-d195c03c834f');\n",
              "          const dataTable =\n",
              "            await google.colab.kernel.invokeFunction('convertToInteractive',\n",
              "                                                     [key], {});\n",
              "          if (!dataTable) return;\n",
              "\n",
              "          const docLinkHtml = 'Like what you see? Visit the ' +\n",
              "            '<a target=\"_blank\" href=https://colab.research.google.com/notebooks/data_table.ipynb>data table notebook</a>'\n",
              "            + ' to learn more about interactive tables.';\n",
              "          element.innerHTML = '';\n",
              "          dataTable['output_type'] = 'display_data';\n",
              "          await google.colab.output.renderOutput(dataTable, element);\n",
              "          const docLink = document.createElement('div');\n",
              "          docLink.innerHTML = docLinkHtml;\n",
              "          element.appendChild(docLink);\n",
              "        }\n",
              "      </script>\n",
              "    </div>\n",
              "  </div>\n",
              "  "
            ]
          },
          "metadata": {},
          "execution_count": 28
        }
      ],
      "source": [
        "lines.iloc[[0]]"
      ]
    },
    {
      "cell_type": "code",
      "execution_count": 29,
      "id": "91977bed-2d86-49da-addc-5c1bf3cab532",
      "metadata": {
        "colab": {
          "base_uri": "https://localhost:8080/",
          "height": 156
        },
        "id": "91977bed-2d86-49da-addc-5c1bf3cab532",
        "outputId": "9d0282e3-eb39-4858-d028-9ce4b8cd551f"
      },
      "outputs": [
        {
          "output_type": "execute_result",
          "data": {
            "text/plain": [
              "                                   UUID FID _description    _length  type  \\\n",
              "0  867bd8a8-578f-462f-a1e5-ac3644c6bc39   3               30.440912  road   \n",
              "1  99b3b2eb-f81a-4745-849f-368afb296b2b   4               25.339667  road   \n",
              "\n",
              "  alignment remarks                                           geometry  \n",
              "0    border          LINESTRING Z (4.37608 51.99747 42.66542, 4.376...  \n",
              "1    border          LINESTRING Z (4.37598 51.99731 42.81142, 4.375...  "
            ],
            "text/html": [
              "\n",
              "  <div id=\"df-fc854c55-8354-49b4-bae7-8f8191a21d12\">\n",
              "    <div class=\"colab-df-container\">\n",
              "      <div>\n",
              "<style scoped>\n",
              "    .dataframe tbody tr th:only-of-type {\n",
              "        vertical-align: middle;\n",
              "    }\n",
              "\n",
              "    .dataframe tbody tr th {\n",
              "        vertical-align: top;\n",
              "    }\n",
              "\n",
              "    .dataframe thead th {\n",
              "        text-align: right;\n",
              "    }\n",
              "</style>\n",
              "<table border=\"1\" class=\"dataframe\">\n",
              "  <thead>\n",
              "    <tr style=\"text-align: right;\">\n",
              "      <th></th>\n",
              "      <th>UUID</th>\n",
              "      <th>FID</th>\n",
              "      <th>_description</th>\n",
              "      <th>_length</th>\n",
              "      <th>type</th>\n",
              "      <th>alignment</th>\n",
              "      <th>remarks</th>\n",
              "      <th>geometry</th>\n",
              "    </tr>\n",
              "  </thead>\n",
              "  <tbody>\n",
              "    <tr>\n",
              "      <th>0</th>\n",
              "      <td>867bd8a8-578f-462f-a1e5-ac3644c6bc39</td>\n",
              "      <td>3</td>\n",
              "      <td></td>\n",
              "      <td>30.440912</td>\n",
              "      <td>road</td>\n",
              "      <td>border</td>\n",
              "      <td></td>\n",
              "      <td>LINESTRING Z (4.37608 51.99747 42.66542, 4.376...</td>\n",
              "    </tr>\n",
              "    <tr>\n",
              "      <th>1</th>\n",
              "      <td>99b3b2eb-f81a-4745-849f-368afb296b2b</td>\n",
              "      <td>4</td>\n",
              "      <td></td>\n",
              "      <td>25.339667</td>\n",
              "      <td>road</td>\n",
              "      <td>border</td>\n",
              "      <td></td>\n",
              "      <td>LINESTRING Z (4.37598 51.99731 42.81142, 4.375...</td>\n",
              "    </tr>\n",
              "  </tbody>\n",
              "</table>\n",
              "</div>\n",
              "      <button class=\"colab-df-convert\" onclick=\"convertToInteractive('df-fc854c55-8354-49b4-bae7-8f8191a21d12')\"\n",
              "              title=\"Convert this dataframe to an interactive table.\"\n",
              "              style=\"display:none;\">\n",
              "        \n",
              "  <svg xmlns=\"http://www.w3.org/2000/svg\" height=\"24px\"viewBox=\"0 0 24 24\"\n",
              "       width=\"24px\">\n",
              "    <path d=\"M0 0h24v24H0V0z\" fill=\"none\"/>\n",
              "    <path d=\"M18.56 5.44l.94 2.06.94-2.06 2.06-.94-2.06-.94-.94-2.06-.94 2.06-2.06.94zm-11 1L8.5 8.5l.94-2.06 2.06-.94-2.06-.94L8.5 2.5l-.94 2.06-2.06.94zm10 10l.94 2.06.94-2.06 2.06-.94-2.06-.94-.94-2.06-.94 2.06-2.06.94z\"/><path d=\"M17.41 7.96l-1.37-1.37c-.4-.4-.92-.59-1.43-.59-.52 0-1.04.2-1.43.59L10.3 9.45l-7.72 7.72c-.78.78-.78 2.05 0 2.83L4 21.41c.39.39.9.59 1.41.59.51 0 1.02-.2 1.41-.59l7.78-7.78 2.81-2.81c.8-.78.8-2.07 0-2.86zM5.41 20L4 18.59l7.72-7.72 1.47 1.35L5.41 20z\"/>\n",
              "  </svg>\n",
              "      </button>\n",
              "      \n",
              "  <style>\n",
              "    .colab-df-container {\n",
              "      display:flex;\n",
              "      flex-wrap:wrap;\n",
              "      gap: 12px;\n",
              "    }\n",
              "\n",
              "    .colab-df-convert {\n",
              "      background-color: #E8F0FE;\n",
              "      border: none;\n",
              "      border-radius: 50%;\n",
              "      cursor: pointer;\n",
              "      display: none;\n",
              "      fill: #1967D2;\n",
              "      height: 32px;\n",
              "      padding: 0 0 0 0;\n",
              "      width: 32px;\n",
              "    }\n",
              "\n",
              "    .colab-df-convert:hover {\n",
              "      background-color: #E2EBFA;\n",
              "      box-shadow: 0px 1px 2px rgba(60, 64, 67, 0.3), 0px 1px 3px 1px rgba(60, 64, 67, 0.15);\n",
              "      fill: #174EA6;\n",
              "    }\n",
              "\n",
              "    [theme=dark] .colab-df-convert {\n",
              "      background-color: #3B4455;\n",
              "      fill: #D2E3FC;\n",
              "    }\n",
              "\n",
              "    [theme=dark] .colab-df-convert:hover {\n",
              "      background-color: #434B5C;\n",
              "      box-shadow: 0px 1px 3px 1px rgba(0, 0, 0, 0.15);\n",
              "      filter: drop-shadow(0px 1px 2px rgba(0, 0, 0, 0.3));\n",
              "      fill: #FFFFFF;\n",
              "    }\n",
              "  </style>\n",
              "\n",
              "      <script>\n",
              "        const buttonEl =\n",
              "          document.querySelector('#df-fc854c55-8354-49b4-bae7-8f8191a21d12 button.colab-df-convert');\n",
              "        buttonEl.style.display =\n",
              "          google.colab.kernel.accessAllowed ? 'block' : 'none';\n",
              "\n",
              "        async function convertToInteractive(key) {\n",
              "          const element = document.querySelector('#df-fc854c55-8354-49b4-bae7-8f8191a21d12');\n",
              "          const dataTable =\n",
              "            await google.colab.kernel.invokeFunction('convertToInteractive',\n",
              "                                                     [key], {});\n",
              "          if (!dataTable) return;\n",
              "\n",
              "          const docLinkHtml = 'Like what you see? Visit the ' +\n",
              "            '<a target=\"_blank\" href=https://colab.research.google.com/notebooks/data_table.ipynb>data table notebook</a>'\n",
              "            + ' to learn more about interactive tables.';\n",
              "          element.innerHTML = '';\n",
              "          dataTable['output_type'] = 'display_data';\n",
              "          await google.colab.output.renderOutput(dataTable, element);\n",
              "          const docLink = document.createElement('div');\n",
              "          docLink.innerHTML = docLinkHtml;\n",
              "          element.appendChild(docLink);\n",
              "        }\n",
              "      </script>\n",
              "    </div>\n",
              "  </div>\n",
              "  "
            ]
          },
          "metadata": {},
          "execution_count": 29
        }
      ],
      "source": [
        "lines.iloc[[0,1]]"
      ]
    },
    {
      "cell_type": "code",
      "execution_count": 30,
      "id": "67160c06-c0c4-4ed7-8f17-537a1ab344e7",
      "metadata": {
        "colab": {
          "base_uri": "https://localhost:8080/",
          "height": 156
        },
        "id": "67160c06-c0c4-4ed7-8f17-537a1ab344e7",
        "outputId": "e54184d8-8cc5-414b-e3dc-c6f907eaeaa8"
      },
      "outputs": [
        {
          "output_type": "execute_result",
          "data": {
            "text/plain": [
              "                                   UUID FID _description    _length  type  \\\n",
              "0  867bd8a8-578f-462f-a1e5-ac3644c6bc39   3               30.440912  road   \n",
              "1  99b3b2eb-f81a-4745-849f-368afb296b2b   4               25.339667  road   \n",
              "\n",
              "  alignment remarks                                           geometry  \n",
              "0    border          LINESTRING Z (4.37608 51.99747 42.66542, 4.376...  \n",
              "1    border          LINESTRING Z (4.37598 51.99731 42.81142, 4.375...  "
            ],
            "text/html": [
              "\n",
              "  <div id=\"df-03996b3e-afae-4919-862d-47f9abdc3a48\">\n",
              "    <div class=\"colab-df-container\">\n",
              "      <div>\n",
              "<style scoped>\n",
              "    .dataframe tbody tr th:only-of-type {\n",
              "        vertical-align: middle;\n",
              "    }\n",
              "\n",
              "    .dataframe tbody tr th {\n",
              "        vertical-align: top;\n",
              "    }\n",
              "\n",
              "    .dataframe thead th {\n",
              "        text-align: right;\n",
              "    }\n",
              "</style>\n",
              "<table border=\"1\" class=\"dataframe\">\n",
              "  <thead>\n",
              "    <tr style=\"text-align: right;\">\n",
              "      <th></th>\n",
              "      <th>UUID</th>\n",
              "      <th>FID</th>\n",
              "      <th>_description</th>\n",
              "      <th>_length</th>\n",
              "      <th>type</th>\n",
              "      <th>alignment</th>\n",
              "      <th>remarks</th>\n",
              "      <th>geometry</th>\n",
              "    </tr>\n",
              "  </thead>\n",
              "  <tbody>\n",
              "    <tr>\n",
              "      <th>0</th>\n",
              "      <td>867bd8a8-578f-462f-a1e5-ac3644c6bc39</td>\n",
              "      <td>3</td>\n",
              "      <td></td>\n",
              "      <td>30.440912</td>\n",
              "      <td>road</td>\n",
              "      <td>border</td>\n",
              "      <td></td>\n",
              "      <td>LINESTRING Z (4.37608 51.99747 42.66542, 4.376...</td>\n",
              "    </tr>\n",
              "    <tr>\n",
              "      <th>1</th>\n",
              "      <td>99b3b2eb-f81a-4745-849f-368afb296b2b</td>\n",
              "      <td>4</td>\n",
              "      <td></td>\n",
              "      <td>25.339667</td>\n",
              "      <td>road</td>\n",
              "      <td>border</td>\n",
              "      <td></td>\n",
              "      <td>LINESTRING Z (4.37598 51.99731 42.81142, 4.375...</td>\n",
              "    </tr>\n",
              "  </tbody>\n",
              "</table>\n",
              "</div>\n",
              "      <button class=\"colab-df-convert\" onclick=\"convertToInteractive('df-03996b3e-afae-4919-862d-47f9abdc3a48')\"\n",
              "              title=\"Convert this dataframe to an interactive table.\"\n",
              "              style=\"display:none;\">\n",
              "        \n",
              "  <svg xmlns=\"http://www.w3.org/2000/svg\" height=\"24px\"viewBox=\"0 0 24 24\"\n",
              "       width=\"24px\">\n",
              "    <path d=\"M0 0h24v24H0V0z\" fill=\"none\"/>\n",
              "    <path d=\"M18.56 5.44l.94 2.06.94-2.06 2.06-.94-2.06-.94-.94-2.06-.94 2.06-2.06.94zm-11 1L8.5 8.5l.94-2.06 2.06-.94-2.06-.94L8.5 2.5l-.94 2.06-2.06.94zm10 10l.94 2.06.94-2.06 2.06-.94-2.06-.94-.94-2.06-.94 2.06-2.06.94z\"/><path d=\"M17.41 7.96l-1.37-1.37c-.4-.4-.92-.59-1.43-.59-.52 0-1.04.2-1.43.59L10.3 9.45l-7.72 7.72c-.78.78-.78 2.05 0 2.83L4 21.41c.39.39.9.59 1.41.59.51 0 1.02-.2 1.41-.59l7.78-7.78 2.81-2.81c.8-.78.8-2.07 0-2.86zM5.41 20L4 18.59l7.72-7.72 1.47 1.35L5.41 20z\"/>\n",
              "  </svg>\n",
              "      </button>\n",
              "      \n",
              "  <style>\n",
              "    .colab-df-container {\n",
              "      display:flex;\n",
              "      flex-wrap:wrap;\n",
              "      gap: 12px;\n",
              "    }\n",
              "\n",
              "    .colab-df-convert {\n",
              "      background-color: #E8F0FE;\n",
              "      border: none;\n",
              "      border-radius: 50%;\n",
              "      cursor: pointer;\n",
              "      display: none;\n",
              "      fill: #1967D2;\n",
              "      height: 32px;\n",
              "      padding: 0 0 0 0;\n",
              "      width: 32px;\n",
              "    }\n",
              "\n",
              "    .colab-df-convert:hover {\n",
              "      background-color: #E2EBFA;\n",
              "      box-shadow: 0px 1px 2px rgba(60, 64, 67, 0.3), 0px 1px 3px 1px rgba(60, 64, 67, 0.15);\n",
              "      fill: #174EA6;\n",
              "    }\n",
              "\n",
              "    [theme=dark] .colab-df-convert {\n",
              "      background-color: #3B4455;\n",
              "      fill: #D2E3FC;\n",
              "    }\n",
              "\n",
              "    [theme=dark] .colab-df-convert:hover {\n",
              "      background-color: #434B5C;\n",
              "      box-shadow: 0px 1px 3px 1px rgba(0, 0, 0, 0.15);\n",
              "      filter: drop-shadow(0px 1px 2px rgba(0, 0, 0, 0.3));\n",
              "      fill: #FFFFFF;\n",
              "    }\n",
              "  </style>\n",
              "\n",
              "      <script>\n",
              "        const buttonEl =\n",
              "          document.querySelector('#df-03996b3e-afae-4919-862d-47f9abdc3a48 button.colab-df-convert');\n",
              "        buttonEl.style.display =\n",
              "          google.colab.kernel.accessAllowed ? 'block' : 'none';\n",
              "\n",
              "        async function convertToInteractive(key) {\n",
              "          const element = document.querySelector('#df-03996b3e-afae-4919-862d-47f9abdc3a48');\n",
              "          const dataTable =\n",
              "            await google.colab.kernel.invokeFunction('convertToInteractive',\n",
              "                                                     [key], {});\n",
              "          if (!dataTable) return;\n",
              "\n",
              "          const docLinkHtml = 'Like what you see? Visit the ' +\n",
              "            '<a target=\"_blank\" href=https://colab.research.google.com/notebooks/data_table.ipynb>data table notebook</a>'\n",
              "            + ' to learn more about interactive tables.';\n",
              "          element.innerHTML = '';\n",
              "          dataTable['output_type'] = 'display_data';\n",
              "          await google.colab.output.renderOutput(dataTable, element);\n",
              "          const docLink = document.createElement('div');\n",
              "          docLink.innerHTML = docLinkHtml;\n",
              "          element.appendChild(docLink);\n",
              "        }\n",
              "      </script>\n",
              "    </div>\n",
              "  </div>\n",
              "  "
            ]
          },
          "metadata": {},
          "execution_count": 30
        }
      ],
      "source": [
        "lines.loc[[0,1]]"
      ]
    },
    {
      "cell_type": "code",
      "execution_count": 31,
      "id": "78847940-546a-4bda-96d8-2a41824fa00c",
      "metadata": {
        "colab": {
          "base_uri": "https://localhost:8080/",
          "height": 187
        },
        "id": "78847940-546a-4bda-96d8-2a41824fa00c",
        "outputId": "fb73bf75-1492-4732-add0-2c435dd7e84b"
      },
      "outputs": [
        {
          "output_type": "execute_result",
          "data": {
            "text/plain": [
              "                                   UUID FID _description    _length  type  \\\n",
              "0  867bd8a8-578f-462f-a1e5-ac3644c6bc39   3               30.440912  road   \n",
              "1  99b3b2eb-f81a-4745-849f-368afb296b2b   4               25.339667  road   \n",
              "3  fdab2c37-7add-4902-abf3-b3036873a6ce   6               24.601319  road   \n",
              "\n",
              "  alignment remarks                                           geometry  \n",
              "0    border          LINESTRING Z (4.37608 51.99747 42.66542, 4.376...  \n",
              "1    border          LINESTRING Z (4.37598 51.99731 42.81142, 4.375...  \n",
              "3    border          LINESTRING Z (4.37589 51.99710 42.79242, 4.375...  "
            ],
            "text/html": [
              "\n",
              "  <div id=\"df-afae3ca0-788d-435b-85ad-25298e88e6c1\">\n",
              "    <div class=\"colab-df-container\">\n",
              "      <div>\n",
              "<style scoped>\n",
              "    .dataframe tbody tr th:only-of-type {\n",
              "        vertical-align: middle;\n",
              "    }\n",
              "\n",
              "    .dataframe tbody tr th {\n",
              "        vertical-align: top;\n",
              "    }\n",
              "\n",
              "    .dataframe thead th {\n",
              "        text-align: right;\n",
              "    }\n",
              "</style>\n",
              "<table border=\"1\" class=\"dataframe\">\n",
              "  <thead>\n",
              "    <tr style=\"text-align: right;\">\n",
              "      <th></th>\n",
              "      <th>UUID</th>\n",
              "      <th>FID</th>\n",
              "      <th>_description</th>\n",
              "      <th>_length</th>\n",
              "      <th>type</th>\n",
              "      <th>alignment</th>\n",
              "      <th>remarks</th>\n",
              "      <th>geometry</th>\n",
              "    </tr>\n",
              "  </thead>\n",
              "  <tbody>\n",
              "    <tr>\n",
              "      <th>0</th>\n",
              "      <td>867bd8a8-578f-462f-a1e5-ac3644c6bc39</td>\n",
              "      <td>3</td>\n",
              "      <td></td>\n",
              "      <td>30.440912</td>\n",
              "      <td>road</td>\n",
              "      <td>border</td>\n",
              "      <td></td>\n",
              "      <td>LINESTRING Z (4.37608 51.99747 42.66542, 4.376...</td>\n",
              "    </tr>\n",
              "    <tr>\n",
              "      <th>1</th>\n",
              "      <td>99b3b2eb-f81a-4745-849f-368afb296b2b</td>\n",
              "      <td>4</td>\n",
              "      <td></td>\n",
              "      <td>25.339667</td>\n",
              "      <td>road</td>\n",
              "      <td>border</td>\n",
              "      <td></td>\n",
              "      <td>LINESTRING Z (4.37598 51.99731 42.81142, 4.375...</td>\n",
              "    </tr>\n",
              "    <tr>\n",
              "      <th>3</th>\n",
              "      <td>fdab2c37-7add-4902-abf3-b3036873a6ce</td>\n",
              "      <td>6</td>\n",
              "      <td></td>\n",
              "      <td>24.601319</td>\n",
              "      <td>road</td>\n",
              "      <td>border</td>\n",
              "      <td></td>\n",
              "      <td>LINESTRING Z (4.37589 51.99710 42.79242, 4.375...</td>\n",
              "    </tr>\n",
              "  </tbody>\n",
              "</table>\n",
              "</div>\n",
              "      <button class=\"colab-df-convert\" onclick=\"convertToInteractive('df-afae3ca0-788d-435b-85ad-25298e88e6c1')\"\n",
              "              title=\"Convert this dataframe to an interactive table.\"\n",
              "              style=\"display:none;\">\n",
              "        \n",
              "  <svg xmlns=\"http://www.w3.org/2000/svg\" height=\"24px\"viewBox=\"0 0 24 24\"\n",
              "       width=\"24px\">\n",
              "    <path d=\"M0 0h24v24H0V0z\" fill=\"none\"/>\n",
              "    <path d=\"M18.56 5.44l.94 2.06.94-2.06 2.06-.94-2.06-.94-.94-2.06-.94 2.06-2.06.94zm-11 1L8.5 8.5l.94-2.06 2.06-.94-2.06-.94L8.5 2.5l-.94 2.06-2.06.94zm10 10l.94 2.06.94-2.06 2.06-.94-2.06-.94-.94-2.06-.94 2.06-2.06.94z\"/><path d=\"M17.41 7.96l-1.37-1.37c-.4-.4-.92-.59-1.43-.59-.52 0-1.04.2-1.43.59L10.3 9.45l-7.72 7.72c-.78.78-.78 2.05 0 2.83L4 21.41c.39.39.9.59 1.41.59.51 0 1.02-.2 1.41-.59l7.78-7.78 2.81-2.81c.8-.78.8-2.07 0-2.86zM5.41 20L4 18.59l7.72-7.72 1.47 1.35L5.41 20z\"/>\n",
              "  </svg>\n",
              "      </button>\n",
              "      \n",
              "  <style>\n",
              "    .colab-df-container {\n",
              "      display:flex;\n",
              "      flex-wrap:wrap;\n",
              "      gap: 12px;\n",
              "    }\n",
              "\n",
              "    .colab-df-convert {\n",
              "      background-color: #E8F0FE;\n",
              "      border: none;\n",
              "      border-radius: 50%;\n",
              "      cursor: pointer;\n",
              "      display: none;\n",
              "      fill: #1967D2;\n",
              "      height: 32px;\n",
              "      padding: 0 0 0 0;\n",
              "      width: 32px;\n",
              "    }\n",
              "\n",
              "    .colab-df-convert:hover {\n",
              "      background-color: #E2EBFA;\n",
              "      box-shadow: 0px 1px 2px rgba(60, 64, 67, 0.3), 0px 1px 3px 1px rgba(60, 64, 67, 0.15);\n",
              "      fill: #174EA6;\n",
              "    }\n",
              "\n",
              "    [theme=dark] .colab-df-convert {\n",
              "      background-color: #3B4455;\n",
              "      fill: #D2E3FC;\n",
              "    }\n",
              "\n",
              "    [theme=dark] .colab-df-convert:hover {\n",
              "      background-color: #434B5C;\n",
              "      box-shadow: 0px 1px 3px 1px rgba(0, 0, 0, 0.15);\n",
              "      filter: drop-shadow(0px 1px 2px rgba(0, 0, 0, 0.3));\n",
              "      fill: #FFFFFF;\n",
              "    }\n",
              "  </style>\n",
              "\n",
              "      <script>\n",
              "        const buttonEl =\n",
              "          document.querySelector('#df-afae3ca0-788d-435b-85ad-25298e88e6c1 button.colab-df-convert');\n",
              "        buttonEl.style.display =\n",
              "          google.colab.kernel.accessAllowed ? 'block' : 'none';\n",
              "\n",
              "        async function convertToInteractive(key) {\n",
              "          const element = document.querySelector('#df-afae3ca0-788d-435b-85ad-25298e88e6c1');\n",
              "          const dataTable =\n",
              "            await google.colab.kernel.invokeFunction('convertToInteractive',\n",
              "                                                     [key], {});\n",
              "          if (!dataTable) return;\n",
              "\n",
              "          const docLinkHtml = 'Like what you see? Visit the ' +\n",
              "            '<a target=\"_blank\" href=https://colab.research.google.com/notebooks/data_table.ipynb>data table notebook</a>'\n",
              "            + ' to learn more about interactive tables.';\n",
              "          element.innerHTML = '';\n",
              "          dataTable['output_type'] = 'display_data';\n",
              "          await google.colab.output.renderOutput(dataTable, element);\n",
              "          const docLink = document.createElement('div');\n",
              "          docLink.innerHTML = docLinkHtml;\n",
              "          element.appendChild(docLink);\n",
              "        }\n",
              "      </script>\n",
              "    </div>\n",
              "  </div>\n",
              "  "
            ]
          },
          "metadata": {},
          "execution_count": 31
        }
      ],
      "source": [
        "lines.query( \"type == 'road'\" )"
      ]
    },
    {
      "cell_type": "markdown",
      "id": "e5216b50-812b-454d-8b50-1e66f077b4dd",
      "metadata": {
        "id": "e5216b50-812b-454d-8b50-1e66f077b4dd"
      },
      "source": [
        "The `loc[]` and `iloc[]` methods produce similar results, this is because the *index* is numerical. We can set any column as index, e.g."
      ]
    },
    {
      "cell_type": "code",
      "execution_count": 32,
      "id": "3e2fe2a9-a6ab-46d8-a107-875316acfc2d",
      "metadata": {
        "colab": {
          "base_uri": "https://localhost:8080/",
          "height": 292
        },
        "id": "3e2fe2a9-a6ab-46d8-a107-875316acfc2d",
        "outputId": "0610b775-7755-487b-d172-7b29042c972f"
      },
      "outputs": [
        {
          "output_type": "execute_result",
          "data": {
            "text/plain": [
              "                                      UUID FID _description   latitude  \\\n",
              "name                                                                     \n",
              "a1    f3df39c0-e7aa-4124-9153-bc6a1f3f2e4a   1               51.997117   \n",
              "a2    d5d504c2-324b-41f0-8278-bb0ff06cec46   2               51.997075   \n",
              "\n",
              "      longitude  elevation  ortho_ht                         time  fix_id  \\\n",
              "name                                                                        \n",
              "a1     4.375868   43.16642       0.0  13-02-2023 13:18:29.000 CET       4   \n",
              "a2     4.375872   43.17842       0.0  13-02-2023 13:19:18.000 CET       4   \n",
              "\n",
              "     control_point remarks                             geometry  \n",
              "name                                                             \n",
              "a1             yes          POINT Z (4.37587 51.99712 43.16642)  \n",
              "a2             yes          POINT Z (4.37587 51.99708 43.17842)  "
            ],
            "text/html": [
              "\n",
              "  <div id=\"df-72ab0ca9-16ad-47d0-bcd6-8aee3c6ffb83\">\n",
              "    <div class=\"colab-df-container\">\n",
              "      <div>\n",
              "<style scoped>\n",
              "    .dataframe tbody tr th:only-of-type {\n",
              "        vertical-align: middle;\n",
              "    }\n",
              "\n",
              "    .dataframe tbody tr th {\n",
              "        vertical-align: top;\n",
              "    }\n",
              "\n",
              "    .dataframe thead th {\n",
              "        text-align: right;\n",
              "    }\n",
              "</style>\n",
              "<table border=\"1\" class=\"dataframe\">\n",
              "  <thead>\n",
              "    <tr style=\"text-align: right;\">\n",
              "      <th></th>\n",
              "      <th>UUID</th>\n",
              "      <th>FID</th>\n",
              "      <th>_description</th>\n",
              "      <th>latitude</th>\n",
              "      <th>longitude</th>\n",
              "      <th>elevation</th>\n",
              "      <th>ortho_ht</th>\n",
              "      <th>time</th>\n",
              "      <th>fix_id</th>\n",
              "      <th>control_point</th>\n",
              "      <th>remarks</th>\n",
              "      <th>geometry</th>\n",
              "    </tr>\n",
              "    <tr>\n",
              "      <th>name</th>\n",
              "      <th></th>\n",
              "      <th></th>\n",
              "      <th></th>\n",
              "      <th></th>\n",
              "      <th></th>\n",
              "      <th></th>\n",
              "      <th></th>\n",
              "      <th></th>\n",
              "      <th></th>\n",
              "      <th></th>\n",
              "      <th></th>\n",
              "      <th></th>\n",
              "    </tr>\n",
              "  </thead>\n",
              "  <tbody>\n",
              "    <tr>\n",
              "      <th>a1</th>\n",
              "      <td>f3df39c0-e7aa-4124-9153-bc6a1f3f2e4a</td>\n",
              "      <td>1</td>\n",
              "      <td></td>\n",
              "      <td>51.997117</td>\n",
              "      <td>4.375868</td>\n",
              "      <td>43.16642</td>\n",
              "      <td>0.0</td>\n",
              "      <td>13-02-2023 13:18:29.000 CET</td>\n",
              "      <td>4</td>\n",
              "      <td>yes</td>\n",
              "      <td></td>\n",
              "      <td>POINT Z (4.37587 51.99712 43.16642)</td>\n",
              "    </tr>\n",
              "    <tr>\n",
              "      <th>a2</th>\n",
              "      <td>d5d504c2-324b-41f0-8278-bb0ff06cec46</td>\n",
              "      <td>2</td>\n",
              "      <td></td>\n",
              "      <td>51.997075</td>\n",
              "      <td>4.375872</td>\n",
              "      <td>43.17842</td>\n",
              "      <td>0.0</td>\n",
              "      <td>13-02-2023 13:19:18.000 CET</td>\n",
              "      <td>4</td>\n",
              "      <td>yes</td>\n",
              "      <td></td>\n",
              "      <td>POINT Z (4.37587 51.99708 43.17842)</td>\n",
              "    </tr>\n",
              "  </tbody>\n",
              "</table>\n",
              "</div>\n",
              "      <button class=\"colab-df-convert\" onclick=\"convertToInteractive('df-72ab0ca9-16ad-47d0-bcd6-8aee3c6ffb83')\"\n",
              "              title=\"Convert this dataframe to an interactive table.\"\n",
              "              style=\"display:none;\">\n",
              "        \n",
              "  <svg xmlns=\"http://www.w3.org/2000/svg\" height=\"24px\"viewBox=\"0 0 24 24\"\n",
              "       width=\"24px\">\n",
              "    <path d=\"M0 0h24v24H0V0z\" fill=\"none\"/>\n",
              "    <path d=\"M18.56 5.44l.94 2.06.94-2.06 2.06-.94-2.06-.94-.94-2.06-.94 2.06-2.06.94zm-11 1L8.5 8.5l.94-2.06 2.06-.94-2.06-.94L8.5 2.5l-.94 2.06-2.06.94zm10 10l.94 2.06.94-2.06 2.06-.94-2.06-.94-.94-2.06-.94 2.06-2.06.94z\"/><path d=\"M17.41 7.96l-1.37-1.37c-.4-.4-.92-.59-1.43-.59-.52 0-1.04.2-1.43.59L10.3 9.45l-7.72 7.72c-.78.78-.78 2.05 0 2.83L4 21.41c.39.39.9.59 1.41.59.51 0 1.02-.2 1.41-.59l7.78-7.78 2.81-2.81c.8-.78.8-2.07 0-2.86zM5.41 20L4 18.59l7.72-7.72 1.47 1.35L5.41 20z\"/>\n",
              "  </svg>\n",
              "      </button>\n",
              "      \n",
              "  <style>\n",
              "    .colab-df-container {\n",
              "      display:flex;\n",
              "      flex-wrap:wrap;\n",
              "      gap: 12px;\n",
              "    }\n",
              "\n",
              "    .colab-df-convert {\n",
              "      background-color: #E8F0FE;\n",
              "      border: none;\n",
              "      border-radius: 50%;\n",
              "      cursor: pointer;\n",
              "      display: none;\n",
              "      fill: #1967D2;\n",
              "      height: 32px;\n",
              "      padding: 0 0 0 0;\n",
              "      width: 32px;\n",
              "    }\n",
              "\n",
              "    .colab-df-convert:hover {\n",
              "      background-color: #E2EBFA;\n",
              "      box-shadow: 0px 1px 2px rgba(60, 64, 67, 0.3), 0px 1px 3px 1px rgba(60, 64, 67, 0.15);\n",
              "      fill: #174EA6;\n",
              "    }\n",
              "\n",
              "    [theme=dark] .colab-df-convert {\n",
              "      background-color: #3B4455;\n",
              "      fill: #D2E3FC;\n",
              "    }\n",
              "\n",
              "    [theme=dark] .colab-df-convert:hover {\n",
              "      background-color: #434B5C;\n",
              "      box-shadow: 0px 1px 3px 1px rgba(0, 0, 0, 0.15);\n",
              "      filter: drop-shadow(0px 1px 2px rgba(0, 0, 0, 0.3));\n",
              "      fill: #FFFFFF;\n",
              "    }\n",
              "  </style>\n",
              "\n",
              "      <script>\n",
              "        const buttonEl =\n",
              "          document.querySelector('#df-72ab0ca9-16ad-47d0-bcd6-8aee3c6ffb83 button.colab-df-convert');\n",
              "        buttonEl.style.display =\n",
              "          google.colab.kernel.accessAllowed ? 'block' : 'none';\n",
              "\n",
              "        async function convertToInteractive(key) {\n",
              "          const element = document.querySelector('#df-72ab0ca9-16ad-47d0-bcd6-8aee3c6ffb83');\n",
              "          const dataTable =\n",
              "            await google.colab.kernel.invokeFunction('convertToInteractive',\n",
              "                                                     [key], {});\n",
              "          if (!dataTable) return;\n",
              "\n",
              "          const docLinkHtml = 'Like what you see? Visit the ' +\n",
              "            '<a target=\"_blank\" href=https://colab.research.google.com/notebooks/data_table.ipynb>data table notebook</a>'\n",
              "            + ' to learn more about interactive tables.';\n",
              "          element.innerHTML = '';\n",
              "          dataTable['output_type'] = 'display_data';\n",
              "          await google.colab.output.renderOutput(dataTable, element);\n",
              "          const docLink = document.createElement('div');\n",
              "          docLink.innerHTML = docLinkHtml;\n",
              "          element.appendChild(docLink);\n",
              "        }\n",
              "      </script>\n",
              "    </div>\n",
              "  </div>\n",
              "  "
            ]
          },
          "metadata": {},
          "execution_count": 32
        }
      ],
      "source": [
        "points_idx = points.set_index('name')\n",
        "points_idx"
      ]
    },
    {
      "cell_type": "code",
      "execution_count": 33,
      "id": "bd2166f6-af67-4b42-a5a1-ef6d98d37977",
      "metadata": {
        "colab": {
          "base_uri": "https://localhost:8080/",
          "height": 208
        },
        "id": "bd2166f6-af67-4b42-a5a1-ef6d98d37977",
        "outputId": "36670a91-39a5-406c-93f0-63e981ad066f"
      },
      "outputs": [
        {
          "output_type": "execute_result",
          "data": {
            "text/plain": [
              "                                      UUID FID _description   latitude  \\\n",
              "name                                                                     \n",
              "a1    f3df39c0-e7aa-4124-9153-bc6a1f3f2e4a   1               51.997117   \n",
              "\n",
              "      longitude  elevation  ortho_ht                         time  fix_id  \\\n",
              "name                                                                        \n",
              "a1     4.375868   43.16642       0.0  13-02-2023 13:18:29.000 CET       4   \n",
              "\n",
              "     control_point remarks                             geometry  \n",
              "name                                                             \n",
              "a1             yes          POINT Z (4.37587 51.99712 43.16642)  "
            ],
            "text/html": [
              "\n",
              "  <div id=\"df-2a1e2380-c0aa-40b3-a9aa-8b6be0364f01\">\n",
              "    <div class=\"colab-df-container\">\n",
              "      <div>\n",
              "<style scoped>\n",
              "    .dataframe tbody tr th:only-of-type {\n",
              "        vertical-align: middle;\n",
              "    }\n",
              "\n",
              "    .dataframe tbody tr th {\n",
              "        vertical-align: top;\n",
              "    }\n",
              "\n",
              "    .dataframe thead th {\n",
              "        text-align: right;\n",
              "    }\n",
              "</style>\n",
              "<table border=\"1\" class=\"dataframe\">\n",
              "  <thead>\n",
              "    <tr style=\"text-align: right;\">\n",
              "      <th></th>\n",
              "      <th>UUID</th>\n",
              "      <th>FID</th>\n",
              "      <th>_description</th>\n",
              "      <th>latitude</th>\n",
              "      <th>longitude</th>\n",
              "      <th>elevation</th>\n",
              "      <th>ortho_ht</th>\n",
              "      <th>time</th>\n",
              "      <th>fix_id</th>\n",
              "      <th>control_point</th>\n",
              "      <th>remarks</th>\n",
              "      <th>geometry</th>\n",
              "    </tr>\n",
              "    <tr>\n",
              "      <th>name</th>\n",
              "      <th></th>\n",
              "      <th></th>\n",
              "      <th></th>\n",
              "      <th></th>\n",
              "      <th></th>\n",
              "      <th></th>\n",
              "      <th></th>\n",
              "      <th></th>\n",
              "      <th></th>\n",
              "      <th></th>\n",
              "      <th></th>\n",
              "      <th></th>\n",
              "    </tr>\n",
              "  </thead>\n",
              "  <tbody>\n",
              "    <tr>\n",
              "      <th>a1</th>\n",
              "      <td>f3df39c0-e7aa-4124-9153-bc6a1f3f2e4a</td>\n",
              "      <td>1</td>\n",
              "      <td></td>\n",
              "      <td>51.997117</td>\n",
              "      <td>4.375868</td>\n",
              "      <td>43.16642</td>\n",
              "      <td>0.0</td>\n",
              "      <td>13-02-2023 13:18:29.000 CET</td>\n",
              "      <td>4</td>\n",
              "      <td>yes</td>\n",
              "      <td></td>\n",
              "      <td>POINT Z (4.37587 51.99712 43.16642)</td>\n",
              "    </tr>\n",
              "  </tbody>\n",
              "</table>\n",
              "</div>\n",
              "      <button class=\"colab-df-convert\" onclick=\"convertToInteractive('df-2a1e2380-c0aa-40b3-a9aa-8b6be0364f01')\"\n",
              "              title=\"Convert this dataframe to an interactive table.\"\n",
              "              style=\"display:none;\">\n",
              "        \n",
              "  <svg xmlns=\"http://www.w3.org/2000/svg\" height=\"24px\"viewBox=\"0 0 24 24\"\n",
              "       width=\"24px\">\n",
              "    <path d=\"M0 0h24v24H0V0z\" fill=\"none\"/>\n",
              "    <path d=\"M18.56 5.44l.94 2.06.94-2.06 2.06-.94-2.06-.94-.94-2.06-.94 2.06-2.06.94zm-11 1L8.5 8.5l.94-2.06 2.06-.94-2.06-.94L8.5 2.5l-.94 2.06-2.06.94zm10 10l.94 2.06.94-2.06 2.06-.94-2.06-.94-.94-2.06-.94 2.06-2.06.94z\"/><path d=\"M17.41 7.96l-1.37-1.37c-.4-.4-.92-.59-1.43-.59-.52 0-1.04.2-1.43.59L10.3 9.45l-7.72 7.72c-.78.78-.78 2.05 0 2.83L4 21.41c.39.39.9.59 1.41.59.51 0 1.02-.2 1.41-.59l7.78-7.78 2.81-2.81c.8-.78.8-2.07 0-2.86zM5.41 20L4 18.59l7.72-7.72 1.47 1.35L5.41 20z\"/>\n",
              "  </svg>\n",
              "      </button>\n",
              "      \n",
              "  <style>\n",
              "    .colab-df-container {\n",
              "      display:flex;\n",
              "      flex-wrap:wrap;\n",
              "      gap: 12px;\n",
              "    }\n",
              "\n",
              "    .colab-df-convert {\n",
              "      background-color: #E8F0FE;\n",
              "      border: none;\n",
              "      border-radius: 50%;\n",
              "      cursor: pointer;\n",
              "      display: none;\n",
              "      fill: #1967D2;\n",
              "      height: 32px;\n",
              "      padding: 0 0 0 0;\n",
              "      width: 32px;\n",
              "    }\n",
              "\n",
              "    .colab-df-convert:hover {\n",
              "      background-color: #E2EBFA;\n",
              "      box-shadow: 0px 1px 2px rgba(60, 64, 67, 0.3), 0px 1px 3px 1px rgba(60, 64, 67, 0.15);\n",
              "      fill: #174EA6;\n",
              "    }\n",
              "\n",
              "    [theme=dark] .colab-df-convert {\n",
              "      background-color: #3B4455;\n",
              "      fill: #D2E3FC;\n",
              "    }\n",
              "\n",
              "    [theme=dark] .colab-df-convert:hover {\n",
              "      background-color: #434B5C;\n",
              "      box-shadow: 0px 1px 3px 1px rgba(0, 0, 0, 0.15);\n",
              "      filter: drop-shadow(0px 1px 2px rgba(0, 0, 0, 0.3));\n",
              "      fill: #FFFFFF;\n",
              "    }\n",
              "  </style>\n",
              "\n",
              "      <script>\n",
              "        const buttonEl =\n",
              "          document.querySelector('#df-2a1e2380-c0aa-40b3-a9aa-8b6be0364f01 button.colab-df-convert');\n",
              "        buttonEl.style.display =\n",
              "          google.colab.kernel.accessAllowed ? 'block' : 'none';\n",
              "\n",
              "        async function convertToInteractive(key) {\n",
              "          const element = document.querySelector('#df-2a1e2380-c0aa-40b3-a9aa-8b6be0364f01');\n",
              "          const dataTable =\n",
              "            await google.colab.kernel.invokeFunction('convertToInteractive',\n",
              "                                                     [key], {});\n",
              "          if (!dataTable) return;\n",
              "\n",
              "          const docLinkHtml = 'Like what you see? Visit the ' +\n",
              "            '<a target=\"_blank\" href=https://colab.research.google.com/notebooks/data_table.ipynb>data table notebook</a>'\n",
              "            + ' to learn more about interactive tables.';\n",
              "          element.innerHTML = '';\n",
              "          dataTable['output_type'] = 'display_data';\n",
              "          await google.colab.output.renderOutput(dataTable, element);\n",
              "          const docLink = document.createElement('div');\n",
              "          docLink.innerHTML = docLinkHtml;\n",
              "          element.appendChild(docLink);\n",
              "        }\n",
              "      </script>\n",
              "    </div>\n",
              "  </div>\n",
              "  "
            ]
          },
          "metadata": {},
          "execution_count": 33
        }
      ],
      "source": [
        "points_idx.loc[['a1']]"
      ]
    },
    {
      "cell_type": "markdown",
      "id": "3690397c-1e4c-4a66-8a6a-f97ecc77ea0a",
      "metadata": {
        "id": "3690397c-1e4c-4a66-8a6a-f97ecc77ea0a"
      },
      "source": [
        "The type that is returned is always a GeoPandas geodataframe (Note: if single `[]` are used, with one row, a Pandas series is returned)"
      ]
    },
    {
      "cell_type": "code",
      "execution_count": 34,
      "id": "8a50c844-e59a-4f25-bf5b-8229721bdef3",
      "metadata": {
        "colab": {
          "base_uri": "https://localhost:8080/"
        },
        "id": "8a50c844-e59a-4f25-bf5b-8229721bdef3",
        "outputId": "1f79cc83-c39f-48a3-f9ed-8b3027be56da"
      },
      "outputs": [
        {
          "output_type": "stream",
          "name": "stdout",
          "text": [
            "<class 'geopandas.geodataframe.GeoDataFrame'>\n"
          ]
        }
      ],
      "source": [
        "print(type(lines.loc[[0]]))"
      ]
    },
    {
      "cell_type": "markdown",
      "id": "535282c5-d88f-4a5f-b6f2-6fe621939384",
      "metadata": {
        "id": "535282c5-d88f-4a5f-b6f2-6fe621939384"
      },
      "source": [
        "Specific columns can be selected as well, using e.g. the following syntax"
      ]
    },
    {
      "cell_type": "code",
      "execution_count": 35,
      "id": "050c054a-d923-4e44-a96f-d5a9f5793086",
      "metadata": {
        "colab": {
          "base_uri": "https://localhost:8080/",
          "height": 143
        },
        "id": "050c054a-d923-4e44-a96f-d5a9f5793086",
        "outputId": "fac11272-78f0-4072-92a5-299f5adf2e1c"
      },
      "outputs": [
        {
          "output_type": "execute_result",
          "data": {
            "text/plain": [
              "      longitude   latitude\n",
              "name                      \n",
              "a1     4.375868  51.997117\n",
              "a2     4.375872  51.997075"
            ],
            "text/html": [
              "\n",
              "  <div id=\"df-b64e7a78-b81a-4fa4-adc8-0923db81a0e3\">\n",
              "    <div class=\"colab-df-container\">\n",
              "      <div>\n",
              "<style scoped>\n",
              "    .dataframe tbody tr th:only-of-type {\n",
              "        vertical-align: middle;\n",
              "    }\n",
              "\n",
              "    .dataframe tbody tr th {\n",
              "        vertical-align: top;\n",
              "    }\n",
              "\n",
              "    .dataframe thead th {\n",
              "        text-align: right;\n",
              "    }\n",
              "</style>\n",
              "<table border=\"1\" class=\"dataframe\">\n",
              "  <thead>\n",
              "    <tr style=\"text-align: right;\">\n",
              "      <th></th>\n",
              "      <th>longitude</th>\n",
              "      <th>latitude</th>\n",
              "    </tr>\n",
              "    <tr>\n",
              "      <th>name</th>\n",
              "      <th></th>\n",
              "      <th></th>\n",
              "    </tr>\n",
              "  </thead>\n",
              "  <tbody>\n",
              "    <tr>\n",
              "      <th>a1</th>\n",
              "      <td>4.375868</td>\n",
              "      <td>51.997117</td>\n",
              "    </tr>\n",
              "    <tr>\n",
              "      <th>a2</th>\n",
              "      <td>4.375872</td>\n",
              "      <td>51.997075</td>\n",
              "    </tr>\n",
              "  </tbody>\n",
              "</table>\n",
              "</div>\n",
              "      <button class=\"colab-df-convert\" onclick=\"convertToInteractive('df-b64e7a78-b81a-4fa4-adc8-0923db81a0e3')\"\n",
              "              title=\"Convert this dataframe to an interactive table.\"\n",
              "              style=\"display:none;\">\n",
              "        \n",
              "  <svg xmlns=\"http://www.w3.org/2000/svg\" height=\"24px\"viewBox=\"0 0 24 24\"\n",
              "       width=\"24px\">\n",
              "    <path d=\"M0 0h24v24H0V0z\" fill=\"none\"/>\n",
              "    <path d=\"M18.56 5.44l.94 2.06.94-2.06 2.06-.94-2.06-.94-.94-2.06-.94 2.06-2.06.94zm-11 1L8.5 8.5l.94-2.06 2.06-.94-2.06-.94L8.5 2.5l-.94 2.06-2.06.94zm10 10l.94 2.06.94-2.06 2.06-.94-2.06-.94-.94-2.06-.94 2.06-2.06.94z\"/><path d=\"M17.41 7.96l-1.37-1.37c-.4-.4-.92-.59-1.43-.59-.52 0-1.04.2-1.43.59L10.3 9.45l-7.72 7.72c-.78.78-.78 2.05 0 2.83L4 21.41c.39.39.9.59 1.41.59.51 0 1.02-.2 1.41-.59l7.78-7.78 2.81-2.81c.8-.78.8-2.07 0-2.86zM5.41 20L4 18.59l7.72-7.72 1.47 1.35L5.41 20z\"/>\n",
              "  </svg>\n",
              "      </button>\n",
              "      \n",
              "  <style>\n",
              "    .colab-df-container {\n",
              "      display:flex;\n",
              "      flex-wrap:wrap;\n",
              "      gap: 12px;\n",
              "    }\n",
              "\n",
              "    .colab-df-convert {\n",
              "      background-color: #E8F0FE;\n",
              "      border: none;\n",
              "      border-radius: 50%;\n",
              "      cursor: pointer;\n",
              "      display: none;\n",
              "      fill: #1967D2;\n",
              "      height: 32px;\n",
              "      padding: 0 0 0 0;\n",
              "      width: 32px;\n",
              "    }\n",
              "\n",
              "    .colab-df-convert:hover {\n",
              "      background-color: #E2EBFA;\n",
              "      box-shadow: 0px 1px 2px rgba(60, 64, 67, 0.3), 0px 1px 3px 1px rgba(60, 64, 67, 0.15);\n",
              "      fill: #174EA6;\n",
              "    }\n",
              "\n",
              "    [theme=dark] .colab-df-convert {\n",
              "      background-color: #3B4455;\n",
              "      fill: #D2E3FC;\n",
              "    }\n",
              "\n",
              "    [theme=dark] .colab-df-convert:hover {\n",
              "      background-color: #434B5C;\n",
              "      box-shadow: 0px 1px 3px 1px rgba(0, 0, 0, 0.15);\n",
              "      filter: drop-shadow(0px 1px 2px rgba(0, 0, 0, 0.3));\n",
              "      fill: #FFFFFF;\n",
              "    }\n",
              "  </style>\n",
              "\n",
              "      <script>\n",
              "        const buttonEl =\n",
              "          document.querySelector('#df-b64e7a78-b81a-4fa4-adc8-0923db81a0e3 button.colab-df-convert');\n",
              "        buttonEl.style.display =\n",
              "          google.colab.kernel.accessAllowed ? 'block' : 'none';\n",
              "\n",
              "        async function convertToInteractive(key) {\n",
              "          const element = document.querySelector('#df-b64e7a78-b81a-4fa4-adc8-0923db81a0e3');\n",
              "          const dataTable =\n",
              "            await google.colab.kernel.invokeFunction('convertToInteractive',\n",
              "                                                     [key], {});\n",
              "          if (!dataTable) return;\n",
              "\n",
              "          const docLinkHtml = 'Like what you see? Visit the ' +\n",
              "            '<a target=\"_blank\" href=https://colab.research.google.com/notebooks/data_table.ipynb>data table notebook</a>'\n",
              "            + ' to learn more about interactive tables.';\n",
              "          element.innerHTML = '';\n",
              "          dataTable['output_type'] = 'display_data';\n",
              "          await google.colab.output.renderOutput(dataTable, element);\n",
              "          const docLink = document.createElement('div');\n",
              "          docLink.innerHTML = docLinkHtml;\n",
              "          element.appendChild(docLink);\n",
              "        }\n",
              "      </script>\n",
              "    </div>\n",
              "  </div>\n",
              "  "
            ]
          },
          "metadata": {},
          "execution_count": 35
        }
      ],
      "source": [
        "points_idx[['longitude', 'latitude']]"
      ]
    },
    {
      "cell_type": "markdown",
      "id": "4ce0b2c8-c763-441d-ac7c-b86b2a4c7a21",
      "metadata": {
        "id": "4ce0b2c8-c763-441d-ac7c-b86b2a4c7a21"
      },
      "source": [
        "There is purpose behind using `[[ ]]` or `[]`. The first returns a Pandas dataframe, the second a Pandas series:"
      ]
    },
    {
      "cell_type": "code",
      "execution_count": 36,
      "id": "2c08691e-7863-477b-9865-22c0243d7213",
      "metadata": {
        "colab": {
          "base_uri": "https://localhost:8080/"
        },
        "id": "2c08691e-7863-477b-9865-22c0243d7213",
        "outputId": "e0379346-a185-4257-ce99-f570549eb1ea"
      },
      "outputs": [
        {
          "output_type": "stream",
          "name": "stdout",
          "text": [
            "<class 'pandas.core.frame.DataFrame'>\n",
            "<class 'pandas.core.series.Series'>\n"
          ]
        }
      ],
      "source": [
        "print(type(points_idx[['latitude']]))\n",
        "print(type(points_idx['latitude']))"
      ]
    },
    {
      "cell_type": "markdown",
      "id": "3dca2bbc-79fc-46f5-99f7-5acf4ea7ee14",
      "metadata": {
        "id": "3dca2bbc-79fc-46f5-99f7-5acf4ea7ee14"
      },
      "source": [
        "The geometry is something special. If this is included a GeoPandas GeoDataFrame or GeoSeries is returned: "
      ]
    },
    {
      "cell_type": "code",
      "execution_count": 37,
      "id": "d0bffe5f-9a42-4726-b6d8-ab773c66606d",
      "metadata": {
        "colab": {
          "base_uri": "https://localhost:8080/",
          "height": 161
        },
        "id": "d0bffe5f-9a42-4726-b6d8-ab773c66606d",
        "outputId": "442d80d1-6796-43a8-df53-ebd4f4ee552e"
      },
      "outputs": [
        {
          "output_type": "stream",
          "name": "stdout",
          "text": [
            "<class 'geopandas.geodataframe.GeoDataFrame'>\n"
          ]
        },
        {
          "output_type": "execute_result",
          "data": {
            "text/plain": [
              "                                 geometry\n",
              "name                                     \n",
              "a1    POINT Z (4.37587 51.99712 43.16642)\n",
              "a2    POINT Z (4.37587 51.99708 43.17842)"
            ],
            "text/html": [
              "\n",
              "  <div id=\"df-c404c340-4952-4c9c-9ecc-8d38a75aa0fd\">\n",
              "    <div class=\"colab-df-container\">\n",
              "      <div>\n",
              "<style scoped>\n",
              "    .dataframe tbody tr th:only-of-type {\n",
              "        vertical-align: middle;\n",
              "    }\n",
              "\n",
              "    .dataframe tbody tr th {\n",
              "        vertical-align: top;\n",
              "    }\n",
              "\n",
              "    .dataframe thead th {\n",
              "        text-align: right;\n",
              "    }\n",
              "</style>\n",
              "<table border=\"1\" class=\"dataframe\">\n",
              "  <thead>\n",
              "    <tr style=\"text-align: right;\">\n",
              "      <th></th>\n",
              "      <th>geometry</th>\n",
              "    </tr>\n",
              "    <tr>\n",
              "      <th>name</th>\n",
              "      <th></th>\n",
              "    </tr>\n",
              "  </thead>\n",
              "  <tbody>\n",
              "    <tr>\n",
              "      <th>a1</th>\n",
              "      <td>POINT Z (4.37587 51.99712 43.16642)</td>\n",
              "    </tr>\n",
              "    <tr>\n",
              "      <th>a2</th>\n",
              "      <td>POINT Z (4.37587 51.99708 43.17842)</td>\n",
              "    </tr>\n",
              "  </tbody>\n",
              "</table>\n",
              "</div>\n",
              "      <button class=\"colab-df-convert\" onclick=\"convertToInteractive('df-c404c340-4952-4c9c-9ecc-8d38a75aa0fd')\"\n",
              "              title=\"Convert this dataframe to an interactive table.\"\n",
              "              style=\"display:none;\">\n",
              "        \n",
              "  <svg xmlns=\"http://www.w3.org/2000/svg\" height=\"24px\"viewBox=\"0 0 24 24\"\n",
              "       width=\"24px\">\n",
              "    <path d=\"M0 0h24v24H0V0z\" fill=\"none\"/>\n",
              "    <path d=\"M18.56 5.44l.94 2.06.94-2.06 2.06-.94-2.06-.94-.94-2.06-.94 2.06-2.06.94zm-11 1L8.5 8.5l.94-2.06 2.06-.94-2.06-.94L8.5 2.5l-.94 2.06-2.06.94zm10 10l.94 2.06.94-2.06 2.06-.94-2.06-.94-.94-2.06-.94 2.06-2.06.94z\"/><path d=\"M17.41 7.96l-1.37-1.37c-.4-.4-.92-.59-1.43-.59-.52 0-1.04.2-1.43.59L10.3 9.45l-7.72 7.72c-.78.78-.78 2.05 0 2.83L4 21.41c.39.39.9.59 1.41.59.51 0 1.02-.2 1.41-.59l7.78-7.78 2.81-2.81c.8-.78.8-2.07 0-2.86zM5.41 20L4 18.59l7.72-7.72 1.47 1.35L5.41 20z\"/>\n",
              "  </svg>\n",
              "      </button>\n",
              "      \n",
              "  <style>\n",
              "    .colab-df-container {\n",
              "      display:flex;\n",
              "      flex-wrap:wrap;\n",
              "      gap: 12px;\n",
              "    }\n",
              "\n",
              "    .colab-df-convert {\n",
              "      background-color: #E8F0FE;\n",
              "      border: none;\n",
              "      border-radius: 50%;\n",
              "      cursor: pointer;\n",
              "      display: none;\n",
              "      fill: #1967D2;\n",
              "      height: 32px;\n",
              "      padding: 0 0 0 0;\n",
              "      width: 32px;\n",
              "    }\n",
              "\n",
              "    .colab-df-convert:hover {\n",
              "      background-color: #E2EBFA;\n",
              "      box-shadow: 0px 1px 2px rgba(60, 64, 67, 0.3), 0px 1px 3px 1px rgba(60, 64, 67, 0.15);\n",
              "      fill: #174EA6;\n",
              "    }\n",
              "\n",
              "    [theme=dark] .colab-df-convert {\n",
              "      background-color: #3B4455;\n",
              "      fill: #D2E3FC;\n",
              "    }\n",
              "\n",
              "    [theme=dark] .colab-df-convert:hover {\n",
              "      background-color: #434B5C;\n",
              "      box-shadow: 0px 1px 3px 1px rgba(0, 0, 0, 0.15);\n",
              "      filter: drop-shadow(0px 1px 2px rgba(0, 0, 0, 0.3));\n",
              "      fill: #FFFFFF;\n",
              "    }\n",
              "  </style>\n",
              "\n",
              "      <script>\n",
              "        const buttonEl =\n",
              "          document.querySelector('#df-c404c340-4952-4c9c-9ecc-8d38a75aa0fd button.colab-df-convert');\n",
              "        buttonEl.style.display =\n",
              "          google.colab.kernel.accessAllowed ? 'block' : 'none';\n",
              "\n",
              "        async function convertToInteractive(key) {\n",
              "          const element = document.querySelector('#df-c404c340-4952-4c9c-9ecc-8d38a75aa0fd');\n",
              "          const dataTable =\n",
              "            await google.colab.kernel.invokeFunction('convertToInteractive',\n",
              "                                                     [key], {});\n",
              "          if (!dataTable) return;\n",
              "\n",
              "          const docLinkHtml = 'Like what you see? Visit the ' +\n",
              "            '<a target=\"_blank\" href=https://colab.research.google.com/notebooks/data_table.ipynb>data table notebook</a>'\n",
              "            + ' to learn more about interactive tables.';\n",
              "          element.innerHTML = '';\n",
              "          dataTable['output_type'] = 'display_data';\n",
              "          await google.colab.output.renderOutput(dataTable, element);\n",
              "          const docLink = document.createElement('div');\n",
              "          docLink.innerHTML = docLinkHtml;\n",
              "          element.appendChild(docLink);\n",
              "        }\n",
              "      </script>\n",
              "    </div>\n",
              "  </div>\n",
              "  "
            ]
          },
          "metadata": {},
          "execution_count": 37
        }
      ],
      "source": [
        "print(type(points_idx[['geometry']]))\n",
        "points_idx[['geometry']]"
      ]
    },
    {
      "cell_type": "code",
      "execution_count": 38,
      "id": "7aa11762-111f-451d-9c42-580bc98fe3f2",
      "metadata": {
        "colab": {
          "base_uri": "https://localhost:8080/"
        },
        "id": "7aa11762-111f-451d-9c42-580bc98fe3f2",
        "outputId": "f982da0b-8623-47b1-eb60-6e9bece9390c"
      },
      "outputs": [
        {
          "output_type": "stream",
          "name": "stdout",
          "text": [
            "<class 'geopandas.geoseries.GeoSeries'>\n"
          ]
        },
        {
          "output_type": "execute_result",
          "data": {
            "text/plain": [
              "name\n",
              "a1    POINT Z (4.37587 51.99712 43.16642)\n",
              "a2    POINT Z (4.37587 51.99708 43.17842)\n",
              "Name: geometry, dtype: geometry"
            ]
          },
          "metadata": {},
          "execution_count": 38
        }
      ],
      "source": [
        "print(type(points_idx['geometry']))\n",
        "points_idx['geometry']"
      ]
    },
    {
      "cell_type": "markdown",
      "id": "ca60a64d-ed01-4d95-a8a9-7bfee3a14be7",
      "metadata": {
        "id": "ca60a64d-ed01-4d95-a8a9-7bfee3a14be7"
      },
      "source": [
        "## Converting geometries and to numpy arrays with coordinates  \n",
        "\n",
        "In the previous section the geometry was retrieved in the typical Pandas way using a column selection. This is so important that this has been implemented in GeoPandas as `geometry` method.\n",
        "This method is used, together with other methods, to retrieve the coordinates as `numpy` arrays for further analysis.\n",
        "\n",
        "We show this with a couple of examples. \n",
        "\n",
        "The `geometry` method returns what is called a *GeoSeries* (the equivalent of a Pandas data series). "
      ]
    },
    {
      "cell_type": "code",
      "execution_count": 39,
      "id": "8bb07851-1c40-4930-b6a7-97214d805f77",
      "metadata": {
        "colab": {
          "base_uri": "https://localhost:8080/"
        },
        "id": "8bb07851-1c40-4930-b6a7-97214d805f77",
        "outputId": "58ca9025-c73f-4b05-da59-3597a7ed8f08"
      },
      "outputs": [
        {
          "output_type": "stream",
          "name": "stdout",
          "text": [
            "<class 'geopandas.geoseries.GeoSeries'>\n"
          ]
        },
        {
          "output_type": "execute_result",
          "data": {
            "text/plain": [
              "name\n",
              "a1    POINT Z (4.37587 51.99712 43.16642)\n",
              "a2    POINT Z (4.37587 51.99708 43.17842)\n",
              "Name: geometry, dtype: geometry"
            ]
          },
          "metadata": {},
          "execution_count": 39
        }
      ],
      "source": [
        "print(type(points_idx.geometry))\n",
        "points_idx.geometry"
      ]
    },
    {
      "cell_type": "markdown",
      "id": "f163bf37-5f3b-47b7-88e8-c8731d685f61",
      "metadata": {
        "id": "f163bf37-5f3b-47b7-88e8-c8731d685f61"
      },
      "source": [
        "To obtain the `wkt` representation as string the *wkt* method can be used on a single instance of a *geometry* object:"
      ]
    },
    {
      "cell_type": "code",
      "execution_count": 40,
      "id": "18b2a310-2123-4ad0-b24a-73dd8ceead7b",
      "metadata": {
        "colab": {
          "base_uri": "https://localhost:8080/",
          "height": 53
        },
        "id": "18b2a310-2123-4ad0-b24a-73dd8ceead7b",
        "outputId": "6aaf4882-be4a-44f0-88d9-2b8b86cf743d"
      },
      "outputs": [
        {
          "output_type": "stream",
          "name": "stdout",
          "text": [
            "<class 'str'>\n"
          ]
        },
        {
          "output_type": "execute_result",
          "data": {
            "text/plain": [
              "'POINT Z (4.375868448333334 51.99711651 43.16642)'"
            ],
            "application/vnd.google.colaboratory.intrinsic+json": {
              "type": "string"
            }
          },
          "metadata": {},
          "execution_count": 40
        }
      ],
      "source": [
        "print(type(points_idx.geometry[0].wkt))\n",
        "points_idx.geometry[0].wkt"
      ]
    },
    {
      "cell_type": "markdown",
      "id": "b799ecf2-94bd-4d9a-ac91-0d336c5d0123",
      "metadata": {
        "id": "b799ecf2-94bd-4d9a-ac91-0d336c5d0123"
      },
      "source": [
        "To obtain the coordinates use `coords` (from the `shapely` package) on a single geometry instance, and then convert to a list with coordinate *tuples* or a two-dimensional numpy *array*:"
      ]
    },
    {
      "cell_type": "code",
      "execution_count": 41,
      "id": "ee09ecb4-c49c-43d7-9320-80276d51aee3",
      "metadata": {
        "colab": {
          "base_uri": "https://localhost:8080/"
        },
        "id": "ee09ecb4-c49c-43d7-9320-80276d51aee3",
        "outputId": "d91ce9ae-2b01-4e90-9d8f-7cbe3dc53f97"
      },
      "outputs": [
        {
          "output_type": "stream",
          "name": "stdout",
          "text": [
            "<class 'shapely.coords.CoordinateSequence'>\n",
            "[(4.375868448333334, 51.99711651, 43.16642)]\n"
          ]
        },
        {
          "output_type": "execute_result",
          "data": {
            "text/plain": [
              "array([[ 4.37586845, 51.99711651, 43.16642   ]])"
            ]
          },
          "metadata": {},
          "execution_count": 41
        }
      ],
      "source": [
        "print(type(points_idx.geometry[0].coords))\n",
        "print(list(points_idx.geometry[0].coords))\n",
        "np.array(points_idx.geometry[0].coords)"
      ]
    },
    {
      "cell_type": "markdown",
      "id": "7b873f1f-f06e-4f9b-9698-174d0267b898",
      "metadata": {
        "id": "7b873f1f-f06e-4f9b-9698-174d0267b898"
      },
      "source": [
        "Doing this on LINESTRING returns a fully populated two-dimensional numpy array:"
      ]
    },
    {
      "cell_type": "code",
      "execution_count": 42,
      "id": "a9ac048b-e601-4c9e-87a4-eae617d5ae04",
      "metadata": {
        "colab": {
          "base_uri": "https://localhost:8080/"
        },
        "id": "a9ac048b-e601-4c9e-87a4-eae617d5ae04",
        "outputId": "57b37780-ad85-4ca0-9cf4-116563350181"
      },
      "outputs": [
        {
          "output_type": "execute_result",
          "data": {
            "text/plain": [
              "array([[ 4.37608299, 51.99747063, 42.66542   ],\n",
              "       [ 4.3760709 , 51.99744949, 42.63942   ],\n",
              "       [ 4.37607125, 51.99744916, 42.63242   ],\n",
              "       [ 4.37607101, 51.99744919, 42.63442   ],\n",
              "       [ 4.37607093, 51.9974492 , 42.63442   ],\n",
              "       [ 4.37607042, 51.99744778, 42.67942   ],\n",
              "       [ 4.37606734, 51.99744146, 42.66942   ],\n",
              "       [ 4.37606203, 51.99743249, 42.67442   ],\n",
              "       [ 4.37605589, 51.99742374, 42.71942   ],\n",
              "       [ 4.37604761, 51.99741651, 42.71242   ],\n",
              "       [ 4.37603535, 51.99741185, 42.67742   ],\n",
              "       [ 4.37602199, 51.99741022, 42.68542   ],\n",
              "       [ 4.37600823, 51.99741191, 42.63842   ],\n",
              "       [ 4.37599777, 51.9974172 , 42.63842   ],\n",
              "       [ 4.37599386, 51.99742463, 42.63442   ],\n",
              "       [ 4.37599565, 51.99743283, 42.63142   ],\n",
              "       [ 4.37600559, 51.9974377 , 42.64642   ],\n",
              "       [ 4.37601849, 51.99743878, 42.66642   ],\n",
              "       [ 4.37603148, 51.99743514, 42.68442   ],\n",
              "       [ 4.37604201, 51.99742885, 42.69142   ],\n",
              "       [ 4.37604786, 51.99742119, 42.66042   ],\n",
              "       [ 4.37604997, 51.99741621, 42.61042   ],\n",
              "       [ 4.37605014, 51.99741582, 42.59042   ],\n",
              "       [ 4.37605027, 51.99741543, 42.59142   ],\n",
              "       [ 4.37604993, 51.99741468, 42.59342   ],\n",
              "       [ 4.37598425, 51.99730663, 42.81842   ],\n",
              "       [ 4.37598433, 51.99730639, 42.81142   ]])"
            ]
          },
          "metadata": {},
          "execution_count": 42
        }
      ],
      "source": [
        "np.array(lines.geometry[0].coords)"
      ]
    },
    {
      "cell_type": "markdown",
      "id": "a10e286c-8d88-4483-ba98-bbde87e55bc6",
      "metadata": {
        "id": "a10e286c-8d88-4483-ba98-bbde87e55bc6"
      },
      "source": [
        "Having the coordinates as numpy array means that you can do a lot of other stuff on the data. For example, you can compute the mean and standard deviation of the repeated measurements on the static point (new benchmark) that you created."
      ]
    },
    {
      "cell_type": "markdown",
      "id": "d1054ae0-cc6a-440f-b8ec-01a3af80e552",
      "metadata": {
        "id": "d1054ae0-cc6a-440f-b8ec-01a3af80e552"
      },
      "source": [
        "## Analysis of the GNSS measurement precision\n",
        "\n",
        "During the practical you created a new point, whereby the pole was fixed using a small tripod and measurements were collected over about three minutes. This data can be used to assess the internal measurement precision of the GNSS system. \n",
        "\n",
        "The data was stored in your dataset as a track. In our dataset this was the first track, but this  may be different in yours!. To analyze the precision you have to compute the standard deviation. Below we use the methods *mean* and *std*:"
      ]
    },
    {
      "cell_type": "code",
      "execution_count": 43,
      "id": "8a008f72-b6bb-4cd2-ba78-9dda0f03411c",
      "metadata": {
        "colab": {
          "base_uri": "https://localhost:8080/"
        },
        "id": "8a008f72-b6bb-4cd2-ba78-9dda0f03411c",
        "outputId": "a83dc4fe-f6d7-4e8f-9084-faac4e59ab6b"
      },
      "outputs": [
        {
          "output_type": "stream",
          "name": "stdout",
          "text": [
            "shape (59, 3)\n",
            "mean [ 4.3760257  51.99740506 42.55170814] in deg/deg/m\n",
            "stdev [2.36424722e-08 1.91788290e-08 3.07408998e-03] in deg/deg/m\n"
          ]
        }
      ],
      "source": [
        "static_point_coords = np.array(tracks.geometry[0].coords)\n",
        "print('shape',static_point_coords.shape)\n",
        "print('mean',static_point_coords.mean(axis=0), 'in deg/deg/m')\n",
        "print('stdev',static_point_coords.std(axis=0, ddof=1), 'in deg/deg/m')"
      ]
    },
    {
      "cell_type": "markdown",
      "id": "d310e015-5d99-41a6-b603-5dd890b71274",
      "metadata": {
        "id": "d310e015-5d99-41a6-b603-5dd890b71274"
      },
      "source": [
        "Obviously, it is not very useful to have the standard deviation both in degrees and meters, especially because latitude and longitude can not be compared with each other. To have the statistics all in meters you can convert the coordinates to a grid system, e.g. the Dutch RD system, using the `to_crs()` method. The results are:"
      ]
    },
    {
      "cell_type": "code",
      "execution_count": 44,
      "id": "e42ebc38-28ec-4616-bb7c-35d0bdd486eb",
      "metadata": {
        "colab": {
          "base_uri": "https://localhost:8080/"
        },
        "id": "e42ebc38-28ec-4616-bb7c-35d0bdd486eb",
        "outputId": "edc58129-ad4f-4be6-8d6a-71538bb40557"
      },
      "outputs": [
        {
          "output_type": "stream",
          "name": "stdout",
          "text": [
            "shape (59, 3)\n",
            "mean [8.55579720e+04 4.45930218e+05 4.25517081e+01] in m/m/m\n",
            "stdev [1.60866585 2.14524583 3.07408998] in mm/mm/mm\n"
          ]
        }
      ],
      "source": [
        "static_point_rdcoords = np.array(tracks.to_crs('EPSG:28992').geometry[0].coords)\n",
        "print('shape',static_point_rdcoords.shape)\n",
        "print('mean',static_point_rdcoords.mean(axis=0), 'in m/m/m')\n",
        "print('stdev',static_point_rdcoords.std(axis=0, ddof=1)*1000, 'in mm/mm/mm')"
      ]
    },
    {
      "cell_type": "markdown",
      "id": "19ad8d52-19c1-4a9b-ae63-b3aa157398b0",
      "metadata": {
        "id": "19ad8d52-19c1-4a9b-ae63-b3aa157398b0"
      },
      "source": [
        "The first coordinate is in the East direction (x), the second in the North direction (y) and the third in the vertical (elevation).\n",
        "\n",
        "Even though the `EPSG:28992` transformation has (officially) only 1 meter accuracy it can still be used for computing statistics such as the standard deviation: this is because for a give location the error in the transformation is the same (hence it does not affect the standard deviation, only the mean)."
      ]
    },
    {
      "cell_type": "markdown",
      "id": "5d7c09eb-9624-4c3b-ad91-33996bceaedc",
      "metadata": {
        "id": "5d7c09eb-9624-4c3b-ad91-33996bceaedc"
      },
      "source": [
        "**Question 4:** include the standard deviations, with the appropriate number of significant digits (think about this), is your report. Are these standard deviations what you would expect from `RTK-fixed` solutions?"
      ]
    },
    {
      "cell_type": "markdown",
      "id": "dd430c52-a7d3-48eb-91ae-f51274fc6d3b",
      "metadata": {
        "id": "dd430c52-a7d3-48eb-91ae-f51274fc6d3b"
      },
      "source": [
        "As an extra, having all units equal, it becomes now easy to compute the co-variance and correlation matrices:"
      ]
    },
    {
      "cell_type": "code",
      "execution_count": 45,
      "id": "e21c1466-56dd-462e-9cf6-2b5e893be2b6",
      "metadata": {
        "colab": {
          "base_uri": "https://localhost:8080/"
        },
        "id": "e21c1466-56dd-462e-9cf6-2b5e893be2b6",
        "outputId": "9a9f5d03-074e-4cb7-c21d-74619e2c4c45"
      },
      "outputs": [
        {
          "output_type": "execute_result",
          "data": {
            "text/plain": [
              "array([[ 2.58780582e-06, -1.73407812e-06,  2.51786577e-06],\n",
              "       [-1.73407812e-06,  4.60207967e-06, -3.12740752e-06],\n",
              "       [ 2.51786577e-06, -3.12740752e-06,  9.45002922e-06]])"
            ]
          },
          "metadata": {},
          "execution_count": 45
        }
      ],
      "source": [
        "np.cov(static_point_rdcoords, rowvar=False)"
      ]
    },
    {
      "cell_type": "code",
      "execution_count": 46,
      "id": "e0e253d4-f7d4-4285-81d7-141c902d6dff",
      "metadata": {
        "tags": [],
        "colab": {
          "base_uri": "https://localhost:8080/"
        },
        "id": "e0e253d4-f7d4-4285-81d7-141c902d6dff",
        "outputId": "4ea74592-6f44-408e-d449-8a0674ad5b24"
      },
      "outputs": [
        {
          "output_type": "execute_result",
          "data": {
            "text/plain": [
              "array([[ 1.        , -0.50248806,  0.50915517],\n",
              "       [-0.50248806,  1.        , -0.47423198],\n",
              "       [ 0.50915517, -0.47423198,  1.        ]])"
            ]
          },
          "metadata": {},
          "execution_count": 46
        }
      ],
      "source": [
        "np.corrcoef(static_point_rdcoords, rowvar=False)"
      ]
    },
    {
      "cell_type": "markdown",
      "id": "b89a3f0a-10b7-49ca-945a-52d867d2202e",
      "metadata": {
        "id": "b89a3f0a-10b7-49ca-945a-52d867d2202e"
      },
      "source": [
        "Also nice is to plot a scatter diagram of the positions:"
      ]
    },
    {
      "cell_type": "code",
      "execution_count": 47,
      "id": "026cd56c-74af-47de-abf2-acbfd59ea07a",
      "metadata": {
        "colab": {
          "base_uri": "https://localhost:8080/",
          "height": 279
        },
        "id": "026cd56c-74af-47de-abf2-acbfd59ea07a",
        "outputId": "15349bc8-4c4d-469e-9b19-2a06ff6d9e97"
      },
      "outputs": [
        {
          "output_type": "display_data",
          "data": {
            "text/plain": [
              "<Figure size 432x288 with 1 Axes>"
            ],
            "image/png": "[encoded data removed]"
          },
          "metadata": {
            "needs_background": "light"
          }
        }
      ],
      "source": [
        "xyref = np.mean(static_point_rdcoords[:,0:2], axis=0)*1000\n",
        "xy = static_point_rdcoords[:,0:2]*1000 - xyref\n",
        "\n",
        "fig, ax = plt.subplots()\n",
        "\n",
        "plt.scatter(xy[:,0], xy[:,1] , s=3)\n",
        "plt.xlabel('x [mm]')\n",
        "plt.ylabel('y [mm]')\n",
        "plt.grid()\n",
        "\n",
        "ax.set_aspect('equal')\n",
        "\n",
        "plt.show();"
      ]
    },
    {
      "cell_type": "markdown",
      "id": "d122a7f0-be93-4bce-9c7e-4824f42b3d82",
      "metadata": {
        "id": "d122a7f0-be93-4bce-9c7e-4824f42b3d82"
      },
      "source": [
        "**Question 5:** Include the scatterplot in your report."
      ]
    },
    {
      "cell_type": "markdown",
      "id": "b1660712-2bdf-4122-80af-50377177cf15",
      "metadata": {
        "id": "b1660712-2bdf-4122-80af-50377177cf15"
      },
      "source": [
        "In **Appendix I** we show how to add an error elipse to the scatterplot.\n",
        "\n",
        "Another useful way to display the scatter is to plot the data as an histogram:"
      ]
    },
    {
      "cell_type": "code",
      "execution_count": 48,
      "id": "40f8efb1-8980-4d14-873d-9caed62d3aff",
      "metadata": {
        "colab": {
          "base_uri": "https://localhost:8080/",
          "height": 281
        },
        "id": "40f8efb1-8980-4d14-873d-9caed62d3aff",
        "outputId": "8eb71274-0ed7-4044-de40-4df8425cf04c"
      },
      "outputs": [
        {
          "output_type": "display_data",
          "data": {
            "text/plain": [
              "<Figure size 432x288 with 3 Axes>"
            ],
            "image/png": "[encoded data removed]"
          },
          "metadata": {
            "needs_background": "light"
          }
        }
      ],
      "source": [
        "xyzref = np.mean(static_point_rdcoords, axis=0)*1000\n",
        "xyz = static_point_rdcoords*1000 - xyzref\n",
        "\n",
        "fig, (ax0, ax1, ax2) = plt.subplots(1,3)\n",
        "\n",
        "ax0.hist(xyz[:,0])\n",
        "ax1.hist(xyz[:,1])\n",
        "ax2.hist(xyz[:,2])\n",
        "ax0.set_title('x [mm]')\n",
        "ax1.set_title('y [mm]')\n",
        "ax2.set_title('h [mm]')\n",
        "\n",
        "plt.show();"
      ]
    },
    {
      "cell_type": "markdown",
      "id": "3f77379d-31a4-4017-8dde-4ed98c7aa0d9",
      "metadata": {
        "id": "3f77379d-31a4-4017-8dde-4ed98c7aa0d9"
      },
      "source": [
        "**Question 6:** Include the three position coordinate histograms in your report."
      ]
    },
    {
      "cell_type": "markdown",
      "id": "3e36ea15-14d1-4183-92f3-af10e919957f",
      "metadata": {
        "id": "3e36ea15-14d1-4183-92f3-af10e919957f"
      },
      "source": [
        "## Analysis of the coordinate accuracy - checking the coordinates\n",
        "\n",
        "Two existing benchmarks, **C3** and **L7**, for which we know the coordinates accurately from previous measurements campaigns, were measured in order to validate and check the newly derived coordinates.\n",
        "\n",
        "The given coordinates for the two points are\n",
        "\n",
        "name | longitude   | latitude    | elevation |  x-RD      |   y-RD      | h-NAP\n",
        "-----|-------------|-------------|-----------|------------|-------------|--------\n",
        "C3   | 4.375868389 | 51.99711689 |  43.1350  | 85546.7239 | 445898.3033 | -0.3835\n",
        "L7   | 4.375871465 | 51.99707539 |  43.1551  | 85546.8709 | 445893.6834 | -0.3633\n",
        "\n",
        "The longitude, latitude and elevation are in ETRS89 (Dutch national realization based on ETRF2000).\n",
        "\n",
        "The RD and NAP coordinates have been computed using the official RDNAPTRANS(TM) procedure using PCTrans from the ministry of Defense (https://www.defensie.nl/downloads/applicaties/2021/06/30/pctrans5_20210630). This coordinate transformation is centimeter accurate, as opposed to the one provided by `EPSG:28992`. Later we shall also do a more accurate transformation using `PROJ` in Python.\n",
        "\n",
        "The given coordinates are stored in two numpy arrays:"
      ]
    },
    {
      "cell_type": "code",
      "execution_count": 49,
      "id": "61333031-45e4-4a26-b2cf-8ac7e1638c67",
      "metadata": {
        "colab": {
          "base_uri": "https://localhost:8080/"
        },
        "id": "61333031-45e4-4a26-b2cf-8ac7e1638c67",
        "outputId": "c3892ad1-1f29-47c3-dabc-8ddd06972dd8"
      },
      "outputs": [
        {
          "output_type": "execute_result",
          "data": {
            "text/plain": [
              "array([[ 4.37586839, 51.99711689, 43.135     ],\n",
              "       [ 4.37587147, 51.99707539, 43.1551    ]])"
            ]
          },
          "metadata": {},
          "execution_count": 49
        }
      ],
      "source": [
        "refs = [ 'C3' , 'L7']\n",
        "geo_ref = np.array([[ 4.375868389, 51.99711689, 43.1350 ] ,   \n",
        "                    [ 4.375871465, 51.99707539, 43.1551 ]])\n",
        "rd_ref = np.array([[ 85546.7239, 445898.3033, -0.3835 ] ,\n",
        "                  [ 85546.8709, 445893.6834, -0.3633 ]])\n",
        "geo_ref"
      ]
    },
    {
      "cell_type": "markdown",
      "id": "72559f1e-c371-44b9-b27d-860e58a7bd45",
      "metadata": {
        "id": "72559f1e-c371-44b9-b27d-860e58a7bd45"
      },
      "source": [
        "#### Difference between measured and reference from geographic coordinates\n",
        "\n",
        "In the code cells below the difference between the measured and given coordinates are computed using the geographic (geodetic) longitude, latitude and elevation coordinates. \n",
        "\n",
        "We start by providing the measured coordinates as numpy array in the same row order as the reference coordinates. Please note that you have to adjust this section to match YOUR dataset!!"
      ]
    },
    {
      "cell_type": "code",
      "execution_count": 50,
      "id": "2c79f9e0-73ca-40fe-b007-4c4567be839c",
      "metadata": {
        "colab": {
          "base_uri": "https://localhost:8080/"
        },
        "id": "2c79f9e0-73ca-40fe-b007-4c4567be839c",
        "outputId": "070c77a6-e4a1-4742-d6f9-7b1ce258492c"
      },
      "outputs": [
        {
          "output_type": "execute_result",
          "data": {
            "text/plain": [
              "array([[ 4.37586845, 51.99711651, 43.16642   ],\n",
              "       [ 4.37587156, 51.9970752 , 43.17842   ]])"
            ]
          },
          "metadata": {},
          "execution_count": 50
        }
      ],
      "source": [
        "# Measured coordinates (order must be the same as the given coordinates: C3 == a1, L7 == a2)\n",
        "geo_meas = np.array(points_idx[['longitude', 'latitude',  'elevation']].loc[['a1','a2']])\n",
        "geo_meas"
      ]
    },
    {
      "cell_type": "markdown",
      "id": "d3100429-8fbd-48a2-94e1-27d9662688fc",
      "metadata": {
        "id": "d3100429-8fbd-48a2-94e1-27d9662688fc"
      },
      "source": [
        "The differences in longitude (deg), latitude (deg) and elevation (m) are:"
      ]
    },
    {
      "cell_type": "code",
      "execution_count": 51,
      "id": "8f27f611-4951-4a85-b5a4-22358a882e0c",
      "metadata": {
        "colab": {
          "base_uri": "https://localhost:8080/"
        },
        "id": "8f27f611-4951-4a85-b5a4-22358a882e0c",
        "outputId": "28f6ae36-510e-46b0-b409-67d05c7bf3c9"
      },
      "outputs": [
        {
          "output_type": "execute_result",
          "data": {
            "text/plain": [
              "array([[ 5.93333338e-08, -3.80000003e-07,  3.14200000e-02],\n",
              "       [ 9.33333331e-08, -1.85000005e-07,  2.33200000e-02]])"
            ]
          },
          "metadata": {},
          "execution_count": 51
        }
      ],
      "source": [
        "geo_diff = geo_meas - geo_ref\n",
        "geo_diff"
      ]
    },
    {
      "cell_type": "markdown",
      "id": "c58b4ea5-42c7-4f98-9ab2-d90bf33b783a",
      "metadata": {
        "id": "c58b4ea5-42c7-4f98-9ab2-d90bf33b783a"
      },
      "source": [
        "Using eqs. (29.6) and (29.7) from the Surveying and Mapping book (page 266) small differences in latitude and longitude can be converted into units of meters. \n",
        "\n",
        "First, we get the parameters for the ellipoid from one of the GeoDataFrames:"
      ]
    },
    {
      "cell_type": "code",
      "execution_count": 52,
      "id": "fbd0e6d3-91e3-48c3-812c-c962f21b10cb",
      "metadata": {
        "colab": {
          "base_uri": "https://localhost:8080/"
        },
        "id": "fbd0e6d3-91e3-48c3-812c-c962f21b10cb",
        "outputId": "23b9b11f-ea63-4d22-d5b1-ed6e14982199"
      },
      "outputs": [
        {
          "output_type": "stream",
          "name": "stdout",
          "text": [
            "a, finv: 6378137.0 298.257223563\n"
          ]
        }
      ],
      "source": [
        "crscf = points.crs.to_cf()\n",
        "a = crscf['semi_major_axis']\n",
        "finv = crscf['inverse_flattening']\n",
        "f = 1/finv\n",
        "e2 = 2*f - f**2\n",
        "\n",
        "print('a, finv:', a, finv)"
      ]
    },
    {
      "cell_type": "markdown",
      "id": "85514c75-9a21-475f-85b4-2bc80f3e11e0",
      "metadata": {
        "id": "85514c75-9a21-475f-85b4-2bc80f3e11e0"
      },
      "source": [
        "Then we compute the scaling factors (deg -> meters) for the latitude and longitude using eqs. (29.6) for the radius of curvature and the conversion factors from (29.7):"
      ]
    },
    {
      "cell_type": "code",
      "execution_count": 53,
      "id": "a086f8c4-2cab-457c-8efb-afaff94f8b97",
      "metadata": {
        "tags": [],
        "colab": {
          "base_uri": "https://localhost:8080/"
        },
        "id": "a086f8c4-2cab-457c-8efb-afaff94f8b97",
        "outputId": "9a18e4e7-6a26-47a4-ea10-e10ba449a742"
      },
      "outputs": [
        {
          "output_type": "stream",
          "name": "stdout",
          "text": [
            "flat, flon: 111267.29811810433 68682.45977424421\n"
          ]
        }
      ],
      "source": [
        "lat0 = np.deg2rad(np.mean(geo_ref[:,1]))       # reference latitude in radians\n",
        "\n",
        "N = a / np.sqrt(1 - e2 * np.sin(lat0)**2)      # radius of curvatures\n",
        "M = N * (1 -e2) / ( 1 - e2 * np.sin(lat0)**2)\n",
        "flat= M * np.pi / 180                          # conversion factors deg -> m\n",
        "flon= N*np.cos(lat0) * np.pi / 180\n",
        "\n",
        "print('flat, flon:', flat, flon)"
      ]
    },
    {
      "cell_type": "markdown",
      "id": "87deea2e-10bf-4255-8d89-91d9d7784805",
      "metadata": {
        "id": "87deea2e-10bf-4255-8d89-91d9d7784805"
      },
      "source": [
        "In this conversion the height above the ellipsoid is ignored, therefore, the resulting metrics are on the ellipsoid. \n",
        "\n",
        "The differences in East (longitude direction), North (latitude direction) and elevation, in cm (explaining the factor `100` in the code), are:"
      ]
    },
    {
      "cell_type": "code",
      "execution_count": 54,
      "id": "72bbd687-72ee-4bde-94a3-cc2518440ecf",
      "metadata": {
        "colab": {
          "base_uri": "https://localhost:8080/"
        },
        "id": "72bbd687-72ee-4bde-94a3-cc2518440ecf",
        "outputId": "0a4d1a0f-bc02-426e-a38c-270868324100"
      },
      "outputs": [
        {
          "output_type": "stream",
          "name": "stdout",
          "text": [
            "Difference in East, North and Up in cm:\n",
            " [[ 0.40751593 -4.22815736  3.142     ]\n",
            " [ 0.64103629 -2.05844507  2.332     ]]\n"
          ]
        }
      ],
      "source": [
        "geo_diff_metric = geo_diff.copy()\n",
        "geo_diff_metric[:,0] =  geo_diff[:,0]*flon \n",
        "geo_diff_metric[:,1] =  geo_diff[:,1]*flat\n",
        "\n",
        "print('Difference in East, North and Up in cm:\\n', geo_diff_metric *100)"
      ]
    },
    {
      "cell_type": "markdown",
      "id": "43739cf2-8c7b-4399-9dd4-682a06e3a717",
      "metadata": {
        "id": "43739cf2-8c7b-4399-9dd4-682a06e3a717"
      },
      "source": [
        "**Question 7:** Include these differences in your report and compare these with the standard deviations from the previous section. Explain in your report why these differences are smaller/larger than the standard deviations. Some hints are provided below, what can you say about your case? "
      ]
    },
    {
      "cell_type": "markdown",
      "id": "1ec1a400-788a-4e61-a836-c95f363e4037",
      "metadata": {
        "id": "1ec1a400-788a-4e61-a836-c95f363e4037"
      },
      "source": [
        "In general these differences should be significantly larger than the standard deviations from the previous section, which represent the internal precision of the GNSS system. There are a couple of factors that contribute to the error budget, that could provide an explanation:\n",
        "\n",
        "- the pole deviated from the vertical and/or the bubble level has an error\n",
        "- the length of the pole was entered incorrectly\n",
        "- the height of the antenna phase center above the antenna reference point is not correct (this can happen for the rover as well as for the reference station), or the software may not apply the antenna height for the reference station correctly (this height should be broadcast by a special RTCM message)\n",
        "- the coordinates of the reference station are in error\n",
        "- systematic error in the GNSS (a obvious culprit is the ionosphere delay, if not modelled correctly, this results in a scale error)\n",
        "- human error (e.g. wrong point)\n",
        "\n",
        "When the differences are in the few cm range, human errors in occupying the wrong point, or mistakes in entering the antenna height, can be ruled out, though a few cm error in holding the pole vertical is easy to make.\n",
        "\n",
        "If one of the differences is smaller, or the same order of magnitude, as the standard deviation, then this is just coincidence (can happen statistically). "
      ]
    },
    {
      "cell_type": "markdown",
      "id": "2c1b0a1c-b24d-4e43-a167-65251221970e",
      "metadata": {
        "id": "2c1b0a1c-b24d-4e43-a167-65251221970e"
      },
      "source": [
        "#### Difference between measured and reference from projected coordinates\n",
        "\n",
        "The measured coordinates can be converted to projected RD coordinates using the inbuild CRS transformation, and then compared to the projected RD coordinates that are given.\n",
        "\n",
        "The RD and NAP coordinates given by *rd_ref* in the previous section have been computed using the official RDNAPTRANS(TM) procedure with PCTrans from the ministry of Defense (https://www.defensie.nl/downloads/applicaties/2021/06/30/pctrans5_20210630). This coordinate transformation is centimeter accurate, as opposed to the one provided by `EPSG:28992`. So, lets compare:"
      ]
    },
    {
      "cell_type": "code",
      "execution_count": 55,
      "id": "4c5f744d-cc27-4b81-8450-298a255af055",
      "metadata": {
        "colab": {
          "base_uri": "https://localhost:8080/"
        },
        "id": "4c5f744d-cc27-4b81-8450-298a255af055",
        "outputId": "9d65e13b-9983-47a1-e8d4-1fbe422131bd"
      },
      "outputs": [
        {
          "output_type": "execute_result",
          "data": {
            "text/plain": [
              "array([[8.55467266e+04, 4.45898267e+05, 4.31664200e+01],\n",
              "       [8.55468762e+04, 4.45893669e+05, 4.31784200e+01]])"
            ]
          },
          "metadata": {},
          "execution_count": 55
        }
      ],
      "source": [
        "# Measured coordinates (order must be the same as the given coordinates: C3 == a1, L7 == a2) in RD\n",
        "rd_meas = np.vstack([ np.array(points_idx.to_crs('EPSG:28992').geometry['a1'].coords) ,\n",
        "                      np.array(points_idx.to_crs('EPSG:28992').geometry['a2'].coords) ])\n",
        "rd_meas"
      ]
    },
    {
      "cell_type": "code",
      "execution_count": 56,
      "id": "3df9bf47-6fbb-45e2-9830-1188a19a0139",
      "metadata": {
        "colab": {
          "base_uri": "https://localhost:8080/"
        },
        "id": "3df9bf47-6fbb-45e2-9830-1188a19a0139",
        "outputId": "718c81ca-1020-4e7e-85d6-5c897376c63c"
      },
      "outputs": [
        {
          "output_type": "execute_result",
          "data": {
            "text/plain": [
              "array([[ 8.55467239e+04,  4.45898303e+05, -3.83500000e-01],\n",
              "       [ 8.55468709e+04,  4.45893683e+05, -3.63300000e-01]])"
            ]
          },
          "metadata": {},
          "execution_count": 56
        }
      ],
      "source": [
        "rd_ref"
      ]
    },
    {
      "cell_type": "code",
      "execution_count": 57,
      "id": "c568e224-5a64-407e-828e-963430d4832e",
      "metadata": {
        "colab": {
          "base_uri": "https://localhost:8080/"
        },
        "id": "c568e224-5a64-407e-828e-963430d4832e",
        "outputId": "1d5a1b95-be77-4998-95d7-d029441fd53a"
      },
      "outputs": [
        {
          "output_type": "stream",
          "name": "stdout",
          "text": [
            "Difference in East (x) and North (y) in cm (from geographic coordinates):\n",
            " [[ 0.2666124  -3.66171522]\n",
            " [ 0.52584704 -1.48749261]]\n",
            "Difference in East (x) and North (y) in cm (from RD coordinates): \n",
            " [[ 0.40751593 -4.22815736]\n",
            " [ 0.64103629 -2.05844507]]\n",
            "Difference in East (x) and North (y) in cm between methods: \n",
            " [[-0.14090353  0.56644214]\n",
            " [-0.11518925  0.57095245]]\n"
          ]
        }
      ],
      "source": [
        "rd_diff = rd_meas - rd_ref\n",
        "print('Difference in East (x) and North (y) in cm (from geographic coordinates):\\n', rd_diff[:,0:2] *100)\n",
        "print('Difference in East (x) and North (y) in cm (from RD coordinates): \\n', geo_diff_metric[:,0:2] *100)\n",
        "print('Difference in East (x) and North (y) in cm between methods: \\n', rd_diff[:,0:2] *100 - geo_diff_metric[:,0:2] *100)"
      ]
    },
    {
      "cell_type": "markdown",
      "id": "c76a6505-2867-4463-9f87-047757e27fa9",
      "metadata": {
        "id": "c76a6505-2867-4463-9f87-047757e27fa9"
      },
      "source": [
        "These differences are surprisingly small considering that `EPSG:28992` is officially only accurate at the meter level. Could this be just for Delft, or is this true for the whole of the Netherlands? We don't know."
      ]
    },
    {
      "cell_type": "markdown",
      "id": "86091078-090c-4888-9d47-8644d416030b",
      "metadata": {
        "id": "86091078-090c-4888-9d47-8644d416030b"
      },
      "source": [
        "## RDNAPTRANS™2018 - Official Coordinate transformation between RD, NAP and ETRS89\n",
        "\n",
        "RDNAPTRANS (https://www.nsgi.nl/rdnaptrans) is the name of the official Dutch transformation procedure between RD (Rijksdriehoeksmeting), NAP (Normaal Amsterdams Peil) and ETRS89 (European Terrestrial Reference System 1989). The current version is RDNAPTRANS™2018. RDNAPTRANS is maintained by the Nederlandse Samenwerking Geodetische Infrastructuur (NSGI). \n",
        "\n",
        "The following implementations and API are available (https://www.nsgi.nl/web/nsgi/geodetische-infrastructuur/coordinatentransformatie):\n",
        "\n",
        "- PCTrans: A freely available Windows 10 application for geodetic and hydrographic computations from the Hydrographic Service (https://www.defensie.nl/downloads/applicaties/2021/06/30/pctrans5_20210630)\n",
        "- Web based API provided by NSGI (https://www.nsgi.nl/coordinatentransformatie-api), API-key required\n",
        "- Implementations of RDNAPTRANS™2018 by software providers (validated by NSGI)\n",
        "\n",
        "RDNAPTRANS™2018 can be implemented using the Transform method from the Python-3 `pyproj` package with PROJ version 7.x or higher. Two additional files are required: the geoid file `nlgeo2008.gtx` and transformation grid file `rdcorr2018.gsb` must be present in the same folder as this module.\n",
        "\n",
        "Reference:\n",
        "\n",
        "Jochem Lesparre, Lennard Huisman and Bas Alberts (2020), RDNAPTRANS™2018 - Coordinate transformation to and from Stelsel van de Rijksdriehoeksmeting and Normaal Amsterdams \n",
        "Peil, Nederlandse Samenwerking Geodetische Infrastructuur, 5 Feb 2020."
      ]
    },
    {
      "cell_type": "markdown",
      "id": "bbb6c70c-b584-46d8-a7b4-9a5f79355eb7",
      "metadata": {
        "id": "bbb6c70c-b584-46d8-a7b4-9a5f79355eb7"
      },
      "source": [
        "RDNAPTRANS™2018 requires the Python-3 `pyproj` package with PROJ version 7.x or higher. Before continuing, check if you are using PROJ version 7.x or higher:"
      ]
    },
    {
      "cell_type": "code",
      "execution_count": 58,
      "id": "067e011c-7bd2-4f26-bd71-be44e14a0892",
      "metadata": {
        "colab": {
          "base_uri": "https://localhost:8080/"
        },
        "id": "067e011c-7bd2-4f26-bd71-be44e14a0892",
        "outputId": "4183205c-1c33-4c97-ee7f-b78f25dd924c"
      },
      "outputs": [
        {
          "output_type": "stream",
          "name": "stdout",
          "text": [
            "pyproj info:\n",
            "    pyproj: 3.4.1\n",
            "      PROJ: 9.1.0\n",
            "  data dir: /usr/local/lib/python3.8/dist-packages/pyproj/proj_dir/share/proj\n",
            "user_data_dir: /root/.local/share/proj\n",
            "PROJ DATA (recommended version): 1.11\n",
            "PROJ Database: 1.2\n",
            "EPSG Database: v10.074 [2022-08-01]\n",
            "ESRI Database: ArcGIS Pro 3.0 [2022-07-09]\n",
            "IGNF Database: 3.1.0 [2019-05-24]\n",
            "\n",
            "System:\n",
            "    python: 3.8.10 (default, Nov 14 2022, 12:59:47)  [GCC 9.4.0]\n",
            "executable: /usr/bin/python3\n",
            "   machine: Linux-5.10.147+-x86_64-with-glibc2.29\n",
            "\n",
            "Python deps:\n",
            "   certifi: 2022.12.7\n",
            "    Cython: 0.29.33\n",
            "setuptools: 57.4.0\n",
            "       pip: 22.0.4\n"
          ]
        }
      ],
      "source": [
        "pyproj.show_versions()"
      ]
    },
    {
      "cell_type": "markdown",
      "id": "f1e92b80-cf8f-4701-8229-d5a6b40b9ff7",
      "metadata": {
        "id": "f1e92b80-cf8f-4701-8229-d5a6b40b9ff7"
      },
      "source": [
        "RDNAPTRANS™2018 is implemented using the `pyproj` Transform method. A `pyproj.Transformer` object `rdnaptrans2018` is created with the transformation parameters given by the variable  `pipeline_3d`. The transformer object is used to create the functions `etrs89_to_rdnap(lat, lon, elevation) -> x, y, H` and the inverse transformation `rdnap_to_etrs89(x, y, H) -> lat, lon, elevation`:"
      ]
    },
    {
      "cell_type": "code",
      "execution_count": 59,
      "id": "0802da9a-63dc-4e03-8515-0707e2d905e4",
      "metadata": {
        "id": "0802da9a-63dc-4e03-8515-0707e2d905e4"
      },
      "outputs": [],
      "source": [
        "# Define variables with the PROJ transform pipeline and pyproj.Transformer object\n",
        "\n",
        "pipeline_3d = (\n",
        "    '+proj=pipeline '\n",
        "    '+step +proj=unitconvert +xy_in=deg +z_in=m +xy_out=rad +z_out=m '\n",
        "    '+step +proj=axisswap +order=2,1,3,4 '\n",
        "    '+step +proj=vgridshift +grids=./nlgeo2018.gtx '\n",
        "    '+step +proj=push +v_3 '\n",
        "    '+step +proj=set +v_3=43 +omit_inv '\n",
        "    '+step +proj=cart +ellps=GRS80 '\n",
        "    '+step +proj=helmert +x=-565.7346 +y=-50.4058 +z=-465.2895 +rx=-0.395023 '\n",
        "    '+ry=0.330776 +rz=-1.876073 +s=-4.07242 +convention=coordinate_frame +exact '\n",
        "    '+step +proj=cart +inv +ellps=bessel '\n",
        "    '+step +proj=hgridshift +inv +grids=./rdcorr2018.gsb,null '\n",
        "    '+step +proj=sterea +lat_0=52.156160556 +lon_0=5.387638889 +k=0.9999079 '\n",
        "    '+x_0=155000 +y_0=463000 +ellps=bessel '\n",
        "    '+step +proj=set +v_3=0 +omit_fwd '\n",
        "    '+step +proj=pop +v_3'\n",
        ")\n",
        "\n",
        "rdnaptrans2018 = pyproj.Transformer.from_pipeline(pipeline_3d)\n",
        "\n",
        "# Define function with forward transformation\n",
        "\n",
        "def etrs89_to_rdnap(lon, lat, elevation):\n",
        "    # x, y, H = etrs89_to_rdnap(lon, lat, elevation)\n",
        "    return rdnaptrans2018.transform(lat, lon, elevation, direction='FORWARD')\n",
        "\n",
        "# Define function with inverse transformation\n",
        "\n",
        "def rdnap_to_etrs89(x, y, H):\n",
        "    # lon, lat, elevation = rdnap_to_etrs89_3d(x, y, H):\n",
        "    lat, lon, elevation = rdnaptrans2018.transform(x, y, H, direction='INVERSE')\n",
        "    return lon, lat, elevation\n"
      ]
    },
    {
      "cell_type": "markdown",
      "id": "52398ac6-c0b0-43d9-aeb7-3ab54dcf9139",
      "metadata": {
        "id": "52398ac6-c0b0-43d9-aeb7-3ab54dcf9139"
      },
      "source": [
        "Note that the `pipeline_3d` variable contains references to the geoid file `nlgeo2008.gtx` (line 4) and transformation grid file `rdcorr2018.gsb` (line 11), which are expected to be present in the same folder as this notebook. If these files are stored in a different location, you have to adjust the path in the `pipeline_3d` variable. If these files are not present in the expected location the `Transformer` object returns an error!"
      ]
    },
    {
      "cell_type": "markdown",
      "id": "8d01ba5d-5457-41d6-adf9-c8aa244d0c1c",
      "metadata": {
        "id": "8d01ba5d-5457-41d6-adf9-c8aa244d0c1c"
      },
      "source": [
        "#### Comparison with official RD/NAP coordinates\n",
        "\n",
        "For the two control points **C3** and **L7** we have both geographic coordinates and elevation in ETRS89 and RD/NAP coordinates. The RD/NAP coordinates for the control points were computed using Leica captivate and agree with PCTRANS.\n",
        "\n",
        "Now, let's check if our procedure gives the same result: "
      ]
    },
    {
      "cell_type": "code",
      "execution_count": 60,
      "id": "3bec3425-9508-4c5d-900c-b6fe325fa0c1",
      "metadata": {
        "id": "3bec3425-9508-4c5d-900c-b6fe325fa0c1"
      },
      "outputs": [],
      "source": [
        "refs = [ 'C3' , 'L7']\n",
        "geo_ref = np.array([[ 4.375868389, 51.99711689, 43.1350 ] ,   \n",
        "                    [ 4.375871465, 51.99707539, 43.1551 ]])\n",
        "rd_ref = np.array([[ 85546.7239, 445898.3033, -0.3835 ] ,\n",
        "                  [ 85546.8709, 445893.6834, -0.3633 ]])"
      ]
    },
    {
      "cell_type": "code",
      "execution_count": 61,
      "id": "f0d0c171-68ca-42a3-be31-ddc79ed744cb",
      "metadata": {
        "colab": {
          "base_uri": "https://localhost:8080/"
        },
        "id": "f0d0c171-68ca-42a3-be31-ddc79ed744cb",
        "outputId": "5cdaef2b-005e-403b-f58f-1f4ef1f46d5b"
      },
      "outputs": [
        {
          "output_type": "execute_result",
          "data": {
            "text/plain": [
              "(array([85546.72397309, 85546.87093274]),\n",
              " array([445898.30371615, 445893.68390911]),\n",
              " array([-0.3836091 , -0.36355064]))"
            ]
          },
          "metadata": {},
          "execution_count": 61
        }
      ],
      "source": [
        "rd_new = etrs89_to_rdnap( geo_ref[:,0], geo_ref[:,1], geo_ref[:,2]) \n",
        "rd_new"
      ]
    },
    {
      "cell_type": "markdown",
      "id": "b7b0cfd9-abaa-44b1-8ac3-a48c8d5e4997",
      "metadata": {
        "id": "b7b0cfd9-abaa-44b1-8ac3-a48c8d5e4997"
      },
      "source": [
        "Reformat rd_new, and compute the difference:"
      ]
    },
    {
      "cell_type": "code",
      "execution_count": 62,
      "id": "9e6c65cf-119c-49de-9706-1fc35d5c6fe6",
      "metadata": {
        "id": "9e6c65cf-119c-49de-9706-1fc35d5c6fe6"
      },
      "outputs": [],
      "source": [
        "rd_new = np.array(rd_new).T"
      ]
    },
    {
      "cell_type": "code",
      "execution_count": 63,
      "id": "e5de6447-8711-427f-ad58-03d0d645148b",
      "metadata": {
        "colab": {
          "base_uri": "https://localhost:8080/"
        },
        "id": "e5de6447-8711-427f-ad58-03d0d645148b",
        "outputId": "fe64e1b6-4909-4a5f-eaec-f20d708beea7"
      },
      "outputs": [
        {
          "output_type": "stream",
          "name": "stdout",
          "text": [
            "difference (in mm):\n",
            " [[ 0.07308627  0.4161495  -0.10909671]\n",
            " [ 0.03273944  0.50911354 -0.25063825]]\n"
          ]
        }
      ],
      "source": [
        "print('difference (in mm):\\n', (rd_new - rd_ref)*1000)"
      ]
    },
    {
      "cell_type": "markdown",
      "id": "01a519d9-db97-4e86-9920-748a5de2ecfb",
      "metadata": {
        "id": "01a519d9-db97-4e86-9920-748a5de2ecfb"
      },
      "source": [
        "You should get differences that are smaller than one millimeter. Check!"
      ]
    },
    {
      "cell_type": "markdown",
      "id": "8cd72322-aadc-48c4-b088-6d16404cbd66",
      "metadata": {
        "id": "8cd72322-aadc-48c4-b088-6d16404cbd66"
      },
      "source": [
        "Now lets check the inverse transformation:"
      ]
    },
    {
      "cell_type": "code",
      "execution_count": 64,
      "id": "b91938e7-7f1c-494a-833d-5c9f842e0dc7",
      "metadata": {
        "colab": {
          "base_uri": "https://localhost:8080/"
        },
        "id": "b91938e7-7f1c-494a-833d-5c9f842e0dc7",
        "outputId": "1210fa5a-f0b7-4a71-d394-5512ea58b9ee"
      },
      "outputs": [
        {
          "output_type": "stream",
          "name": "stdout",
          "text": [
            "difference (in mdeg/mdeg/mm):\n",
            " [[-9.89148319e-07 -3.66900821e-06  1.09100387e-01]\n",
            " [-3.82891052e-07 -4.49944082e-06  2.50642763e-01]]\n"
          ]
        }
      ],
      "source": [
        "lon, lat, h = rdnap_to_etrs89( rd_ref[:,0], rd_ref[:,1], rd_ref[:,2]) \n",
        "geo_new = np.array([lon, lat, h]).T\n",
        "print('difference (in mdeg/mdeg/mm):\\n', (geo_new - geo_ref)*1000)"
      ]
    },
    {
      "cell_type": "markdown",
      "id": "e15ea854-22b6-44dc-9983-89c307794b5d",
      "metadata": {
        "id": "e15ea854-22b6-44dc-9983-89c307794b5d"
      },
      "source": [
        "A *mdeg* is one milli degree (1/1000 of a degree). "
      ]
    },
    {
      "cell_type": "markdown",
      "id": "b11aa503-6a44-4736-ae04-beec134e8a27",
      "metadata": {
        "id": "b11aa503-6a44-4736-ae04-beec134e8a27"
      },
      "source": [
        "#### Comparison with EPSG:28922\n",
        "\n",
        "Earlier, with GeoPandas, we used the transformation from EPSG:4326 to EPSG:28992 which didn't implement the correction grid, and only worked on the horizontal component. Let's compute the difference with the official procedure we just implemented. For the old procedure a new transformer is defined:"
      ]
    },
    {
      "cell_type": "code",
      "execution_count": 65,
      "id": "cbb20064-6564-4036-8b93-ffe0d4dce527",
      "metadata": {
        "colab": {
          "base_uri": "https://localhost:8080/"
        },
        "id": "cbb20064-6564-4036-8b93-ffe0d4dce527",
        "outputId": "c2aaf147-1e20-41ee-9417-7e0923bc6fbd"
      },
      "outputs": [
        {
          "output_type": "stream",
          "name": "stdout",
          "text": [
            "[[ 85546.72304207 445898.30966605]\n",
            " [ 85546.86999753 445893.6898472 ]]\n",
            "Difference in mm:\n",
            " [[-0.85792673  6.36604999]\n",
            " [-0.90247346  6.44719566]]\n"
          ]
        }
      ],
      "source": [
        "EPSG28992 = pyproj.Transformer.from_crs(\"EPSG:4326\", \"EPSG:28992\")\n",
        "\n",
        "rd_EPSG28992 = EPSG28992.transform(geo_ref[:,1], geo_ref[:,0])   # the transformer expect latitude before longitude\n",
        "rd_EPSG28992 = np.array(rd_EPSG28992).T\n",
        "print(rd_EPSG28992)\n",
        "print('Difference in mm:\\n',(rd_EPSG28992 - rd_ref[:,0:2])*1000)"
      ]
    },
    {
      "cell_type": "markdown",
      "id": "0b421c0f-d9cd-4461-acac-6b7f5ad435a4",
      "metadata": {
        "id": "0b421c0f-d9cd-4461-acac-6b7f5ad435a4"
      },
      "source": [
        "As we remarked before the difference in the horizontal component in the region of Delft is very small. However, differences can increase up to 1-2 dm in other parts of the Netherlands! In **Appendix II** we plot, as an extra, a map of the differences over the Netherlands, and a map with the elevation of the NAP reference surface above the ellipsoid.\n",
        "\n",
        "At this moment, a more important reason for us to use the RDNAPTRANS procedure, is that it allows us to also convert elevation above the ellipsoid to NAP height, which we need for the production of a Digital Elevation Model (DEM)."
      ]
    },
    {
      "cell_type": "markdown",
      "id": "bc62ef3b-041a-4f1a-baab-c0d4ec492db7",
      "metadata": {
        "id": "bc62ef3b-041a-4f1a-baab-c0d4ec492db7"
      },
      "source": [
        "## Computing a Digital Elevation Model (DEM)\n",
        "\n",
        "During the practical you measured a grid from which you will compute a Digital Elevation Model (DEM). \n",
        "\n",
        "The data was stored in your dataset as a track. In our dataset this was the second track, but this may be different in yours!. Extract this track as a numpy array and convert into RDNAP:"
      ]
    },
    {
      "cell_type": "code",
      "execution_count": 66,
      "id": "3380dbe0-59fa-4069-bc89-4686e4469417",
      "metadata": {
        "colab": {
          "base_uri": "https://localhost:8080/"
        },
        "id": "3380dbe0-59fa-4069-bc89-4686e4469417",
        "outputId": "3765e291-5abb-4a01-aa6f-d447df27f59c"
      },
      "outputs": [
        {
          "output_type": "stream",
          "name": "stdout",
          "text": [
            "shape (193, 3)\n"
          ]
        }
      ],
      "source": [
        "dem_data_geo = np.array(tracks.geometry[1].coords)\n",
        "print('shape',dem_data_geo.shape)"
      ]
    },
    {
      "cell_type": "code",
      "execution_count": 67,
      "id": "627145b5-7b27-4b13-851a-7ff6740af46e",
      "metadata": {
        "id": "627145b5-7b27-4b13-851a-7ff6740af46e"
      },
      "outputs": [],
      "source": [
        "xRD, yRD, HNAP = etrs89_to_rdnap(dem_data_geo[:,0], dem_data_geo[:,1], dem_data_geo[:,2] )"
      ]
    },
    {
      "cell_type": "code",
      "execution_count": 68,
      "id": "94a40e6f-0c67-4075-9d9d-dceb436e14e5",
      "metadata": {
        "colab": {
          "base_uri": "https://localhost:8080/",
          "height": 295
        },
        "id": "94a40e6f-0c67-4075-9d9d-dceb436e14e5",
        "outputId": "c702b589-0697-4690-e91a-6f062c0a536c"
      },
      "outputs": [
        {
          "output_type": "display_data",
          "data": {
            "text/plain": [
              "<Figure size 432x288 with 2 Axes>"
            ],
            "image/png": "[encoded data removed]"
          },
          "metadata": {
            "needs_background": "light"
          }
        }
      ],
      "source": [
        "fig, ax = plt.subplots()\n",
        "\n",
        "plt.scatter(xRD, yRD ,c=HNAP, s=5)\n",
        "plt.xlabel('x-RD [m]')\n",
        "plt.ylabel('y-RD [m]')\n",
        "plt.title('Scatter plot with NAP-height')\n",
        "plt.colorbar(label='NAP height [m]')\n",
        "\n",
        "ax.set_aspect('equal')\n",
        "\n",
        "plt.show();"
      ]
    },
    {
      "cell_type": "code",
      "execution_count": 69,
      "id": "7a1225a0-2635-4e9e-a057-541062b6e6e8",
      "metadata": {
        "id": "7a1225a0-2635-4e9e-a057-541062b6e6e8"
      },
      "outputs": [],
      "source": [
        "from matplotlib.tri import Triangulation, LinearTriInterpolator"
      ]
    },
    {
      "cell_type": "code",
      "execution_count": 70,
      "id": "3d56bdbd-f45e-4c22-8e24-d0678efdc887",
      "metadata": {
        "id": "3d56bdbd-f45e-4c22-8e24-d0678efdc887"
      },
      "outputs": [],
      "source": [
        "npts=100"
      ]
    },
    {
      "cell_type": "code",
      "execution_count": 71,
      "id": "67a2769f-b501-417c-a9d6-43b3d4b7dfb8",
      "metadata": {
        "colab": {
          "base_uri": "https://localhost:8080/",
          "height": 296
        },
        "id": "67a2769f-b501-417c-a9d6-43b3d4b7dfb8",
        "outputId": "7989e093-25df-4fc7-9295-5fa80ca990a4"
      },
      "outputs": [
        {
          "output_type": "display_data",
          "data": {
            "text/plain": [
              "<Figure size 432x288 with 2 Axes>"
            ],
            "image/png": "[encoded data removed]"
          },
          "metadata": {
            "needs_background": "light"
          }
        }
      ],
      "source": [
        "triObj = Triangulation(xRD,yRD)      # measured locations form an irregular grid they serve as vertices (nodes) of triangular interpolation\n",
        "                                        # see section 7.2 in Primer on Mathematical Geodesy\n",
        "fz = LinearTriInterpolator(triObj,HNAP) # linear interpolation (of terrain height) within triangles\n",
        "\n",
        "min_x = np.amin(xRD)                 # determine the boundaries of the (horizontal) area of interest\n",
        "max_x = np.amax(xRD)\n",
        "min_y = np.amin(yRD)\n",
        "max_y = np.amax(yRD)\n",
        "\n",
        "xnew = np.linspace(min_x,max_x,npts) # set-up new, regular grid\n",
        "ynew = np.linspace(min_y,max_y,npts)\n",
        "xxnew, yynew = np.meshgrid(xnew, ynew) # meshgrid to turn new 1D arrays into grid-array coordinates\n",
        "\n",
        "znew = fz(xxnew,yynew)               # do actual interpolation to new, regular grid\n",
        "\n",
        "fig = plt.figure()\n",
        "cs = plt.contourf(xnew, ynew, znew)  # produce contour-map\n",
        "cb = plt.colorbar(cs)                # add color-bar for height\n",
        "plt.title('Contour-map with NAP-height [m]')\n",
        "plt.xlabel('x_RD [m]')\n",
        "plt.ylabel('y_RD [m]')\n",
        "plt.axis('equal')\n",
        "\n",
        "plt.show()"
      ]
    },
    {
      "cell_type": "code",
      "execution_count": 72,
      "id": "54a29afa-85ba-4889-97a5-5df6e98b2092",
      "metadata": {
        "colab": {
          "base_uri": "https://localhost:8080/",
          "height": 278
        },
        "id": "54a29afa-85ba-4889-97a5-5df6e98b2092",
        "outputId": "8da51f55-3a1f-47f3-95ea-73a670a26373"
      },
      "outputs": [
        {
          "output_type": "display_data",
          "data": {
            "text/plain": [
              "<Figure size 432x288 with 1 Axes>"
            ],
            "image/png": "[encoded data removed]"
          },
          "metadata": {
            "needs_background": "light"
          }
        }
      ],
      "source": [
        "ax = plt.figure().add_subplot(projection='3d')\n",
        "colormap = 'viridis'\n",
        "surf = ax.plot_trisurf(xRD, yRD, HNAP, cmap=colormap, antialiased = True)\n",
        "ax.view_init(30,330)             # set viewing angle - default (elevation=30deg, azimuth=300deg), i.e. looking from South-East\n",
        "plt.title('3D terrain model with NAP height [m]')\n",
        "plt.xlabel('x_RD [m]')\n",
        "plt.ylabel('y_RD [m]')\n",
        "\n",
        "plt.show();"
      ]
    },
    {
      "cell_type": "markdown",
      "id": "4be1576c-7236-49c9-96b1-41ddcfc1a8d9",
      "metadata": {
        "id": "4be1576c-7236-49c9-96b1-41ddcfc1a8d9"
      },
      "source": [
        "**Question 8:** Include the contour map and the 3D DEM in your report."
      ]
    },
    {
      "cell_type": "markdown",
      "id": "55c26ac4-0dc4-4622-9dd0-2c7fd4c372fe",
      "metadata": {
        "id": "55c26ac4-0dc4-4622-9dd0-2c7fd4c372fe"
      },
      "source": [
        "## Appendix I - Plotting confidence ellipses"
      ]
    },
    {
      "cell_type": "markdown",
      "id": "4813a4ae-7767-4941-a9c7-af9d236173a4",
      "metadata": {
        "id": "4813a4ae-7767-4941-a9c7-af9d236173a4"
      },
      "source": [
        "With a small helper function (from https://matplotlib.org/stable/gallery/statistics/confidence_ellipse.html), a 95% reliability standard error ellips can be added to the plot:"
      ]
    },
    {
      "cell_type": "code",
      "execution_count": 73,
      "id": "1c0e4ade-d827-47d3-bec7-9415787379f5",
      "metadata": {
        "id": "1c0e4ade-d827-47d3-bec7-9415787379f5"
      },
      "outputs": [],
      "source": [
        "# Helper function to plot standard ellipses. Source: https://matplotlib.org/stable/gallery/statistics/confidence_ellipse.html\n",
        "\n",
        "from matplotlib.patches import Ellipse\n",
        "import matplotlib.transforms as transforms\n",
        "\n",
        "def confidence_ellipse(x, y, ax, n_std=3.0, facecolor='none', **kwargs):\n",
        "    \"\"\"\n",
        "    Create a plot of the covariance confidence ellipse of *x* and *y*.\n",
        "\n",
        "    Parameters\n",
        "    ----------\n",
        "    x, y : array-like, shape (n, )\n",
        "        Input data.\n",
        "\n",
        "    ax : matplotlib.axes.Axes\n",
        "        The axes object to draw the ellipse into.\n",
        "\n",
        "    n_std : float\n",
        "        The number of standard deviations to determine the ellipse's radiuses.\n",
        "\n",
        "    **kwargs\n",
        "        Forwarded to `~matplotlib.patches.Ellipse`\n",
        "\n",
        "    Returns\n",
        "    -------\n",
        "    matplotlib.patches.Ellipse\n",
        "    \"\"\"\n",
        "    if x.size != y.size:\n",
        "        raise ValueError(\"x and y must be the same size\")\n",
        "\n",
        "    cov = np.cov(x, y)\n",
        "    pearson = cov[0, 1]/np.sqrt(cov[0, 0] * cov[1, 1])\n",
        "    # Using a special case to obtain the eigenvalues of this\n",
        "    # two-dimensional dataset.\n",
        "    ell_radius_x = np.sqrt(1 + pearson)\n",
        "    ell_radius_y = np.sqrt(1 - pearson)\n",
        "    ellipse = Ellipse((0, 0), width=ell_radius_x * 2, height=ell_radius_y * 2,\n",
        "                      facecolor=facecolor, **kwargs)\n",
        "\n",
        "    # Calculating the standard deviation of x from\n",
        "    # the squareroot of the variance and multiplying\n",
        "    # with the given number of standard deviations.\n",
        "    scale_x = np.sqrt(cov[0, 0]) * n_std\n",
        "    mean_x = np.mean(x)\n",
        "\n",
        "    # calculating the standard deviation of y ...\n",
        "    scale_y = np.sqrt(cov[1, 1]) * n_std\n",
        "    mean_y = np.mean(y)\n",
        "\n",
        "    transf = transforms.Affine2D() \\\n",
        "        .rotate_deg(45) \\\n",
        "        .scale(scale_x, scale_y) \\\n",
        "        .translate(mean_x, mean_y)\n",
        "\n",
        "    ellipse.set_transform(transf + ax.transData)\n",
        "    return ax.add_patch(ellipse)"
      ]
    },
    {
      "cell_type": "code",
      "execution_count": 74,
      "id": "f2e81804-d96e-4686-be39-4862a408899f",
      "metadata": {
        "colab": {
          "base_uri": "https://localhost:8080/",
          "height": 279
        },
        "id": "f2e81804-d96e-4686-be39-4862a408899f",
        "outputId": "d566e9d6-8f81-4088-fe10-1aae63c16218"
      },
      "outputs": [
        {
          "output_type": "display_data",
          "data": {
            "text/plain": [
              "<Figure size 432x288 with 1 Axes>"
            ],
            "image/png": "[encoded data removed]"
          },
          "metadata": {
            "needs_background": "light"
          }
        }
      ],
      "source": [
        "fig, ax = plt.subplots()\n",
        "\n",
        "ax.scatter(xy[:,0], xy[:,1], s=3)\n",
        "confidence_ellipse(xy[:,0], xy[:,1], ax, n_std=2, edgecolor='red')\n",
        "ax.set_xlabel('x [mm]')\n",
        "ax.set_ylabel('y [mm]')\n",
        "plt.grid()\n",
        "\n",
        "ax.set_aspect('equal')\n",
        "\n",
        "plt.show(); "
      ]
    },
    {
      "cell_type": "markdown",
      "id": "454dfe97-5a60-4d90-a614-53042f565343",
      "metadata": {
        "id": "454dfe97-5a60-4d90-a614-53042f565343"
      },
      "source": [
        "## Appendix II - RDNAPTRANS versus EPSG:28922\n",
        "\n",
        "In this appendix two maps of the Benelux area are created showing the differences between EPSG:28922 and the official RDNAPTRANS, and the elevation of the NAP reference surface above the ellipoid.\n",
        "\n",
        "As a first step a *geopackage* is loaded with the coastlines and borders, which will be used as background."
      ]
    },
    {
      "cell_type": "code",
      "execution_count": 75,
      "id": "235b6219-be86-47e1-a5dd-009804944654",
      "metadata": {
        "tags": [],
        "colab": {
          "base_uri": "https://localhost:8080/"
        },
        "id": "235b6219-be86-47e1-a5dd-009804944654",
        "outputId": "8737d884-d687-41c2-c80d-62da518f8de1"
      },
      "outputs": [
        {
          "output_type": "stream",
          "name": "stdout",
          "text": [
            "EPSG:4326 2.5212895409595575 8.371628267568887 49.27390824151914 53.759861\n"
          ]
        }
      ],
      "source": [
        "benelux= geopandas.read_file('Benelux.gpkg')\n",
        "minx, miny, maxx, maxy = benelux.geometry.total_bounds\n",
        "print(benelux.crs, minx, maxx, miny, maxy)"
      ]
    },
    {
      "cell_type": "markdown",
      "id": "f21d4436-1912-4f3d-b7be-d784f6af1d38",
      "metadata": {
        "id": "f21d4436-1912-4f3d-b7be-d784f6af1d38"
      },
      "source": [
        "The next step is to create a grid with longitude and latitude values:"
      ]
    },
    {
      "cell_type": "code",
      "execution_count": 76,
      "id": "db149b34-ee70-4e81-88bd-4df43b527e2b",
      "metadata": {
        "id": "db149b34-ee70-4e81-88bd-4df43b527e2b"
      },
      "outputs": [],
      "source": [
        "lats = np.arange(49.3, 54, .1)\n",
        "lons = np.arange(2.6, 8.6, .1)\n",
        "\n",
        "latgrid, longrid = np.meshgrid(lats, lons)"
      ]
    },
    {
      "cell_type": "markdown",
      "id": "bc4d987a-d6ac-4cda-8af8-81c2a6e90c40",
      "metadata": {
        "id": "bc4d987a-d6ac-4cda-8af8-81c2a6e90c40"
      },
      "source": [
        "With the help of this grid, two sets of RD coordinates are computed: one using EPSG:28922 and the other using the official RDNAPTRANS procedure. The RD coordinate differences are plotted as vectors, color coded with the length of each vector: "
      ]
    },
    {
      "cell_type": "code",
      "execution_count": 77,
      "id": "1d365ab5-7705-405b-b24c-8a1bf7fc6c14",
      "metadata": {
        "colab": {
          "base_uri": "https://localhost:8080/",
          "height": 459
        },
        "id": "1d365ab5-7705-405b-b24c-8a1bf7fc6c14",
        "outputId": "bd2f5715-f476-40dd-b392-8ff8568b7cea"
      },
      "outputs": [
        {
          "output_type": "display_data",
          "data": {
            "text/plain": [
              "<Figure size 504x504 with 2 Axes>"
            ],
            "image/png": "[encoded data removed]"
          },
          "metadata": {
            "needs_background": "light"
          }
        }
      ],
      "source": [
        "x_EPSG28992, y_EPSG28992 = EPSG28992.transform(latgrid, longrid)   # the transformer expect latitude before longitude\n",
        "x_rdnaptrans, y_rdnaptrans, h_rdnaptrans = etrs89_to_rdnap(longrid, latgrid, 44*np.ones(np.shape(longrid)))\n",
        "\n",
        "m = np.sqrt(np.power(x_EPSG28992-x_rdnaptrans, 2) + np.power(y_EPSG28992-y_rdnaptrans, 2))\n",
        "\n",
        "fig, ax = plt.subplots(figsize=(7,7))\n",
        "plt.quiver(x_EPSG28992, y_EPSG28992, x_EPSG28992-x_rdnaptrans, y_EPSG28992-y_rdnaptrans , m)\n",
        "plt.colorbar()\n",
        "benelux.to_crs(\"EPSG:28992\").plot(ax=ax)\n",
        "plt.title('RD correction grid (EPSG28992 - RDNAPTRANS) [m]')\n",
        "plt.xlabel('x_RD [m]')\n",
        "plt.ylabel('y_RD [m]')\n",
        "plt.axis('equal')\n",
        "plt.show()"
      ]
    },
    {
      "cell_type": "markdown",
      "id": "4f681056-a6ae-446f-9e4d-a469b3b35b9c",
      "metadata": {
        "id": "4f681056-a6ae-446f-9e4d-a469b3b35b9c"
      },
      "source": [
        "For the same grid (but now in RD coordinates) the elevation of the NAP reference surface (with NAP height == 0) above the ellipsoid is computed:"
      ]
    },
    {
      "cell_type": "code",
      "execution_count": 78,
      "id": "048e7552-3659-48b0-ab63-8f51537948f2",
      "metadata": {
        "colab": {
          "base_uri": "https://localhost:8080/",
          "height": 459
        },
        "id": "048e7552-3659-48b0-ab63-8f51537948f2",
        "outputId": "2095bd91-5c2d-4e9d-c6ec-0b2e0dde0057"
      },
      "outputs": [
        {
          "output_type": "display_data",
          "data": {
            "text/plain": [
              "<Figure size 504x504 with 2 Axes>"
            ],
            "image/png": "[encoded data removed]"
          },
          "metadata": {
            "needs_background": "light"
          }
        }
      ],
      "source": [
        "dummy1, dummy2, h_rdnaptrans = rdnap_to_etrs89(x_EPSG28992, y_EPSG28992, np.zeros(np.shape(x_EPSG28992)))\n",
        "\n",
        "fig, ax = plt.subplots(figsize=(7,7))\n",
        "cs = plt.contourf(x_EPSG28992, y_EPSG28992, h_rdnaptrans, 30)  # produce contour-map\n",
        "cb = plt.colorbar(cs)                # add color-bar for height\n",
        "benelux.to_crs(\"EPSG:28992\").plot(ax=ax)\n",
        "plt.title('Height of NAP-zero surface above ellipsoid [m]')\n",
        "plt.xlabel('x_RD [m]')\n",
        "plt.ylabel('y_RD [m]')\n",
        "plt.axis('equal')\n",
        "plt.show()"
      ]
    },
    {
      "cell_type": "markdown",
      "id": "2a78d3ea-58e0-4b71-85d4-a16a937ecb17",
      "metadata": {
        "id": "2a78d3ea-58e0-4b71-85d4-a16a937ecb17"
      },
      "source": [
        "The NAP height and elevation above the ellipsoid differ by about 40 - 48 meters."
      ]
    },
    {
      "cell_type": "markdown",
      "id": "a89b638c-c564-465c-884d-9c898c00b96a",
      "metadata": {
        "id": "a89b638c-c564-465c-884d-9c898c00b96a"
      },
      "source": [
        "[End of Jupyter notebook]"
      ]
    }
  ],
  "metadata": {
    "kernelspec": {
      "display_name": "Python 3",
      "name": "python3"
    },
    "language_info": {
      "name": "python"
    },
    "colab": {
      "provenance": [],
      "include_colab_link": true
    },
    "gpuClass": "standard"
  },
  "nbformat": 4,
  "nbformat_minor": 5
}