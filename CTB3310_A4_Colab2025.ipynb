{
  "cells": [
    {
      "cell_type": "markdown",
      "metadata": {
        "id": "view-in-github",
        "colab_type": "text"
      },
      "source": [
        "<a href=\"https://colab.research.google.com/github/hvandermarel/Colab-Notebooks/blob/main/CTB3310_A4_Colab2025.ipynb\" target=\"_parent\"><img src=\"https://colab.research.google.com/assets/colab-badge.svg\" alt=\"Open In Colab\"/></a>"
      ]
    },
    {
      "cell_type": "markdown",
      "id": "c18d17b4-67da-4714-a371-0bc3cbf2d1d0",
      "metadata": {
        "id": "c18d17b4-67da-4714-a371-0bc3cbf2d1d0"
      },
      "source": [
        "# CTB3310 Assignment 4 - GNSS Data Analysis (Colab version)\n",
        "\n",
        "**Hans van der Marel, Delft, 5 Mar 2024 - edited 22 March 2024 (CT/BvN) - edited 5 Mar 2025 (CFL)**\n",
        "\n",
        "In this assignment you will analyze the GNSS data that you collected with the help of the SW Maps app during the fieldwork outdoors. The data is stored in geopackage format which we are going to read and process in Python with the help of the GeoPandas package."
      ]
    },
    {
      "cell_type": "markdown",
      "id": "0c2c983d-43e0-4c19-9a53-4c456a8aef90",
      "metadata": {
        "id": "0c2c983d-43e0-4c19-9a53-4c456a8aef90"
      },
      "source": [
        "## 0. Getting started\n",
        "\n",
        "Before starting the GNSS data analysis a few prepatory actions are necessary.\n",
        "\n",
        "## 0.1 Google Colab requirements\n",
        "\n",
        "The following files are required for this assignment\n",
        "\n",
        "- This Jupyter notebook with the accompanying files `nlgeo2018.gtx` and `rdcorr2018.gsb`, and three example geopackage files, which will be downloaded from Github by this notebook,\n",
        "- geopackage file you created during the outdoor practical, which will be downloaded from Github by this notebook,\n",
        "- answer sheet template (MS Word), available from Brightspace.\n",
        "\n",
        "One important caveat to remember while using Colab is that the files won’t be available forever. **Colab is a temporary environment with an idle timeout of 90 minutes and an absolute timeout of 12 hours**. This means that the runtime will disconnect if it has remained idle for 90 minutes, or if it has been in use for 12 hours. On disconnection, you lose all your variables, states, installed packages, and files and will be connected to an entirely new and clean environment on reconnecting.\n",
        "\n",
        "We therefore **strongly recommend** to **save your notebook regularly** to your Google drive\n",
        "> `File > Save a copy in Drive`    (first time)\n",
        "\n",
        "> `File > Save`  \n",
        "\n",
        "or download it to your local drive.\n",
        "\n",
        "Only the notebook needs to be saved to Google drive. The other files are read only and can be downloaded from Github whenever necessary."
      ]
    },
    {
      "cell_type": "markdown",
      "id": "498b33cc-b1b5-4070-88e6-4825b87efbe1",
      "metadata": {
        "id": "498b33cc-b1b5-4070-88e6-4825b87efbe1"
      },
      "source": [
        "## 0.2 Download datasets and geopackage files\n",
        "\n",
        "All the required files and datasets collected by the students are downloaded from Github. This must be done once every time a new clean session in Google Colab is started."
      ]
    },
    {
      "cell_type": "code",
      "execution_count": 1,
      "id": "60ad14fa-b428-4664-bc0c-1ded228a2056",
      "metadata": {
        "colab": {
          "base_uri": "https://localhost:8080/"
        },
        "id": "60ad14fa-b428-4664-bc0c-1ded228a2056",
        "outputId": "d85be6a8-a6c7-4739-db82-85017d646b34"
      },
      "outputs": [
        {
          "output_type": "stream",
          "name": "stdout",
          "text": [
            "--2025-03-11 10:52:21--  https://github.com/hvandermarel/Colab-Notebooks/blob/main/datasets/CTB3310_A4_GPKG2025.zip?raw=true\n",
            "Resolving github.com (github.com)... 140.82.112.4\n",
            "Connecting to github.com (github.com)|140.82.112.4|:443... connected.\n",
            "HTTP request sent, awaiting response... 302 Found\n",
            "Location: https://github.com/hvandermarel/Colab-Notebooks/raw/refs/heads/main/datasets/CTB3310_A4_GPKG2025.zip [following]\n",
            "--2025-03-11 10:52:21--  https://github.com/hvandermarel/Colab-Notebooks/raw/refs/heads/main/datasets/CTB3310_A4_GPKG2025.zip\n",
            "Reusing existing connection to github.com:443.\n",
            "HTTP request sent, awaiting response... 302 Found\n",
            "Location: https://raw.githubusercontent.com/hvandermarel/Colab-Notebooks/refs/heads/main/datasets/CTB3310_A4_GPKG2025.zip [following]\n",
            "--2025-03-11 10:52:22--  https://raw.githubusercontent.com/hvandermarel/Colab-Notebooks/refs/heads/main/datasets/CTB3310_A4_GPKG2025.zip\n",
            "Resolving raw.githubusercontent.com (raw.githubusercontent.com)... 185.199.109.133, 185.199.110.133, 185.199.108.133, ...\n",
            "Connecting to raw.githubusercontent.com (raw.githubusercontent.com)|185.199.109.133|:443... connected.\n",
            "HTTP request sent, awaiting response... 200 OK\n",
            "Length: 10255170 (9.8M) [application/zip]\n",
            "Saving to: ‘CTB3310_A4_GPKG2025.zip’\n",
            "\n",
            "CTB3310_A4_GPKG2025 100%[===================>]   9.78M  --.-KB/s    in 0.1s    \n",
            "\n",
            "2025-03-11 10:52:22 (102 MB/s) - ‘CTB3310_A4_GPKG2025.zip’ saved [10255170/10255170]\n",
            "\n",
            "Archive:  CTB3310_A4_GPKG2025.zip\n",
            "  inflating: do20feb2025/DO01.gpkg   \n",
            "  inflating: do20feb2025/DO02.gpkg   \n",
            "  inflating: do20feb2025/DO03.gpkg   \n",
            "  inflating: do20feb2025/DO04.gpkg   \n",
            "  inflating: do20feb2025/DO06.gpkg   \n",
            "  inflating: do20feb2025/DO07.gpkg   \n",
            "  inflating: do20feb2025/DO08.gpkg   \n",
            "  inflating: do20feb2025/DO09.gpkg   \n",
            "  inflating: do20feb2025/DO19.gpkg   \n",
            "  inflating: ma17feb2025/MA01.gpkg   \n",
            "  inflating: ma17feb2025/MA02_incomplete.gpkg  \n",
            "  inflating: ma17feb2025/MA04.gpkg   \n",
            "  inflating: ma17feb2025/MA05.gpkg   \n",
            "  inflating: ma17feb2025/MA07.gpkg   \n",
            "  inflating: ma17feb2025/MA07_en_MA06.gpkg  \n",
            "  inflating: ma17feb2025/MA08.gpkg   \n",
            "  inflating: ma17feb2025/MA09.gpkg   \n",
            "  inflating: ma17feb2025/MA10.gpkg   \n",
            "  inflating: wo19feb2025/WO01.gpkg   \n",
            "  inflating: wo19feb2025/WO02.gpkg   \n",
            "  inflating: wo19feb2025/WO03.gpkg   \n",
            "  inflating: wo19feb2025/WO04.gpkg   \n",
            "  inflating: wo19feb2025/WO04_nulmeting.gpkg  \n",
            "  inflating: wo19feb2025/WO05.gpkg   \n",
            "  inflating: wo19feb2025/WO06.gpkg   \n",
            "  inflating: wo19feb2025/WO07.gpkg   \n",
            "  inflating: wo19feb2025/WO08.gpkg   \n",
            "  inflating: wo19feb2025/WO09.gpkg   \n",
            "  inflating: wo19feb2025/WO10.gpkg   \n",
            "  inflating: wo19feb2025/WO11.gpkg   \n",
            "  inflating: wo19feb2025/WO13.gpkg   \n",
            "  inflating: wo19feb2025/WO14.gpkg   \n",
            "  inflating: wo19feb2025/WO15.gpkg   \n",
            "  inflating: wo19feb2025/WO16.gpkg   \n",
            "  inflating: wo19feb2025/WO17.gpkg   \n",
            "  inflating: wo19feb2025/WO19B.gpkg  \n",
            "  inflating: wo19feb2025/WO20.gpkg   \n",
            "  inflating: wo19feb2025/WO21.gpkg   \n",
            "  inflating: wo19feb2025/WO22.gpkg   \n",
            "  inflating: wo19feb2025/WO23.gpkg   \n",
            "  inflating: wo19feb2025/WO24.gpkg   \n",
            "  inflating: Benelux.gpkg            \n",
            "  inflating: PracticalTest3.gpkg     \n",
            "  inflating: PracticalTest2.gpkg     \n",
            "  inflating: PracticalTest1.gpkg     \n",
            "  inflating: nlgeo2018.gtx           \n",
            "  inflating: rdcorr2018.gsb          \n",
            "  inflating: Monday.jpg              \n",
            "  inflating: Thursday.jpg            \n",
            "  inflating: Wednesday.jpg           \n"
          ]
        }
      ],
      "source": [
        "!wget -O CTB3310_A4_GPKG2025.zip https://github.com/hvandermarel/Colab-Notebooks/blob/main/datasets/CTB3310_A4_GPKG2025.zip?raw=true\n",
        "!unzip -o CTB3310_A4_GPKG2025.zip"
      ]
    },
    {
      "cell_type": "markdown",
      "id": "27962cbb-4314-4f2f-b2d9-427265c39ddc",
      "metadata": {
        "jp-MarkdownHeadingCollapsed": true,
        "id": "27962cbb-4314-4f2f-b2d9-427265c39ddc"
      },
      "source": [
        "The student geopackage files are stored in three subdirectories.\n",
        "\n",
        "You can see all available files using the filebrowser in the navigation menu on the left (file icon), or using bash shell commands in any of the code cells, as is shown in the following example:"
      ]
    },
    {
      "cell_type": "code",
      "execution_count": 2,
      "id": "912ede92-55ba-4735-b329-01c1f2d64072",
      "metadata": {
        "colab": {
          "base_uri": "https://localhost:8080/"
        },
        "id": "912ede92-55ba-4735-b329-01c1f2d64072",
        "outputId": "77a0c017-acd9-4c38-d993-a03f9ccf2496"
      },
      "outputs": [
        {
          "output_type": "stream",
          "name": "stdout",
          "text": [
            "/content\n",
            "total 31604\n",
            "-rw-r--r-- 1 root root 18890752 Mar  3  2023 Benelux.gpkg\n",
            "-rw-r--r-- 1 root root 10255170 Mar 11 10:52 CTB3310_A4_GPKG2025.zip\n",
            "drwxr-xr-x 2 root root     4096 Mar 11 10:52 do20feb2025\n",
            "drwxr-xr-x 2 root root     4096 Mar 11 10:52 ma17feb2025\n",
            "-rw-r--r-- 1 root root   277479 Feb 27 12:28 Monday.jpg\n",
            "-rw-r--r-- 1 root root   579164 Mar 22  2019 nlgeo2018.gtx\n",
            "-rw-r--r-- 1 root root    81920 Feb  3  2023 PracticalTest1.gpkg\n",
            "-rw-r--r-- 1 root root    61440 Feb 17  2023 PracticalTest2.gpkg\n",
            "-rw-r--r-- 1 root root   114688 Feb 20  2023 PracticalTest3.gpkg\n",
            "-rw-r--r-- 1 root root  1477616 Mar  5  2019 rdcorr2018.gsb\n",
            "drwxr-xr-x 1 root root     4096 Mar  7 14:26 sample_data\n",
            "-rw-r--r-- 1 root root   286036 Feb 27 12:28 Thursday.jpg\n",
            "-rw-r--r-- 1 root root   312408 Feb 27 12:28 Wednesday.jpg\n",
            "drwxr-xr-x 2 root root     4096 Mar 11 10:52 wo19feb2025\n"
          ]
        }
      ],
      "source": [
        "!pwd\n",
        "!ls -l"
      ]
    },
    {
      "cell_type": "markdown",
      "id": "7f1fa874-68fd-45b0-9c8f-f909733a8b3f",
      "metadata": {
        "id": "7f1fa874-68fd-45b0-9c8f-f909733a8b3f"
      },
      "source": [
        "## 0.3 Install GeoPandas\n",
        "\n",
        "GeoPandas is written in pure Python, but has several dependencies written in C (GEOS, GDAL, PROJ).\n",
        "\n",
        "Geopandas, and several dependencies, are not installed by default in Google Colab. So, this has to be done everytime a new clean session is started in Colab. Installion is done with `pip`."
      ]
    },
    {
      "cell_type": "code",
      "execution_count": 3,
      "id": "68cfb48c-db56-4fa4-86fc-f62c9f7148ee",
      "metadata": {
        "colab": {
          "base_uri": "https://localhost:8080/"
        },
        "id": "68cfb48c-db56-4fa4-86fc-f62c9f7148ee",
        "outputId": "2ae98e90-d20f-4f9a-ef76-d906b00b6a98"
      },
      "outputs": [
        {
          "output_type": "stream",
          "name": "stdout",
          "text": [
            "Requirement already satisfied: geopandas in /usr/local/lib/python3.11/dist-packages (1.0.1)\n",
            "Collecting mapclassify\n",
            "  Downloading mapclassify-2.8.1-py3-none-any.whl.metadata (2.8 kB)\n",
            "Requirement already satisfied: numpy>=1.22 in /usr/local/lib/python3.11/dist-packages (from geopandas) (1.26.4)\n",
            "Requirement already satisfied: pyogrio>=0.7.2 in /usr/local/lib/python3.11/dist-packages (from geopandas) (0.10.0)\n",
            "Requirement already satisfied: packaging in /usr/local/lib/python3.11/dist-packages (from geopandas) (24.2)\n",
            "Requirement already satisfied: pandas>=1.4.0 in /usr/local/lib/python3.11/dist-packages (from geopandas) (2.2.2)\n",
            "Requirement already satisfied: pyproj>=3.3.0 in /usr/local/lib/python3.11/dist-packages (from geopandas) (3.7.1)\n",
            "Requirement already satisfied: shapely>=2.0.0 in /usr/local/lib/python3.11/dist-packages (from geopandas) (2.0.7)\n",
            "Requirement already satisfied: networkx>=2.7 in /usr/local/lib/python3.11/dist-packages (from mapclassify) (3.4.2)\n",
            "Requirement already satisfied: scikit-learn>=1.0 in /usr/local/lib/python3.11/dist-packages (from mapclassify) (1.6.1)\n",
            "Requirement already satisfied: scipy>=1.8 in /usr/local/lib/python3.11/dist-packages (from mapclassify) (1.13.1)\n",
            "Requirement already satisfied: python-dateutil>=2.8.2 in /usr/local/lib/python3.11/dist-packages (from pandas>=1.4.0->geopandas) (2.8.2)\n",
            "Requirement already satisfied: pytz>=2020.1 in /usr/local/lib/python3.11/dist-packages (from pandas>=1.4.0->geopandas) (2025.1)\n",
            "Requirement already satisfied: tzdata>=2022.7 in /usr/local/lib/python3.11/dist-packages (from pandas>=1.4.0->geopandas) (2025.1)\n",
            "Requirement already satisfied: certifi in /usr/local/lib/python3.11/dist-packages (from pyogrio>=0.7.2->geopandas) (2025.1.31)\n",
            "Requirement already satisfied: joblib>=1.2.0 in /usr/local/lib/python3.11/dist-packages (from scikit-learn>=1.0->mapclassify) (1.4.2)\n",
            "Requirement already satisfied: threadpoolctl>=3.1.0 in /usr/local/lib/python3.11/dist-packages (from scikit-learn>=1.0->mapclassify) (3.5.0)\n",
            "Requirement already satisfied: six>=1.5 in /usr/local/lib/python3.11/dist-packages (from python-dateutil>=2.8.2->pandas>=1.4.0->geopandas) (1.17.0)\n",
            "Downloading mapclassify-2.8.1-py3-none-any.whl (59 kB)\n",
            "\u001b[2K   \u001b[90m━━━━━━━━━━━━━━━━━━━━━━━━━━━━━━━━━━━━━━━━\u001b[0m \u001b[32m59.1/59.1 kB\u001b[0m \u001b[31m3.5 MB/s\u001b[0m eta \u001b[36m0:00:00\u001b[0m\n",
            "\u001b[?25hInstalling collected packages: mapclassify\n",
            "Successfully installed mapclassify-2.8.1\n"
          ]
        }
      ],
      "source": [
        "!pip install geopandas mapclassify"
      ]
    },
    {
      "cell_type": "markdown",
      "id": "79d5985d-0150-4847-ab59-2a88d6a9febc",
      "metadata": {
        "id": "79d5985d-0150-4847-ab59-2a88d6a9febc"
      },
      "source": [
        "## 1. Import packages and locate your data\n",
        "\n",
        "## 1.1 Import packages\n",
        "\n",
        "GeoPandas is an open source project to make working with geospatial data in Python easier. GeoPandas extends the datatypes used by `pandas` to allow spatial operations on geometric types. Geometric operations are performed by `shapely`. Geopandas further depends on `fiona` for file access, `pyproj` for coordinate transformations, `matplotlib` for plotting and a number of other packages.\n",
        "\n",
        "For much of the work a simple import of `geopandas` is sufficient. The other packages do the work under the hood. However, sometimes, for more advanced work, it is necessary to import other packages in order to get access to more functionality form their native API's. Furthermore, for computational work rely on `numpy`."
      ]
    },
    {
      "cell_type": "code",
      "execution_count": null,
      "id": "f693c20e-cbfd-4861-b168-c8073a1f3647",
      "metadata": {
        "id": "f693c20e-cbfd-4861-b168-c8073a1f3647"
      },
      "outputs": [],
      "source": [
        "import geopandas\n",
        "import fiona\n",
        "import pyproj\n",
        "\n",
        "import numpy as np\n",
        "import matplotlib.pyplot as plt\n",
        "import os"
      ]
    },
    {
      "cell_type": "markdown",
      "id": "31d1cadd-2b2a-487f-8805-849bf2cdaf89",
      "metadata": {
        "id": "31d1cadd-2b2a-487f-8805-849bf2cdaf89"
      },
      "source": [
        "The geopandas user guide can be found here https://geopandas.org/en/stable/docs/user_guide.html. More documentation is available from https://geopandas.org/en/stable/docs.html ."
      ]
    },
    {
      "cell_type": "markdown",
      "id": "c52c0647-22e0-4efd-af93-2d4a7906bacd",
      "metadata": {
        "id": "c52c0647-22e0-4efd-af93-2d4a7906bacd"
      },
      "source": [
        "## 1.2 Folder structure, accompanying and geopackage files\n",
        "\n",
        "This Jupyter notebook requires the RD/NAP grid correction files `nlgeo2018.gtx` and `rdcorr2018.gsb`, and three example geopackage files (`PracticalTest#.gpkg`), to be installed in the **same directory** as the notebook.\n",
        "\n",
        "To check the contents of the directories you can use your favourite file browser, the file browser on the left panel (in case of Jupyterlab) or call shell commands from within the notebook by preceeding them with an exclamation mark (!).\n",
        "\n",
        "An example of using shell commands on Windows (on linux and Mac use `!ls`) is given below:"
      ]
    },
    {
      "cell_type": "code",
      "execution_count": null,
      "id": "dd4bb783-b822-4918-8ac0-1e0cd4a6572f",
      "metadata": {
        "id": "dd4bb783-b822-4918-8ac0-1e0cd4a6572f"
      },
      "outputs": [],
      "source": [
        "!dir"
      ]
    },
    {
      "cell_type": "markdown",
      "id": "22499fc3-be8e-481a-ba5d-51c3468684bb",
      "metadata": {
        "id": "22499fc3-be8e-481a-ba5d-51c3468684bb"
      },
      "source": [
        "## 1.3 Locate your geopackage data file ##\n",
        "\n",
        "The geopackage files that were created by the students are stored in three subdirectories, called `ma17feb2025`, `wo19feb2025` and `do20feb2025`.\n",
        "\n",
        "### Do this yourself ###\n",
        "\n",
        "**One of the first things to do is to locate YOUR data file and assign the name of this file to a variable called `mydata`**\n",
        "\n",
        "To see the available geopackage files for a specific day use something like this"
      ]
    },
    {
      "cell_type": "code",
      "execution_count": null,
      "id": "494b5665-ed5b-491b-84d6-22704177fc5f",
      "metadata": {
        "tags": [],
        "id": "494b5665-ed5b-491b-84d6-22704177fc5f"
      },
      "outputs": [],
      "source": [
        "!dir wo19feb2025 # check the content of the folder wo19feb2025\n",
        "\n",
        "# If you want to read folder ma17feb2025 or do20feb2025, you can change to !dir ma17feb2025 or !dir do20feb2025"
      ]
    },
    {
      "cell_type": "markdown",
      "id": "ec9abdf6-1063-4b43-9931-14b3648de738",
      "metadata": {
        "tags": [],
        "id": "ec9abdf6-1063-4b43-9931-14b3648de738"
      },
      "source": [
        "Do you recognize the geopackage file that was created by your group during the practical?\n",
        "\n",
        "If so, assign the name of the file, including the relative path, to the variable `mydata` like this"
      ]
    },
    {
      "cell_type": "code",
      "execution_count": null,
      "id": "08448c4f-27b1-4df7-a79c-c5dd9095b4c3",
      "metadata": {
        "tags": [],
        "id": "08448c4f-27b1-4df7-a79c-c5dd9095b4c3"
      },
      "outputs": [],
      "source": [
        "# TODO: Replace with the correct dataset file name and uncomment the appropriate line\n",
        "# mydata_day = \"wo19feb2025\"  # Update this with the correct dataset name and uncomment\n",
        "# mydata_name = \"WO17.gpkg\"  # Update this with the correct file name and uncomment\n",
        "\n",
        "# Combine 'mydata_day' and 'mydata_name' to form the full dataset path\n",
        "mydata = os.path.join(mydata_day, mydata_name)"
      ]
    },
    {
      "cell_type": "markdown",
      "id": "2a45b5ef-3eed-40ca-9319-12798152e6ec",
      "metadata": {
        "id": "2a45b5ef-3eed-40ca-9319-12798152e6ec"
      },
      "source": [
        "If you cannot find your dataset, or if there are problems with it, or just out of curiosity, you may also select another dataset."
      ]
    },
    {
      "cell_type": "markdown",
      "id": "d9c5b13d-2299-4252-9a54-8e4339960f05",
      "metadata": {
        "id": "d9c5b13d-2299-4252-9a54-8e4339960f05"
      },
      "source": [
        "**Question 1:** Write down the name(s) of the geopackage file(s) you are going to use in your report."
      ]
    },
    {
      "cell_type": "markdown",
      "id": "2bafd677-aec3-4fcc-9bc9-2c57ada6ee6a",
      "metadata": {
        "id": "2bafd677-aec3-4fcc-9bc9-2c57ada6ee6a"
      },
      "source": [
        "## 2. Read geopackage file\n",
        "\n",
        "The GNSS data collected by SW Maps is stored in a standard GIS format: a geopackage, which we have to read.\n",
        "\n",
        "This notebook comes with an example geopackage file called `PracticalTest2.gpkg`, to demonstrate the processing, analysis and visualization of GNSS position data. You may use this package initially as a reference and study the material, however, you MAY NOT use this for your answers. We will first show you how to read the example data. After that, you will replace the example dataset with **your own data**.\n",
        "\n",
        "The example geopackage name is provided in the variable `exampledata`."
      ]
    },
    {
      "cell_type": "code",
      "execution_count": null,
      "id": "1446e7b3-ebaf-41aa-8a5c-08ad023f4a84",
      "metadata": {
        "id": "1446e7b3-ebaf-41aa-8a5c-08ad023f4a84"
      },
      "outputs": [],
      "source": [
        "exampledata = \"PracticalTest2.gpkg\"       # example dataset"
      ]
    },
    {
      "cell_type": "markdown",
      "id": "bf3baa4b-d729-4800-93df-1038d9fbe2e3",
      "metadata": {
        "id": "bf3baa4b-d729-4800-93df-1038d9fbe2e3"
      },
      "source": [
        "A geopackage contains multiple layers. If you used the provided CTB3310 SW Maps template, the layers are: *points*, *curves* and *Tracks*. Each layer is read into a *GeoDataFrame* object (note: older versions of Python may give harmless warnings which you may ignore, if you get other warnings or errors, please consider the hints given below the next code box).\n",
        "\n",
        "If you know the names of the layers your can read them using these commands:"
      ]
    },
    {
      "cell_type": "code",
      "execution_count": null,
      "id": "262a34e1-b1e3-4f4a-8b3e-7151bd3670b8",
      "metadata": {
        "id": "262a34e1-b1e3-4f4a-8b3e-7151bd3670b8"
      },
      "outputs": [],
      "source": [
        "points = geopandas.read_file(exampledata, layer='points')\n",
        "lines = geopandas.read_file(exampledata, layer='curves')\n",
        "tracks = geopandas.read_file(exampledata, layer='Tracks')"
      ]
    },
    {
      "cell_type": "markdown",
      "id": "826fa297-a8fa-4970-99e2-7b998fe2e4e2",
      "metadata": {
        "id": "826fa297-a8fa-4970-99e2-7b998fe2e4e2"
      },
      "source": [
        "The above commands assume that you stored the data in three layers named *points*, *curves* and *Tracks*; these are stored in *GeoDataFrame* objects with the names *points*, *lines* and *tracks* (Note: SW Maps uses *Tracks* as default layer name, however, we call the object *tracks*, without capitals, which is more Pythonic). If one layer is missing, or if you used different names for the layers, this will result in an error (your own dataset may not contain points).\n",
        "\n",
        "To find out the names of the layers in the geopackage file we use `fiona`. If you find you have used different names, adjust the above commands accordingly."
      ]
    },
    {
      "cell_type": "code",
      "execution_count": null,
      "id": "a4be394c-d728-4474-a604-2f1f4d23d2f2",
      "metadata": {
        "id": "a4be394c-d728-4474-a604-2f1f4d23d2f2"
      },
      "outputs": [],
      "source": [
        "layers = fiona.listlayers(exampledata)\n",
        "layers"
      ]
    },
    {
      "cell_type": "markdown",
      "id": "52cf0135-8a25-463b-aaab-076e1c596417",
      "metadata": {
        "id": "52cf0135-8a25-463b-aaab-076e1c596417"
      },
      "source": [
        "To display the contents of the layers you can use print(object_name) or just type the object name (as last code line), e.g.:"
      ]
    },
    {
      "cell_type": "code",
      "execution_count": null,
      "id": "aafedf9b-4174-4d18-b07a-88698588c576",
      "metadata": {
        "id": "aafedf9b-4174-4d18-b07a-88698588c576"
      },
      "outputs": [],
      "source": [
        "points"
      ]
    },
    {
      "cell_type": "code",
      "execution_count": null,
      "id": "07bb7d65-069d-44ad-9e07-616b05b18603",
      "metadata": {
        "id": "07bb7d65-069d-44ad-9e07-616b05b18603"
      },
      "outputs": [],
      "source": [
        "lines"
      ]
    },
    {
      "cell_type": "code",
      "execution_count": null,
      "id": "4bde9e6c-5cab-4e33-a892-792f0548cfb4",
      "metadata": {
        "id": "4bde9e6c-5cab-4e33-a892-792f0548cfb4"
      },
      "outputs": [],
      "source": [
        "tracks"
      ]
    },
    {
      "cell_type": "markdown",
      "id": "3cd7ceae-ddaf-49f6-979a-95dc06e05269",
      "metadata": {
        "id": "3cd7ceae-ddaf-49f6-979a-95dc06e05269"
      },
      "source": [
        "Each layer consists of an index, feature data and **geometry**. The geometry is in Well-Known-Text (WKT) format. In our dataset two fundamental geometries are used in their three dimensional variant: **point** (obviously for points) and **linestring** (for lines/curves and tracks). The WKT representation is\n",
        "```\n",
        "POINT Z(<lon> <lat> <hgt>)\n",
        "LINESTRING Z(<lon> <lat> <hgt>, <lon> <lat> ... )\n",
        "```\n",
        "The **linestring** consists of a sequence of  coordinate tuples, the **point** has exactly one. The three dimensional coordinate **tuples** `(<lon> <lat> <hgt>)` provide the geographic **longitude** &lambda; and **latitude** &phi; in *degrees* (and in this order), and **height** *h* above the ellipsoid in *meters* (also referred to as elevation).\n",
        "The other columns contain the attributes that were stored with the data when it was collected, such as the name and type of the feature that you entered when collecting the data, while others, such as the fix_id (4 is RTK fixed) provided by the software.\n",
        "\n",
        "**You should only use RTK fixed data (fix_id equal to 4). If you have used the appropriate setting (Minimum Fix Quality) in SW Maps while collecting the data this is guaranteed, if not, you may occasionally have data which is not RTK fixed (and positions may be (far) less precise).** RTK fixed data means that the carrier phase cycle ambiguities ('the integer number of full cycles/wavelengths between the satellite and the receiver') have been resolved as integer parameters, and hence the high mm-cm precision of the carrier phase measurements gets unlocked.\n",
        "\n",
        "The `android_metadata` layer does not contain much useful information."
      ]
    },
    {
      "cell_type": "markdown",
      "id": "884cfaee-1a79-4381-8967-8c5c3a41b566",
      "metadata": {
        "id": "884cfaee-1a79-4381-8967-8c5c3a41b566"
      },
      "source": [
        "### Do this yourself ###\n",
        "\n",
        "Repeat the above commands on your own dataset (For the file names see also section 0.2).\n",
        "\n",
        "First check, using fiona, that the layer names are the ones that have been defined in the template used by SW Maps. These should be the same as in the example. Then load the layers and display the contents. The commands are already prepared, but you may have to adjust these to your situation, and uncomment the lines. We use new layer names, do not overwrite the layers from the example; we still need those."
      ]
    },
    {
      "cell_type": "code",
      "execution_count": null,
      "id": "ce195bd5-2686-4f06-96ca-2ddb9b49eac7",
      "metadata": {
        "id": "ce195bd5-2686-4f06-96ca-2ddb9b49eac7"
      },
      "outputs": [],
      "source": [
        "# TODO: Complete the line of code to read the layers in the dataset 'mydata'\n",
        "mylayers =  # Fill in the correct function to get the layers from 'mydata'\n",
        "\n",
        "mylayers  # print mylayers to check the layers in the dataset mydata"
      ]
    },
    {
      "cell_type": "code",
      "execution_count": null,
      "id": "7b91648b-9c10-4e53-8214-66132fb194c2",
      "metadata": {
        "id": "7b91648b-9c10-4e53-8214-66132fb194c2"
      },
      "outputs": [],
      "source": [
        "# TODO: Uncomment and modify the line if your dataset 'mydata' contains a 'points' layer\n",
        "# mypoints =\n",
        "\n",
        "# TODO: Uncomment and modify the line for datasets 'mydata' that should include a 'curves' layer\n",
        "# mylines =\n",
        "\n",
        "# TODO: Uncomment and modify the line for datasets 'mydata' that should include a 'Tracks' layer\n",
        "# mytracks =\n",
        "\n",
        "# TODO: Uncomment and modify the line for datasets 'mydata' that should include a 'TrackPoints' layer\n",
        "# mytrackpoints ="
      ]
    },
    {
      "cell_type": "code",
      "execution_count": null,
      "id": "34fee35c-0789-414d-b3de-8f390edd4970",
      "metadata": {
        "tags": [],
        "id": "34fee35c-0789-414d-b3de-8f390edd4970"
      },
      "outputs": [],
      "source": [
        "mypoints"
      ]
    },
    {
      "cell_type": "code",
      "execution_count": null,
      "id": "c733912a-bc64-48c3-aa05-702aa1ccbed8",
      "metadata": {
        "tags": [],
        "id": "c733912a-bc64-48c3-aa05-702aa1ccbed8"
      },
      "outputs": [],
      "source": [
        "mylines"
      ]
    },
    {
      "cell_type": "code",
      "execution_count": null,
      "id": "1644f36f-4cd6-4dcc-b756-04e072d807f8",
      "metadata": {
        "tags": [],
        "id": "1644f36f-4cd6-4dcc-b756-04e072d807f8"
      },
      "outputs": [],
      "source": [
        "mytracks"
      ]
    },
    {
      "cell_type": "code",
      "execution_count": null,
      "id": "b85d8692-d028-4dac-b9d7-703b0dab6d31",
      "metadata": {
        "tags": [],
        "id": "b85d8692-d028-4dac-b9d7-703b0dab6d31"
      },
      "outputs": [],
      "source": [
        "mytrackpoints"
      ]
    },
    {
      "cell_type": "markdown",
      "id": "4fc7b6a4-4452-414b-83cd-f0561ffe6ca6",
      "metadata": {
        "id": "4fc7b6a4-4452-414b-83cd-f0561ffe6ca6"
      },
      "source": [
        "The layer **TrackPoints** is a recent addition by SW Maps that was not yet present in the example dataset. This layer contains the same data as the layer **Tracks**, but now stored as points with some additional (and very useful) attributes.\n",
        "\n",
        "Another recent addition by SW Maps are the *accuracy*, *speed* and *bearing* attributes in the **points** and **trackPoints** layers. The *accuracy* attribute is a welcome addition to the *fix_id* attribute."
      ]
    },
    {
      "cell_type": "markdown",
      "id": "92f45734-a143-488b-83a5-2bfddc3a7b47",
      "metadata": {
        "id": "92f45734-a143-488b-83a5-2bfddc3a7b47"
      },
      "source": [
        "To find out the names in the **trackPoints** layer you can do something like this"
      ]
    },
    {
      "cell_type": "code",
      "execution_count": null,
      "id": "78874279-7d71-4619-9ef5-a3fa0b2749f9",
      "metadata": {
        "tags": [],
        "id": "78874279-7d71-4619-9ef5-a3fa0b2749f9"
      },
      "outputs": [],
      "source": [
        "mytrackpoints.name.unique()"
      ]
    },
    {
      "cell_type": "markdown",
      "id": "3543e221-f8cd-4b1a-a7cf-b900321f3d0c",
      "metadata": {
        "id": "3543e221-f8cd-4b1a-a7cf-b900321f3d0c"
      },
      "source": [
        "Unfortunately, the *fix_id* and *accuracy* are not stored as attributes in the **curves** (lines) layer; so unless you have set the *Minimum fix quality* in SW Maps to \"RTK fix\" you cannot be sure this data has the required quality."
      ]
    },
    {
      "cell_type": "markdown",
      "id": "3b1e5b3a-d6a7-4aea-b6af-57e90f4a6744",
      "metadata": {
        "id": "3b1e5b3a-d6a7-4aea-b6af-57e90f4a6744"
      },
      "source": [
        "**Question 2:** What is the position accuracy of your data, and is all data \"RTK fixed\"? Mention this in your report. If there are any surprises mention this as well."
      ]
    },
    {
      "cell_type": "markdown",
      "id": "0d07c25f",
      "metadata": {
        "id": "0d07c25f"
      },
      "source": [
        "### Check your data-file\n",
        "\n",
        "This stage is a good moment to **check the content** of your own data-file ('mydata'), before proceeding to the rest of this assignment.\n",
        "\n",
        "Your data-file should contain (at least) two tracks, the one for the grid (DEM) and the one with the tripod at the benchmark. And your data-file should contain some curves/lines (you should have some elements to map, such as a bicycle lane or a pedestrian path).\n",
        "\n",
        "If this is not the case you may want to use another data-file instead."
      ]
    },
    {
      "cell_type": "markdown",
      "id": "5d0bc8f1-47d6-438a-a596-5eeff107e3f6",
      "metadata": {
        "id": "5d0bc8f1-47d6-438a-a596-5eeff107e3f6"
      },
      "source": [
        "## 3. Mapping and Plotting Topography\n",
        "\n",
        "Mapping and plotting your data is often one of the first things to do.\n",
        "\n",
        "## 3.1 Plotting layers and tracks\n",
        "\n",
        "GeoPandas provides a high-level interface to the `matplotlib` library for making maps. Mapping shapes is as easy as using the `plot()` method on a GeoSeries or GeoDataFrame."
      ]
    },
    {
      "cell_type": "code",
      "execution_count": null,
      "id": "9d7002e8-963c-442e-9fc4-4e3021231291",
      "metadata": {
        "id": "9d7002e8-963c-442e-9fc4-4e3021231291"
      },
      "outputs": [],
      "source": [
        "tracks.plot()"
      ]
    },
    {
      "cell_type": "markdown",
      "id": "97661b7b-8e52-48c9-9b39-acef0e9c913a",
      "metadata": {
        "id": "97661b7b-8e52-48c9-9b39-acef0e9c913a"
      },
      "source": [
        "This is not a very good plot as labels and a title is missing, we show below how to add these."
      ]
    },
    {
      "cell_type": "markdown",
      "id": "448eaf69-7ee5-4374-8c6e-43c8cecba4e1",
      "metadata": {
        "id": "448eaf69-7ee5-4374-8c6e-43c8cecba4e1"
      },
      "source": [
        "## 3.2 Plotting multiple layers\n",
        "\n",
        "For making a map with multiple layers, first remember to always ensure they share a common Coordinate Reference System (CRS), so they will align. In our dataset this is (still) the case as the layers come from the same source (GPS/GNSS RTK receiver). To create a map with multiple layers we call the plot method on individual layers with options.\n",
        "\n",
        "Note that in general, any option one can pass to pyplot in matplotlib (or style options that work for lines) can be passed to the plot() method. We define an object called 'base'."
      ]
    },
    {
      "cell_type": "code",
      "execution_count": null,
      "id": "64216b7b-daa5-4f94-a1bc-e3e7eb5a1e08",
      "metadata": {
        "id": "64216b7b-daa5-4f94-a1bc-e3e7eb5a1e08",
        "tags": []
      },
      "outputs": [],
      "source": [
        "base = lines.plot(color='blue')\n",
        "points.plot(ax=base, marker='o', color='red', markersize=10)\n",
        "tracks.plot(ax=base, color='green')\n",
        "base.set(xlabel='Longitude [deg]', ylabel='Latitude [deg]', title='Example Map');"
      ]
    },
    {
      "cell_type": "markdown",
      "id": "ff654a09-720d-4b15-86e3-c22390716606",
      "metadata": {
        "id": "ff654a09-720d-4b15-86e3-c22390716606"
      },
      "source": [
        "### Do this yourself ###\n",
        "\n",
        "Recreate the above plot for your own dataset"
      ]
    },
    {
      "cell_type": "code",
      "execution_count": null,
      "id": "1675a94a-f29d-4ef6-a79b-15ccdecfe873",
      "metadata": {
        "id": "1675a94a-f29d-4ef6-a79b-15ccdecfe873",
        "tags": []
      },
      "outputs": [],
      "source": [
        "mybase = mylines.plot(color='blue')\n",
        "# TODO: If your dataset `mydata` contains points and/or tracks, plot them on the map (Remember to use ax=mybase)\n",
        "# mypoints.plot(...)\n",
        "# mytracks.plot(...)\n",
        "\n",
        "# Set the labels and title\n",
        "mybase.set(xlabel='Longitude [deg]', ylabel='Latitude [deg]', title='Your Map');"
      ]
    },
    {
      "cell_type": "markdown",
      "id": "a037d12f-f2ba-41ba-9d4c-f74adf3e5f68",
      "metadata": {
        "id": "a037d12f-f2ba-41ba-9d4c-f74adf3e5f68"
      },
      "source": [
        "**Question 3:** Include this plot/map in your report."
      ]
    },
    {
      "cell_type": "markdown",
      "id": "ed6c7de8-1c41-449a-8457-7244163af07f",
      "metadata": {
        "tags": [],
        "id": "ed6c7de8-1c41-449a-8457-7244163af07f"
      },
      "source": [
        "### Aspect ratio ###"
      ]
    },
    {
      "cell_type": "markdown",
      "id": "bbf83a56-248e-41ad-a867-0504b4baf0ee",
      "metadata": {
        "id": "bbf83a56-248e-41ad-a867-0504b4baf0ee"
      },
      "source": [
        "The *GeoPandas* plot() method is **smart**: it takes into account the fact that - except at the equator - one degree in latitude is not the same distance in units of length (e.g. meters) as one degree in longitude!\n",
        "\n",
        "This is not done when working with pyplot directly."
      ]
    },
    {
      "cell_type": "markdown",
      "id": "20f7f5f2-080a-43d3-b2bb-dd47651cf67b",
      "metadata": {
        "id": "20f7f5f2-080a-43d3-b2bb-dd47651cf67b"
      },
      "source": [
        "To illustrate this point we redo the previous map (the Example Map), using a slightly different method to plot multiple layers using `pyplot`, and set the **aspect ratio** to **one** (hence equal scaling of vertical and horizontal axis in terms of degrees, which is not correct)."
      ]
    },
    {
      "cell_type": "code",
      "execution_count": null,
      "id": "58491298-1afe-4750-83e0-50d82a904931",
      "metadata": {
        "id": "58491298-1afe-4750-83e0-50d82a904931"
      },
      "outputs": [],
      "source": [
        "fig, ax = plt.subplots()\n",
        "\n",
        "lines.plot(ax=ax, color='blue')\n",
        "points.plot(ax=ax, marker='o', color='red', markersize=10)\n",
        "tracks.plot(ax=ax, color='green')\n",
        "ax.set(xlabel='Longitude [deg]', ylabel='Latitude [deg]', title='Incorrect Map')\n",
        "\n",
        "ax.set_aspect(1)\n",
        "\n",
        "plt.show();"
      ]
    },
    {
      "cell_type": "markdown",
      "id": "cb5a5cbe-b32b-4f59-b9ae-9c4fb67fb580",
      "metadata": {
        "id": "cb5a5cbe-b32b-4f59-b9ae-9c4fb67fb580"
      },
      "source": [
        "Clearly, this is not the way longitude and latitude data should be plotted (you have been warned now!). When you plot longitude and latitude data always set the appropriate aspect ratio.\n",
        "\n",
        "With plotting/mapping, on a flat piece of paper or a screen, we turn a difference in longitude $d\\lambda$ into a distance $dE$, and a difference in latitude $d\\varphi$ into a distance $dN$, see section 29.2.2 of the book on Surveying and Mapping. Equation (29.7) shows how to do this, with $d\\varphi$ and $d\\lambda$ expressed in radians. Look carefully, and in the second expression, for $dE$, you see an extra term, namely $cos(\\varphi)$. This term accounts for the fact that at higher latitudes, one degree of longitude corresponds to a smaller distance than at the equator ($\\varphi=0$); the 52-degrees North latitude circle is a much smaller circle than the equator. In mapping we take this into account through the aspect ratio."
      ]
    },
    {
      "cell_type": "markdown",
      "id": "530ffe47-47d4-4510-a4d1-ec65b15331db",
      "metadata": {
        "id": "530ffe47-47d4-4510-a4d1-ec65b15331db"
      },
      "source": [
        "### Do this yourself ###\n",
        "\n",
        "The aspect ratio can be computed using formula (29.7) from the Surveying and Mapping book, section 29.2.2, whereby you may assume that the curvatures are equal ($\\bar{N}(\\varphi) = \\bar{M}(\\varphi)$), and $h=0$ (hence, at the surface). You can also determine the aspect ratio from the plot in Question 3 by measuring, with a ruler, the length in the map corresponding to 0.0001 deg in latitude and the length in the map to 0.0001 deg in longitude.  "
      ]
    },
    {
      "cell_type": "code",
      "execution_count": null,
      "id": "d989221b-1a02-440f-b5d1-4b3df0b67c8e",
      "metadata": {
        "id": "d989221b-1a02-440f-b5d1-4b3df0b67c8e"
      },
      "outputs": [],
      "source": [
        "# TODO: Compute the ratio from Equation (29.7), assuming M(phi) and N(phi) are equal\n",
        "ratio_computed =                          # Fill in the correct formula\n",
        "\n",
        "# TODO: Calculate the measured ratio in the map (replace numerator and denominator with actual values)\n",
        "ratio_measured_in_map =   /               # Replace with the correct values (mm per 0.0001 deg latitude/longitude)\n",
        "\n",
        "# Print the computed and measured ratios for comparison\n",
        "print('ratio computed:', ratio_computed, ', measured in map:', ratio_measured_in_map )"
      ]
    },
    {
      "cell_type": "markdown",
      "id": "c21aa01f-27f6-4079-bee2-0ebebfc9de28",
      "metadata": {
        "id": "c21aa01f-27f6-4079-bee2-0ebebfc9de28"
      },
      "source": [
        "Hint: if you don't have a ruler, use a snipping tool (e.g. snip&sketch in Windows) with a built in ruler."
      ]
    },
    {
      "cell_type": "markdown",
      "id": "68e3cf63-8694-4765-aa9d-7d7a77fa5bf6",
      "metadata": {
        "id": "68e3cf63-8694-4765-aa9d-7d7a77fa5bf6",
        "tags": []
      },
      "source": [
        "**Question 4:** Explain in your report why the aspect ratio is not equal to one, and report the aspect ratio computed using formula (29.7) in the Surveying and Mapping book and the aspect ratio measured using a ruler from the plot in Question 3."
      ]
    },
    {
      "cell_type": "markdown",
      "id": "a47428a1-115b-45a6-8012-aa6e399fc288",
      "metadata": {
        "id": "a47428a1-115b-45a6-8012-aa6e399fc288"
      },
      "source": [
        "Check the computed (and measured) aspect ratio by adjusting the aspect ratio in the previous plot of the Example Map, using the ratio computed in Question 4.  You do not have to give the plot in your report (but it is a good check to your answer to Question 4):"
      ]
    },
    {
      "cell_type": "code",
      "execution_count": null,
      "id": "ea5eb796-2913-4caf-b426-904736ac4281",
      "metadata": {
        "id": "ea5eb796-2913-4caf-b426-904736ac4281"
      },
      "outputs": [],
      "source": [
        "fig, ax = plt.subplots()\n",
        "\n",
        "lines.plot(ax=ax, color='blue')\n",
        "points.plot(ax=ax, marker='o', color='red', markersize=10)\n",
        "tracks.plot(ax=ax, color='green')\n",
        "ax.set(xlabel='Longitude [deg]', ylabel='Latitude [deg]', title='Example Map')\n",
        "\n",
        "# TODO: Replace the aspect ratio with the correct value for your dataset\n",
        "#ax.set_aspect(...)\n",
        "\n",
        "plt.show();"
      ]
    },
    {
      "cell_type": "markdown",
      "id": "c52d75ad-926e-45e4-a4e2-5befd5534232",
      "metadata": {
        "id": "c52d75ad-926e-45e4-a4e2-5befd5534232"
      },
      "source": [
        "However, if you want to do geometric computations, such as computing areas, it is a much better idea to use a map projection, as we will explore later (in section 7)."
      ]
    },
    {
      "cell_type": "markdown",
      "id": "1927c543-2b25-4da8-ac6a-c90ec86ae446",
      "metadata": {
        "id": "1927c543-2b25-4da8-ac6a-c90ec86ae446"
      },
      "source": [
        "## 3.3 Interactive mapping\n",
        "\n",
        "GeoPandas can also create interactive maps based on the `folium` library (under the hood in GeoPandas). Creating maps for interactive exploration uses the `explore()` method of a GeoSeries or GeoDataFrame.\n",
        "\n",
        "The `explore()` method returns a `folium.Map` object, which can also be passed directly (as you did with ax in plot()). In the example below, we plot our three layers on the same map by passing the folium.Map object to subsequent layers (using *m* instead of *ax* keywords).\n",
        "\n",
        "It may take some time to generate the interactive map, so be patient, and also you may be asked to \"make this notebook trusted\" to load the map (answer yes). We define an object called 'fm'."
      ]
    },
    {
      "cell_type": "code",
      "execution_count": null,
      "id": "a8de4a31-f20f-47b4-82cd-8aaa5dc8ef9b",
      "metadata": {
        "id": "a8de4a31-f20f-47b4-82cd-8aaa5dc8ef9b"
      },
      "outputs": [],
      "source": [
        "fm = lines.explore(color='blue')\n",
        "points.explore(m=fm, color='red')\n",
        "tracks.explore(m=fm, color='green')"
      ]
    },
    {
      "cell_type": "markdown",
      "id": "5cb2875b-7941-4efa-94a0-5262da370cd5",
      "metadata": {
        "id": "5cb2875b-7941-4efa-94a0-5262da370cd5"
      },
      "source": [
        "Hovering over a feature shows a pop-up with all the feature attributes.\n",
        "\n",
        "### Do this yourself ###\n",
        "\n",
        "Create the interactive map for your dataset ('mydata')."
      ]
    },
    {
      "cell_type": "code",
      "execution_count": null,
      "id": "0b22e59e-7c34-41df-8002-2d446cfb7c47",
      "metadata": {
        "id": "0b22e59e-7c34-41df-8002-2d446cfb7c47"
      },
      "outputs": [],
      "source": [
        "# TODO: Create an interactive map using the explore function\n",
        "# Start with the explore function in 'mylines' layer\n",
        "fm = mylines.\n",
        "\n",
        "# TODO: Uncomment and use the explore function to add 'mypoints' to the map if your dataset contains points\n",
        "# mypoints.\n",
        "\n",
        "# TODO: Uncomment and use the explore function to add 'mytracks' to the map\n",
        "#mytracks."
      ]
    },
    {
      "cell_type": "markdown",
      "id": "950d46fd-42ad-4a1c-a8d8-1252bdb70582",
      "metadata": {
        "id": "950d46fd-42ad-4a1c-a8d8-1252bdb70582"
      },
      "source": [
        " You don't have to include this in your report."
      ]
    },
    {
      "cell_type": "markdown",
      "id": "a2f3079d-2366-4497-a0c6-807de9500c21",
      "metadata": {
        "id": "a2f3079d-2366-4497-a0c6-807de9500c21"
      },
      "source": [
        "**These interactive maps, and the pop-ups created by hovering over a feature, are very useful to identify features in your dataset that you may need for further analysis. So, when you need to identify a feature in your dataset for one of the questions, you can come back to this interactive map to find it!**\n",
        "\n",
        "After importing folium you can also use folium functionality directly on the resulting map, e.g. adding additional tiles allowing you to change the background directly in the map. We leave this to you to experiment (after consulting GeoPandas and folium documentation).\n",
        "\n",
        "Note that to display the background tiles in the correct position, and to get the aspect ratio correct as with the static matplotlib plots, the correct Coordinate Reference System (CRS) must have been set in the GeoDataFrame. This is something we deal with in the next section."
      ]
    },
    {
      "cell_type": "markdown",
      "id": "3c034ef9-6418-48b4-b974-82f51034e034",
      "metadata": {
        "id": "3c034ef9-6418-48b4-b974-82f51034e034"
      },
      "source": [
        "> ### A note on interactive mapping (QGIS promotion, for your information)\n",
        ">\n",
        "> Interactive mapping may seem a nice and useful feature of GeoPandas. However for truely interactive mapping we recommend using a GIS system, such as ArcGIS or the freely available **QGIS** that will be used in assignment 5 and 6.\n",
        "> To obtain more or less the same result in QGIS:\n",
        "> 1. open a new QGIS project,\n",
        "> 2. double click `browser > XYZ Tiles > OpenStreetMap`,\n",
        "> 3. add your geopackage file using `Layer > Add Layer > Add Vector Layer` .\n",
        ">\n",
        "> Do not forget to set your project CRS to e.g. EPSG:28992 (otherwise you have this very unprofessional distorted longitude/latitude reference system.   "
      ]
    },
    {
      "cell_type": "markdown",
      "id": "75450e92-c21b-4207-90ac-73db8bf4081c",
      "metadata": {
        "id": "75450e92-c21b-4207-90ac-73db8bf4081c"
      },
      "source": [
        "## 4. Coordinate Reference System (CRS)\n",
        "\n",
        "A GeoDataFrame needs to have a Coordinate Reference System (CRS) set to perform spatial analyses and enable coordinate transformations.\n",
        "\n",
        "## 4.1 Obtaining CRS information\n",
        "\n",
        "To obtain information on the CRS use the `.crs` attribute on a GeoDataFrame or GeoSeries."
      ]
    },
    {
      "cell_type": "code",
      "execution_count": null,
      "id": "0ddb3821-8dbf-4adc-9692-a45d94c8a3ec",
      "metadata": {
        "id": "0ddb3821-8dbf-4adc-9692-a45d94c8a3ec"
      },
      "outputs": [],
      "source": [
        "lines.crs"
      ]
    },
    {
      "cell_type": "code",
      "execution_count": null,
      "id": "5fcaf344-189e-44dc-b0c3-12f49fe168b7",
      "metadata": {
        "id": "5fcaf344-189e-44dc-b0c3-12f49fe168b7"
      },
      "outputs": [],
      "source": [
        "print(lines.crs)"
      ]
    },
    {
      "cell_type": "markdown",
      "id": "5732c58a-a1fc-49fd-86ea-2b094acb1c80",
      "metadata": {
        "id": "5732c58a-a1fc-49fd-86ea-2b094acb1c80"
      },
      "source": [
        "An important element is the EPSG code. Each geodetic datum, spatial reference system, Earth ellipsoid, coordinate transformation and related units of measurements is assigned an EPSG code between 1024 and 32767, that corresponds to a public registry in the EPSG Geodetic Parameter Dataset, originated by a member of the European Petroleum Survey Group (EPSG) in 1985, and maintained by the IOGP Geomatics Committee, see also Section 31.4 in the book.\n",
        "\n",
        "Common EPSG codes are\n",
        "\n",
        "* EPSG:4326 - WGS 84, latitude/longitude coordinate system based on the Earth's center of mass, used by the Global Positioning System (GPS) among others.\n",
        "* EPSG:3857 - Web Mercator projection used for display by many web-based mapping tools, including Google Maps and OpenStreetMap.\n",
        "* EPSG:7789 - International Terrestrial Reference Frame 2014 (ITRF2014), an Earth-fixed system that allows for tectonic plate motion; continents may move over time.\n",
        "* EPSG:4258 - European Terrestrial Reference Frame 1989 (ETRS89), an Earth-Fixed system moving along with the Eurasian Plate, defined only for the European continent.\n",
        "* EPSG:28992 - Projected coordinate system for Netherlands - onshore, including Waddenzee, Dutch Wadden Islands and 12-mile offshore coastal zone.\n",
        "\n",
        "These systems are covered later in class and in part V of the book.\n",
        "\n",
        "Our data is apparently in WGS84, but as we will find out later, this is not entirely correct (to be precise: it is the national realization of ETRS89). Coordinates are given as longitude &lambda;, latitude &phi; and elevation (height) *h* above the ellipsoid, cf. Figure 29.2 of the book (mind that the order of the coordinates is specifically as given here!).\n",
        "\n",
        "Another way to describe the CRS that is used is by the standard machine-readable well-known text (WKT) representation using the *to_wrt()* method:"
      ]
    },
    {
      "cell_type": "code",
      "execution_count": null,
      "id": "baff2f25-8e39-4637-9cd0-54500e570c03",
      "metadata": {
        "id": "baff2f25-8e39-4637-9cd0-54500e570c03"
      },
      "outputs": [],
      "source": [
        "print(lines.crs.to_wkt(pretty=True))"
      ]
    },
    {
      "cell_type": "markdown",
      "id": "f0353a5c-ad55-40b5-8089-f4e3fa49c6e3",
      "metadata": {
        "id": "f0353a5c-ad55-40b5-8089-f4e3fa49c6e3"
      },
      "source": [
        "## 5. Data selections with GeoPandas (and Pandas) and conversion to numpy\n",
        "\n",
        "This section is a short tutorial on (Geo)Pandas using only the example dataset.\n",
        "\n",
        "So far we were not very specific in what we plotted. However, for further analysis of the data, we have to be able to select specific features (e.g. a point or track) that we want to analyze. How to do these selections, and how to convert the selected data into a `numpy` array, is explained below.\n",
        "\n",
        "\n",
        "## 5.1. Selecting rows (features and tracks)\n",
        "\n",
        "GeoDataFrames are an extension of Panda's dataframes. This means you can select rows using the `loc[]`, `iloc[]` and `query()` methods. This is best ilustrated with examples:"
      ]
    },
    {
      "cell_type": "code",
      "execution_count": null,
      "id": "d930ae64-9bc1-4461-9f29-edf4c0e137a2",
      "metadata": {
        "id": "d930ae64-9bc1-4461-9f29-edf4c0e137a2"
      },
      "outputs": [],
      "source": [
        "lines.iloc[[0]]"
      ]
    },
    {
      "cell_type": "code",
      "execution_count": null,
      "id": "91977bed-2d86-49da-addc-5c1bf3cab532",
      "metadata": {
        "id": "91977bed-2d86-49da-addc-5c1bf3cab532"
      },
      "outputs": [],
      "source": [
        "lines.iloc[[0,1]]"
      ]
    },
    {
      "cell_type": "code",
      "execution_count": null,
      "id": "67160c06-c0c4-4ed7-8f17-537a1ab344e7",
      "metadata": {
        "id": "67160c06-c0c4-4ed7-8f17-537a1ab344e7"
      },
      "outputs": [],
      "source": [
        "lines.loc[[0,1]]"
      ]
    },
    {
      "cell_type": "code",
      "execution_count": null,
      "id": "78847940-546a-4bda-96d8-2a41824fa00c",
      "metadata": {
        "id": "78847940-546a-4bda-96d8-2a41824fa00c"
      },
      "outputs": [],
      "source": [
        "lines.query( \"type == 'road'\" )"
      ]
    },
    {
      "cell_type": "markdown",
      "id": "e5216b50-812b-454d-8b50-1e66f077b4dd",
      "metadata": {
        "id": "e5216b50-812b-454d-8b50-1e66f077b4dd"
      },
      "source": [
        "The `loc[]` and `iloc[]` methods produce similar results, this is because the *index* is numerical. We can set any column as index, e.g."
      ]
    },
    {
      "cell_type": "code",
      "execution_count": null,
      "id": "3e2fe2a9-a6ab-46d8-a107-875316acfc2d",
      "metadata": {
        "id": "3e2fe2a9-a6ab-46d8-a107-875316acfc2d"
      },
      "outputs": [],
      "source": [
        "points_idx = points.set_index('name')\n",
        "points_idx"
      ]
    },
    {
      "cell_type": "code",
      "execution_count": null,
      "id": "bd2166f6-af67-4b42-a5a1-ef6d98d37977",
      "metadata": {
        "id": "bd2166f6-af67-4b42-a5a1-ef6d98d37977"
      },
      "outputs": [],
      "source": [
        "points_idx.loc[['a1']]"
      ]
    },
    {
      "cell_type": "markdown",
      "id": "3690397c-1e4c-4a66-8a6a-f97ecc77ea0a",
      "metadata": {
        "id": "3690397c-1e4c-4a66-8a6a-f97ecc77ea0a"
      },
      "source": [
        "The type that is returned is always a GeoPandas geodataframe (Note: if single `[]` are used, with one row, a Pandas series is returned)"
      ]
    },
    {
      "cell_type": "code",
      "execution_count": null,
      "id": "8a50c844-e59a-4f25-bf5b-8229721bdef3",
      "metadata": {
        "id": "8a50c844-e59a-4f25-bf5b-8229721bdef3"
      },
      "outputs": [],
      "source": [
        "print(type(lines.loc[[0]]))"
      ]
    },
    {
      "cell_type": "markdown",
      "id": "07d82b2a-3e2f-470d-95ed-aad2983f15b9",
      "metadata": {
        "id": "07d82b2a-3e2f-470d-95ed-aad2983f15b9"
      },
      "source": [
        "## 5.2 Selecting columns and geometries"
      ]
    },
    {
      "cell_type": "markdown",
      "id": "535282c5-d88f-4a5f-b6f2-6fe621939384",
      "metadata": {
        "id": "535282c5-d88f-4a5f-b6f2-6fe621939384"
      },
      "source": [
        "Specific columns can be selected as well, using e.g. the following syntax"
      ]
    },
    {
      "cell_type": "code",
      "execution_count": null,
      "id": "050c054a-d923-4e44-a96f-d5a9f5793086",
      "metadata": {
        "id": "050c054a-d923-4e44-a96f-d5a9f5793086"
      },
      "outputs": [],
      "source": [
        "points_idx[['longitude', 'latitude']]"
      ]
    },
    {
      "cell_type": "markdown",
      "id": "4ce0b2c8-c763-441d-ac7c-b86b2a4c7a21",
      "metadata": {
        "id": "4ce0b2c8-c763-441d-ac7c-b86b2a4c7a21"
      },
      "source": [
        "There is purpose behind using `[[ ]]` or `[]`. The first returns a Pandas dataframe, the second a Pandas series:"
      ]
    },
    {
      "cell_type": "code",
      "execution_count": null,
      "id": "2c08691e-7863-477b-9865-22c0243d7213",
      "metadata": {
        "id": "2c08691e-7863-477b-9865-22c0243d7213"
      },
      "outputs": [],
      "source": [
        "print(type(points_idx[['latitude']]))\n",
        "print(type(points_idx['latitude']))"
      ]
    },
    {
      "cell_type": "markdown",
      "id": "3dca2bbc-79fc-46f5-99f7-5acf4ea7ee14",
      "metadata": {
        "id": "3dca2bbc-79fc-46f5-99f7-5acf4ea7ee14"
      },
      "source": [
        "The geometry is something special. If this is included a GeoPandas GeoDataFrame or GeoSeries is returned:"
      ]
    },
    {
      "cell_type": "code",
      "execution_count": null,
      "id": "d0bffe5f-9a42-4726-b6d8-ab773c66606d",
      "metadata": {
        "id": "d0bffe5f-9a42-4726-b6d8-ab773c66606d"
      },
      "outputs": [],
      "source": [
        "print(type(points_idx[['geometry']]))\n",
        "points_idx[['geometry']]"
      ]
    },
    {
      "cell_type": "code",
      "execution_count": null,
      "id": "7aa11762-111f-451d-9c42-580bc98fe3f2",
      "metadata": {
        "id": "7aa11762-111f-451d-9c42-580bc98fe3f2"
      },
      "outputs": [],
      "source": [
        "print(type(points_idx['geometry']))\n",
        "points_idx['geometry']"
      ]
    },
    {
      "cell_type": "markdown",
      "id": "ca60a64d-ed01-4d95-a8a9-7bfee3a14be7",
      "metadata": {
        "id": "ca60a64d-ed01-4d95-a8a9-7bfee3a14be7"
      },
      "source": [
        "## 5.3 Converting geometries into numpy arrays with coordinates  \n",
        "\n",
        "In the previous section the geometry was retrieved in the typical Pandas way using a column selection. This is so important that this has been implemented in GeoPandas as `geometry` method.\n",
        "This method is used, together with other methods, to retrieve the coordinates as `numpy` arrays for further analysis.\n",
        "\n",
        "We show this with a couple of examples.\n",
        "\n",
        "The `geometry` method returns what is called a *GeoSeries* (the equivalent of a Pandas data series)."
      ]
    },
    {
      "cell_type": "code",
      "execution_count": null,
      "id": "8bb07851-1c40-4930-b6a7-97214d805f77",
      "metadata": {
        "id": "8bb07851-1c40-4930-b6a7-97214d805f77"
      },
      "outputs": [],
      "source": [
        "print(type(points_idx.geometry))\n",
        "points_idx.geometry"
      ]
    },
    {
      "cell_type": "markdown",
      "id": "f163bf37-5f3b-47b7-88e8-c8731d685f61",
      "metadata": {
        "id": "f163bf37-5f3b-47b7-88e8-c8731d685f61"
      },
      "source": [
        "To obtain the `wkt` representation as string the *wkt* method can be used on a single instance of a *geometry* object:"
      ]
    },
    {
      "cell_type": "code",
      "execution_count": null,
      "id": "18b2a310-2123-4ad0-b24a-73dd8ceead7b",
      "metadata": {
        "id": "18b2a310-2123-4ad0-b24a-73dd8ceead7b"
      },
      "outputs": [],
      "source": [
        "print(type(points_idx.geometry[0].wkt))\n",
        "points_idx.geometry[0].wkt"
      ]
    },
    {
      "cell_type": "markdown",
      "id": "b799ecf2-94bd-4d9a-ac91-0d336c5d0123",
      "metadata": {
        "id": "b799ecf2-94bd-4d9a-ac91-0d336c5d0123"
      },
      "source": [
        "To obtain the coordinates use `coords` (from the `shapely` package) on a single geometry instance, and then convert to a list with coordinate *tuples* or a two-dimensional numpy *array*:"
      ]
    },
    {
      "cell_type": "code",
      "execution_count": null,
      "id": "ee09ecb4-c49c-43d7-9320-80276d51aee3",
      "metadata": {
        "id": "ee09ecb4-c49c-43d7-9320-80276d51aee3"
      },
      "outputs": [],
      "source": [
        "print(type(points_idx.geometry[0].coords))\n",
        "print(list(points_idx.geometry[0].coords))\n",
        "np.array(points_idx.geometry[0].coords)"
      ]
    },
    {
      "cell_type": "markdown",
      "id": "7b873f1f-f06e-4f9b-9698-174d0267b898",
      "metadata": {
        "id": "7b873f1f-f06e-4f9b-9698-174d0267b898"
      },
      "source": [
        "Doing this on LINESTRING returns a fully populated two-dimensional numpy array:"
      ]
    },
    {
      "cell_type": "code",
      "execution_count": null,
      "id": "a9ac048b-e601-4c9e-87a4-eae617d5ae04",
      "metadata": {
        "id": "a9ac048b-e601-4c9e-87a4-eae617d5ae04"
      },
      "outputs": [],
      "source": [
        "np.array(lines.geometry[0].coords)"
      ]
    },
    {
      "cell_type": "markdown",
      "id": "a10e286c-8d88-4483-ba98-bbde87e55bc6",
      "metadata": {
        "id": "a10e286c-8d88-4483-ba98-bbde87e55bc6"
      },
      "source": [
        "Having the coordinates as numpy array means that you can do a lot of other stuff on the data and perform analyses. For example, you can compute the mean and standard deviation of the repeated measurements on the static point (benchmark), in order to evaluate or validate the data quality."
      ]
    },
    {
      "cell_type": "markdown",
      "id": "d1054ae0-cc6a-440f-b8ec-01a3af80e552",
      "metadata": {
        "id": "d1054ae0-cc6a-440f-b8ec-01a3af80e552"
      },
      "source": [
        "## 6. Analysis of the benchmark measurements\n",
        "\n",
        "## 6.1 Why benchmarks?\n",
        "\n",
        "It is always good practice when you go out into the field to measure in addition to your data at least two existing points (benchmarks) with **known** coordinates. The reason is that you can thus check your measurements for big mistakes, consistency with previous measurements and to add realibility to the measurement campaign. When you come back another day, you certainly want to be sure that the new measurements match the previous ones, and that they are compatible with other projects.\n",
        "\n",
        "Also, whenever you start a new project, it is strongly recommended to create a few new benchmarks (points) that you can revisit on subsequent visits to the site (not having to travel kilometers to a \"far far away\" national benchmark). To create a new benchmark it is custom to measure for a longer time and to average over a period of time, so that you get a slightly better precision for the new coordinates (this is an option in SW Maps).\n",
        "\n",
        "This was done in example dataset.\n",
        "\n",
        "However, we did ask you - for educational purposes - to do this a bit differently:\n",
        "\n",
        "* Record data for several minutes with the range pole stable on one of the (known) benchmarks (P1, P2, P3, P4) using a small tripod, this data is recorded as a **track**\n",
        "\n",
        "The purpose of this experiment is to get an idea of the quality of the position coordinates resulting from your GNSS survey, specifically we consider the spread/variability (precision) in the positions due to GNSS measurement noise, as well as any bias, and the overall accuracy."
      ]
    },
    {
      "cell_type": "markdown",
      "id": "7f19d710-6f6a-4296-8257-c6ecafa0cc31",
      "metadata": {
        "id": "7f19d710-6f6a-4296-8257-c6ecafa0cc31"
      },
      "source": [
        "In the example dataset this was the first track (but this  may be different in yours!); we set this in the variable `benchmark_trackidx`."
      ]
    },
    {
      "cell_type": "code",
      "execution_count": null,
      "id": "91060d22-e4b8-4047-80f8-7e4379b2a857",
      "metadata": {
        "id": "91060d22-e4b8-4047-80f8-7e4379b2a857"
      },
      "outputs": [],
      "source": [
        "tracks"
      ]
    },
    {
      "cell_type": "code",
      "execution_count": null,
      "id": "1c5d495f-8526-4042-99d3-df4e3a4bed23",
      "metadata": {
        "id": "1c5d495f-8526-4042-99d3-df4e3a4bed23"
      },
      "outputs": [],
      "source": [
        "benchmark_trackidx=0"
      ]
    },
    {
      "cell_type": "markdown",
      "id": "3e6e178f-af14-4e54-8cb2-6a4782661b0b",
      "metadata": {
        "id": "3e6e178f-af14-4e54-8cb2-6a4782661b0b"
      },
      "source": [
        "Below we first check the content of the benchmark track (how many entries with 3 coordinates there are), ready for analysis."
      ]
    },
    {
      "cell_type": "code",
      "execution_count": null,
      "id": "8a008f72-b6bb-4cd2-ba78-9dda0f03411c",
      "metadata": {
        "id": "8a008f72-b6bb-4cd2-ba78-9dda0f03411c"
      },
      "outputs": [],
      "source": [
        "static_point_coords = np.array(tracks.geometry[benchmark_trackidx].coords)\n",
        "print('shape',static_point_coords.shape)"
      ]
    },
    {
      "cell_type": "markdown",
      "id": "bc2603bd",
      "metadata": {
        "id": "bc2603bd"
      },
      "source": [
        "## 6.2 Known benchmark coordinates\n",
        "\n",
        "The coordinates of the benchmarks **P1**, **P2**, **P3** and **P4** are very well known from dedicated measurement campaigns.  These coordinates are used to compare with your own data and to make sure that your data is consistent with other measurements.\n",
        "\n",
        "The coordinates for **P1**, **P2**, **P3** and **P4** can be obtained from the **TU Delft GNSS Fieldlab** webpage\n",
        "http://gnss1.tudelft.nl/dlab/station/GNSS_Fieldlab_Coordinates.html .\n",
        "\n",
        "Coordinates are given as **latitude, longitude (mind, this order!!)** and height are in ETRS89 (Dutch national realization based on ETRF2000), and in RD and NAP (Normaal Amsterdams Peil) as well (x,y,H).\n",
        "\n",
        "The RD and NAP coordinates have been computed using the official RDNAPTRANS(TM) procedure using PCTrans from the ministry of Defense (https://www.defensie.nl/downloads/applicaties/2021/06/30/pctrans5_20210630). This coordinate transformation is centimeter accurate, as opposed to the one provided by `EPSG:28992`. In section 7.2 we shall also do a more accurate transformation using `PROJ` in Python.\n",
        "\n",
        "### Do this yourself ###\n",
        "\n",
        "Go to the GNSS Fieldlab webpage and save the **longitude, latitude and ellipsoidal height (in this order!!)** in the array `ref_llh` and the RD/NAP coordinates in the array `ref_rd`"
      ]
    },
    {
      "cell_type": "code",
      "execution_count": null,
      "id": "71868b8a",
      "metadata": {
        "id": "71868b8a"
      },
      "outputs": [],
      "source": [
        "# TODO: Fill in the appropriate reference name ('P1', 'P2', 'P3', or 'P4') inside the quotes\n",
        "ref_name = ['']\n",
        "\n",
        "# TODO: Define the reference coordinates in LLH format\n",
        "# Order: longitude (deg), latitude (deg), ellipsoidal height (m)\n",
        "ref_llh = np.array([, , ])\n",
        "\n",
        "# TODO: Define the reference coordinates in RD format\n",
        "# Order: x-RD, y-RD, H-NAP\n",
        "ref_rd = np.array([, , ])"
      ]
    },
    {
      "cell_type": "markdown",
      "id": "8ea5a901",
      "metadata": {
        "id": "8ea5a901"
      },
      "source": [
        "We are going to compare these to the values of the benchmark-tripod measurements."
      ]
    },
    {
      "cell_type": "markdown",
      "id": "0d4e2102",
      "metadata": {
        "id": "0d4e2102"
      },
      "source": [
        "## 6.3 Conversion to units of length\n",
        "\n",
        "Next, we prepare for the analysis by introducing the conversion of small differences in longitude and latitude into units of length, specifically dE and dN, see section 29.2.2 in the book (as small differences in longitude and latitude in degrees or radians are hard to interpret). Measures expressed in meter are easier to interpret."
      ]
    },
    {
      "cell_type": "markdown",
      "id": "a8248c3e",
      "metadata": {
        "id": "a8248c3e"
      },
      "source": [
        "First, we get the semi-major axis (*a*) and inverse flattening (*finv*) for the ellipsoid from one of the GeoDataFrames, and compute some other ellipsoid parameters that are needed later on:"
      ]
    },
    {
      "cell_type": "code",
      "execution_count": null,
      "id": "35903151",
      "metadata": {
        "id": "35903151"
      },
      "outputs": [],
      "source": [
        "crscf = points.crs.to_cf()\n",
        "a = crscf['semi_major_axis']\n",
        "finv = crscf['inverse_flattening']\n",
        "f = 1/finv\n",
        "e2 = 2*f - f**2\n",
        "\n",
        "print('a, finv:', a, finv)"
      ]
    },
    {
      "cell_type": "markdown",
      "id": "5f8ae6dd",
      "metadata": {
        "id": "5f8ae6dd"
      },
      "source": [
        "Then we compute the scaling factors (deg -> meters) for the latitude and longitude using eqs. (29.6) for the radius of curvature and the conversion factors from (29.7). We use the exact expressions for the radii here, though for most practical applications just setting $\\bar{N}=\\bar{M}=R=6378000$ m will be fine.\n",
        "\n",
        "As the reference latitude we obviously use the given/known latitude of the benchmark."
      ]
    },
    {
      "cell_type": "code",
      "execution_count": null,
      "id": "f290e44d",
      "metadata": {
        "id": "f290e44d",
        "tags": []
      },
      "outputs": [],
      "source": [
        "lat0=ref_llh[1]                  # reference latitude in degrees (52 degrees)\n",
        "lat0rad = np.deg2rad(lat0)       # reference latitude in radians\n",
        "\n",
        "N = a / np.sqrt(1 - e2 * np.sin(lat0rad)**2)   # radius of curvatures, h=0 taken here (hence, on the Earth's surface)\n",
        "M = N * (1 -e2) / ( 1 - e2 * np.sin(lat0rad)**2)\n",
        "flat= M * np.pi / 180                          # conversion factors dphi [deg] -> dN [m]\n",
        "flon= N*np.cos(lat0rad) * np.pi / 180          #                    dlambda [deg] -> dE [m]\n",
        "\n",
        "print('lat, flat, flon:', lat0, flat, flon)"
      ]
    },
    {
      "cell_type": "markdown",
      "id": "6d6d7a0f",
      "metadata": {
        "id": "6d6d7a0f"
      },
      "source": [
        "In this conversion the height above the ellipsoid is ignored (h=0), therefore, the resulting metrics are on the surface of the ellipsoid."
      ]
    },
    {
      "cell_type": "markdown",
      "id": "ba740c92",
      "metadata": {
        "id": "ba740c92"
      },
      "source": [
        "## 6.4 Benchmark analysis\n",
        "\n",
        "We compute the mean of the points in the benchmark track, also the standard deviation and the Root Mean Square (rms) error, per coordinate.\n",
        "\n",
        "In case you do not happen to have a known benchmark, you can still compute the standard deviation and evaluate the precision (but obviously, then you cannot evaluate the bias and the rms)."
      ]
    },
    {
      "cell_type": "code",
      "execution_count": null,
      "id": "d8ec5395",
      "metadata": {
        "id": "d8ec5395"
      },
      "outputs": [],
      "source": [
        "tripod_mean_llh = static_point_coords.mean(axis=0)\n",
        "tripod_stdev_llh = static_point_coords.std(axis=0, ddof=1)\n",
        "\n",
        "print('mean',tripod_mean_llh, 'in deg/deg/m')\n",
        "print('stdev',tripod_stdev_llh, 'in deg/deg/m')"
      ]
    },
    {
      "cell_type": "markdown",
      "id": "ca826a0d",
      "metadata": {
        "id": "ca826a0d"
      },
      "source": [
        "The mean is compared with the known (ref) coordinate, as to evaluate whether there is a bias in the position solution (see section 6.6 in the book). Below, first the bias in the three coordinates is presented in longitude, latitude, height in deg/deg/m, which is hard to interpret, and next all in units of length, in m/m/m."
      ]
    },
    {
      "cell_type": "code",
      "execution_count": null,
      "id": "bcfacbe7",
      "metadata": {
        "id": "bcfacbe7"
      },
      "outputs": [],
      "source": [
        "diff_llh = tripod_mean_llh - ref_llh\n",
        "print('Difference in Longitude and Latitude (mean-ref): ', diff_llh[:2], ' deg')\n",
        "print('Difference in Height (mean-ref): ', diff_llh[2], ' m')"
      ]
    },
    {
      "cell_type": "code",
      "execution_count": null,
      "id": "229395c5",
      "metadata": {
        "id": "229395c5"
      },
      "outputs": [],
      "source": [
        "diff_enu = diff_llh.copy()\n",
        "diff_enu[0] =  diff_llh[0]*flon\n",
        "diff_enu[1] =  diff_llh[1]*flat\n",
        "\n",
        "print('Difference (mean-ref) in East, North and Up in m:\\n', diff_enu)"
      ]
    },
    {
      "cell_type": "markdown",
      "id": "d310e015-5d99-41a6-b603-5dd890b71274",
      "metadata": {
        "id": "d310e015-5d99-41a6-b603-5dd890b71274"
      },
      "source": [
        "Next, we will compute the difference per coordinate for all points in the track, with respect to the given known coordinate values, and express these differences in dE, dN and dh. So, we create a time series of dE, dN and dh coordinates of the entire track and plot them."
      ]
    },
    {
      "cell_type": "code",
      "execution_count": null,
      "id": "2e5fc109",
      "metadata": {
        "id": "2e5fc109",
        "scrolled": true
      },
      "outputs": [],
      "source": [
        "static_point_coords_enu = (static_point_coords - ref_llh) * np.array([flon, flat, 1])\n",
        "\n",
        "fig, ax = plt.subplots(1,2, figsize=(16,8))\n",
        "\n",
        "ax[0].scatter(static_point_coords_enu[:,0], static_point_coords_enu[:,1], label='Measurements')\n",
        "ax[0].set_xlabel('East [m]')\n",
        "ax[0].set_ylabel('North [m]')\n",
        "ax[0].set_title('Scatter plot')\n",
        "#ax[0].set_xlim([-0.05, 0.05])\n",
        "#ax[0].set_ylim([-0.05, 0.05])\n",
        "ax[0].grid()\n",
        "\n",
        "ax[1].plot(np.arange(len(static_point_coords_enu[:,2])), static_point_coords_enu[:,2], label='Measurements')\n",
        "\n",
        "ax[1].set_xlabel('Time Epoch [-]')\n",
        "ax[1].set_ylabel('Height [m]')\n",
        "ax[1].set_title('Time series of height coordinate')\n",
        "#ax[1].set_ylim([-0.05, 0.05])\n",
        "ax[1].grid()\n"
      ]
    },
    {
      "cell_type": "markdown",
      "id": "6ea4b25b",
      "metadata": {
        "id": "6ea4b25b"
      },
      "source": [
        "Finally we compute the standard deviation, as a measure of precision, per coordinate (with respect to their mean), and we compute the root mean square error, as the measure of accuracy, per coordinate (using the coordinate differences dE, dN, dh which were computed with respect to the given known coordinates of the benchmark), using Eq (6.18)."
      ]
    },
    {
      "cell_type": "code",
      "execution_count": null,
      "id": "ad85d81f",
      "metadata": {
        "id": "ad85d81f"
      },
      "outputs": [],
      "source": [
        "tripod_stdev_enu = static_point_coords_enu.std(axis=0, ddof=1)\n",
        "print('stdev',tripod_stdev_enu, 'in m')"
      ]
    },
    {
      "cell_type": "code",
      "execution_count": null,
      "id": "3f2f8ea6",
      "metadata": {
        "id": "3f2f8ea6",
        "scrolled": true
      },
      "outputs": [],
      "source": [
        "MSE_enu = (static_point_coords_enu**2).mean(axis=0)\n",
        "rms_enu = np.sqrt(MSE_enu)\n",
        "print('rms in East, North and Up in m:\\n', rms_enu)"
      ]
    },
    {
      "cell_type": "markdown",
      "id": "c817ec1b-8f78-4065-ab53-725c5f68cf3f",
      "metadata": {
        "tags": [],
        "id": "c817ec1b-8f78-4065-ab53-725c5f68cf3f"
      },
      "source": [
        "### Do this yourself ###\n",
        "\n",
        "Repeat the above computations for your own dataset (`mydata`, `mytracks`).\n",
        "\n",
        "* first identify the index number of the appropriate track and set the value in `my_benchmark_trackidx`\n",
        "* compute the means (bias as well) and standard deviations\n",
        "* create the dEast-dNorth scatter plot and the time series of the height dh\n",
        "* and compute the rms\n",
        "\n",
        "The reference coordinates `ref_llh` and `ref_rd` have been set before already in section 6.2 (with the example dataset, make sure they match your dataset), and also the `flat` and `flon` factors have been computed already."
      ]
    },
    {
      "cell_type": "code",
      "execution_count": null,
      "id": "987a3c54-b6dd-4ec1-b3ac-da348c8ea632",
      "metadata": {
        "tags": [],
        "id": "987a3c54-b6dd-4ec1-b3ac-da348c8ea632"
      },
      "outputs": [],
      "source": [
        "mytracks"
      ]
    },
    {
      "cell_type": "code",
      "execution_count": null,
      "id": "42a4b823-dddb-498e-8a5a-48620bf234d7",
      "metadata": {
        "id": "42a4b823-dddb-498e-8a5a-48620bf234d7"
      },
      "outputs": [],
      "source": [
        "# TODO: Replace the 'my_benchmark_trackidx' with the correct track index for your dataset\n",
        "my_benchmark_trackidx=0"
      ]
    },
    {
      "cell_type": "code",
      "execution_count": null,
      "id": "f787fa73-0f49-4069-94e5-0f1280248219",
      "metadata": {
        "tags": [],
        "id": "f787fa73-0f49-4069-94e5-0f1280248219"
      },
      "outputs": [],
      "source": [
        "# TODO: Extract the coordinates of the benchmark track index from 'mytracks'\n",
        "mystatic_point_coords =\n",
        "\n",
        "# Print the shape of the extracted coordinate array\n",
        "print('shape', mystatic_point_coords.shape)\n",
        "\n",
        "# TODO: Compute the mean position (longitude, latitude, height)\n",
        "mytripod_mean_llh =\n",
        "\n",
        "# TODO: Compute the standard deviation of the position\n",
        "mytripod_stdev_llh =\n",
        "\n",
        "# Print the computed mean and standard deviation values in deg/deg/m\n",
        "print('mean', mytripod_mean_llh, 'in deg/deg/m')\n",
        "print('stdev', mytripod_stdev_llh, 'in deg/deg/m')\n"
      ]
    },
    {
      "cell_type": "code",
      "execution_count": null,
      "id": "d0b43f45",
      "metadata": {
        "id": "d0b43f45"
      },
      "outputs": [],
      "source": [
        "# TODO: Compute the difference between the mean coordinates and reference coordinates (LLH)\n",
        "mydiff_llh =\n",
        "\n",
        "# Print the difference in Longitude and Latitude (mean - reference)\n",
        "print('Difference in Longitude and Latitude (mean-ref): ', mydiff_llh[:2], ' deg')\n",
        "# Print the difference in Height (mean - reference)\n",
        "print('Difference in Height (mean-ref): ', mydiff_llh[2], ' m')"
      ]
    },
    {
      "cell_type": "code",
      "execution_count": null,
      "id": "ba16acd3",
      "metadata": {
        "id": "ba16acd3"
      },
      "outputs": [],
      "source": [
        "# TODO: Create a copy of the difference in LLH coordinates to work with ENU coordinates\n",
        "mydiff_enu =\n",
        "# TODO: Convert the difference in longitude to East (multiply by the scaling factor 'flon')\n",
        "mydiff_enu[0] =\n",
        "# TODO: Convert the difference in latitude to North (multiply by the scaling factor 'flat')\n",
        "mydiff_enu[1] =\n",
        "\n",
        "# Print the difference in East, North, and Up in meters (converted from LLH)\n",
        "print('Difference (mean-ref) in East, North and Up in m:\\n', mydiff_enu)"
      ]
    },
    {
      "cell_type": "code",
      "execution_count": null,
      "id": "a3ade6c3",
      "metadata": {
        "id": "a3ade6c3",
        "scrolled": true
      },
      "outputs": [],
      "source": [
        "# TODO: Convert the static point coordinates from LLH to ENU using the reference LLH and scaling factors\n",
        "mystatic_point_coords_enu =\n",
        "\n",
        "# TODO: Create a figure and axis for two subplots (scatter plot and time series)\n",
        "fig, ax = plt.subplots(1,2, figsize=(16,8))\n",
        "\n",
        "# TODO: Create the scatter plot for East and North differences (ENU coordinates)\n",
        "# ax[0].scatter(...)\n",
        "\n",
        "# TODO: Create the time series plot for the Height coordinate (Up) differences\n",
        "# ax[1].plot(...)"
      ]
    },
    {
      "cell_type": "code",
      "execution_count": null,
      "id": "821d17ff",
      "metadata": {
        "id": "821d17ff"
      },
      "outputs": [],
      "source": [
        "# TODO: Compute the standard deviation of the ENU coordinates (East, North, and Height)\n",
        "mytripod_stdev_enu =\n",
        "\n",
        "# Print the computed standard deviation in meters\n",
        "print('stdev', mytripod_stdev_enu, 'in m')"
      ]
    },
    {
      "cell_type": "code",
      "execution_count": null,
      "id": "99612ff8",
      "metadata": {
        "id": "99612ff8",
        "scrolled": true
      },
      "outputs": [],
      "source": [
        "# TODO: Compute the Mean Squared Error (MSE) for the ENU coordinates (East, North, and Height)\n",
        "myMSE_enu =\n",
        "\n",
        "# TODO: Compute the Root Mean Square (RMS) for the ENU coordinates\n",
        "myrms_enu =\n",
        "\n",
        "# Print the computed RMS values in meters for East, North, and Up\n",
        "print('rms in East, North and Up in m:\\n', myrms_enu)"
      ]
    },
    {
      "cell_type": "markdown",
      "id": "5d7c09eb-9624-4c3b-ad91-33996bceaedc",
      "metadata": {
        "id": "5d7c09eb-9624-4c3b-ad91-33996bceaedc"
      },
      "source": [
        "**Question 5:** Create a table, like Table 15.1 in the book, with mean (bias), std and rms, with the appropriate number of significant digits (think about this), and include it in your report. Are these standard deviations what you would expect from `RTK-fixed` solutions?"
      ]
    },
    {
      "cell_type": "markdown",
      "id": "d122a7f0-be93-4bce-9c7e-4824f42b3d82",
      "metadata": {
        "id": "d122a7f0-be93-4bce-9c7e-4824f42b3d82"
      },
      "source": [
        "**Question 6:** Include the scatterplot in your report (make sure it is for your dataset!) and compare this to the standard deviations of Question 5.  What are your conclusions, are the coordinates correlated? Also include the time series plot of the height (comparable to Figure 15.5 in the book)."
      ]
    },
    {
      "cell_type": "markdown",
      "id": "9521985d",
      "metadata": {
        "id": "9521985d"
      },
      "source": [
        "## 7 Coordinate Reference System (CRS) transformation\n",
        "\n",
        "In this section we cover the Coordinate Reference System (CRS) transformation and map projection for the Netherlands. We first cover an approximate, meter-accurate transformation (with GeoPandas), and next the official cm-accurate RDNAPTRANS procedure."
      ]
    },
    {
      "cell_type": "markdown",
      "id": "5506864e",
      "metadata": {
        "id": "5506864e"
      },
      "source": [
        "## 7.1 Coordinate Reference System (CRS) transformation with GeoPandas\n",
        "\n",
        "Coordinate Reference System (CRS) transformations with GeoPandas is made ''easy'' using the `pyproj` package, the Python interface to **PROJ** (cartographic projections and coordinate transformations library), under the hood.\n",
        "\n",
        "> PROJ is a generic coordinate transformation software written in C that transforms geospatial coordinates from one coordinate reference system (CRS) to another. This includes cartographic projections as well as geodetic transformations, cf. Figure 31.1 of the book. PROJ includes an API as well as command line applications. PROJ started purely as a cartography application letting users convert geodetic coordinates into projected coordinates using a number of different cartographic projections. Over the years, as the need has become apparent, support for datum shifts has slowly worked its way into PROJ as well. Today PROJ supports more than a hundred different map projections and can transform coordinates between datums using all but the most obscure geodetic techniques. PROJ has become the de-facto standard for coordinate transformations all around the World. See also Section 31.5 of the book.\n",
        "\n",
        "GeoPandas provides a high-level interface to PROJ using the `to_crs()` method on a GeoSeries or GeoDataFrame.\n",
        "\n",
        "The next examples show how to transform the example GeoDataFrames to the Dutch projected coordinate system, called RD (RijksDriehoeksmeting - EPSG-code 28992), cf. Figure 35.2:"
      ]
    },
    {
      "cell_type": "code",
      "execution_count": null,
      "id": "d68b6f41",
      "metadata": {
        "id": "d68b6f41"
      },
      "outputs": [],
      "source": [
        "points_rd = points.to_crs(\"EPSG:28992\")\n",
        "lines_rd = lines.to_crs(\"EPSG:28992\")\n",
        "tracks_rd = tracks.to_crs(\"EPSG:28992\")"
      ]
    },
    {
      "cell_type": "code",
      "execution_count": null,
      "id": "23889594",
      "metadata": {
        "id": "23889594"
      },
      "outputs": [],
      "source": [
        "lines_rd.crs"
      ]
    },
    {
      "cell_type": "code",
      "execution_count": null,
      "id": "a07ee299",
      "metadata": {
        "id": "a07ee299"
      },
      "outputs": [],
      "source": [
        "points_rd"
      ]
    },
    {
      "cell_type": "code",
      "execution_count": null,
      "id": "236bd4d6",
      "metadata": {
        "id": "236bd4d6",
        "scrolled": true
      },
      "outputs": [],
      "source": [
        "lines_rd"
      ]
    },
    {
      "cell_type": "markdown",
      "id": "ccb2d0b6",
      "metadata": {
        "id": "ccb2d0b6"
      },
      "source": [
        "As you can observe from the GeoDataFrames the *geometry* has changed (horizontal RD coordinate values, in Delft values around 85 km and 445 km), but not the other attributes! (the point GeoDataFrame still has attributes latitude and longitude from the original).\n",
        "Also note the transformation **DID NOT change the elevation** (the third coordinate). The height coordinate is still given as height above the original ellipsoid!\n",
        "\n",
        "Below the data is plotted in the new CRS:"
      ]
    },
    {
      "cell_type": "code",
      "execution_count": null,
      "id": "02b82163",
      "metadata": {
        "id": "02b82163",
        "tags": []
      },
      "outputs": [],
      "source": [
        "base = lines_rd.plot(color='blue')\n",
        "points_rd.plot(ax=base, marker='o', color='red', markersize=10)\n",
        "tracks_rd.plot(ax=base, color='green')\n",
        "base.set(xlabel='x-RD [m]', ylabel='y-RD [m]', title='Example Map in RD');"
      ]
    },
    {
      "cell_type": "markdown",
      "id": "a834523e",
      "metadata": {
        "id": "a834523e",
        "tags": []
      },
      "source": [
        "The aspect ratio is now one (as we would expect from projected coordinates). The Dutch RD map projection is specifically meant for mapping the Netherlands."
      ]
    },
    {
      "cell_type": "markdown",
      "id": "b5069d34",
      "metadata": {
        "id": "b5069d34"
      },
      "source": [
        "### Do this yourself ###\n",
        "\n",
        "Recreate the above plot for your own dataset."
      ]
    },
    {
      "cell_type": "code",
      "execution_count": null,
      "id": "11f66b61",
      "metadata": {
        "id": "11f66b61",
        "tags": []
      },
      "outputs": [],
      "source": [
        "# TODO: Uncomment and convert 'mypoints' to the RD coordinate system (EPSG:28992) if your dataset contains points\n",
        "# mypoints_rd =\n",
        "\n",
        "# TODO: Convert 'mylines' and 'mytracks' to the RD coordinate system (EPSG:28992)\n",
        "mylines_rd =\n",
        "mytracks_rd =\n",
        "\n",
        "# TODO: Create a base plot with 'mylines_rd'\n",
        "mybase =\n",
        "\n",
        "# TODO: Uncomment and plot 'mypoints_rd' on the same base plot (use ax=mybase) if your dataset contains points\n",
        "# mypoints_rd.plot(...)\n",
        "\n",
        "# TODO: Plot 'mytracks_rd' on the same base plot (use ax=mybase)\n",
        "mytracks_rd.plot(...)\n",
        "\n",
        "# Set the labels and title\n",
        "mybase.set(xlabel='x-RD [m]', ylabel='y-RD [m]', title='Your Map in RD');"
      ]
    },
    {
      "cell_type": "markdown",
      "id": "de0711c3",
      "metadata": {
        "id": "de0711c3"
      },
      "source": [
        "**Question 7: Include this map in RD in your report.**"
      ]
    },
    {
      "cell_type": "markdown",
      "id": "aae308f0",
      "metadata": {
        "id": "aae308f0"
      },
      "source": [
        "### EPSG:28992 Limitations, BEWARE ! ###\n",
        "\n",
        "The above coordinate transformation is very easy, but has two main limitations: it is **approximate**, and it **only** operates on the **horizontal coordinates**. This is good enough for plotting (to get an overall impression), but not enough for mathematical analysis!\n",
        "\n",
        "> The coordinate transformation from EPSG:4326 (WGS-84) to EPSG:28992 has only an accuracy of about 1 meter. See also https://epsg.io/28992-to-4326 . This is mainly for two reasons: we actually have geographic coordinates in ETRS89 instead of WGS-84, and because a correction grid for RD was not used. In the next subsection we will show how to do a more accurate transformation, and why this is important.\n",
        "\n",
        "We will also discuss later how to convert the height above the ellipsoid into elevation above the Amsterdam Ordance datum, in Dutch, Normaal Amsterdam Peil (NAP). This is important because there is a difference of about 42 meters between the elevation above the ellipsoid and NAP heights, cf. Figure 35.10 (check-out the height for instance of points in your track, it is typically about 42-43 m, hey, you didn't believe we were more than 40 meters above sea-level in Delft, really?)."
      ]
    },
    {
      "cell_type": "markdown",
      "id": "86091078-090c-4888-9d47-8644d416030b",
      "metadata": {
        "id": "86091078-090c-4888-9d47-8644d416030b"
      },
      "source": [
        "## 7.2 RDNAPTRANS™2018 - Official Coordinate transformation between RD, NAP and ETRS89\n",
        "\n",
        "RDNAPTRANS (https://www.nsgi.nl/rdnaptrans) is the name of the official Dutch transformation and mapping procedure between RD (Rijksdriehoeksmeting), NAP (Normaal Amsterdams Peil) on one side and ETRS89 (European Terrestrial Reference System 1989) on the other. The current version is RDNAPTRANS™2018. RDNAPTRANS is maintained by the Nederlandse Samenwerking Geodetische Infrastructuur (NSGI). This version is accurate at the cm level.\n",
        "\n",
        "The following implementations and API are available (https://www.nsgi.nl/web/nsgi/geodetische-infrastructuur/coordinatentransformatie):\n",
        "\n",
        "- PCTrans: A freely available Windows 10 application for geodetic and hydrographic computations from the Hydrographic Service (https://www.defensie.nl/downloads/applicaties/2021/06/30/pctrans5_20210630)\n",
        "- Web based API provided by NSGI (https://www.nsgi.nl/coordinatentransformatie-api), API-key required\n",
        "- Implementations of RDNAPTRANS™2018 by software providers (validated by NSGI)\n",
        "\n",
        "RDNAPTRANS™2018 can be implemented using the Transform method from the Python-3 `pyproj` package with PROJ version 7.x or higher. Two additional files are required: the geoid file `nlgeo2008.gtx` and transformation grid file `rdcorr2018.gsb` must be present in the same folder as this module.\n",
        "\n",
        "Not only is RDNAPTRANS more accurate than the `.to_crs('EPSG:28992')` method in the previous subsection, **but RDNAPTRANS is also able to convert ellipsoidal height into NAP heights**, something we need for our Digital Elevation Model (DEM).\n",
        "\n",
        "Reference:\n",
        "\n",
        "Jochem Lesparre, Lennard Huisman and Bas Alberts (2020), RDNAPTRANS™2018 - Coordinate transformation to and from Stelsel van de Rijksdriehoeksmeting and Normaal Amsterdams\n",
        "Peil, Nederlandse Samenwerking Geodetische Infrastructuur, 5 Feb 2020."
      ]
    },
    {
      "cell_type": "markdown",
      "id": "bbb6c70c-b584-46d8-a7b4-9a5f79355eb7",
      "metadata": {
        "id": "bbb6c70c-b584-46d8-a7b4-9a5f79355eb7"
      },
      "source": [
        "#### 7.2.1 Pyproj implementation of RDNAPTRANS\n",
        "\n",
        "RDNAPTRANS™2018 requires the Python-3 `pyproj` package with PROJ version 7.x or higher. Before continuing, check if you are using PROJ version 7.x or higher:"
      ]
    },
    {
      "cell_type": "code",
      "execution_count": null,
      "id": "067e011c-7bd2-4f26-bd71-be44e14a0892",
      "metadata": {
        "id": "067e011c-7bd2-4f26-bd71-be44e14a0892"
      },
      "outputs": [],
      "source": [
        "pyproj.show_versions()"
      ]
    },
    {
      "cell_type": "markdown",
      "id": "f1e92b80-cf8f-4701-8229-d5a6b40b9ff7",
      "metadata": {
        "id": "f1e92b80-cf8f-4701-8229-d5a6b40b9ff7"
      },
      "source": [
        "RDNAPTRANS™2018 is implemented using the `pyproj` Transform method. A `pyproj.Transformer` object `rdnaptrans2018` is created with the transformation parameters given by the variable  `pipeline_3d`. The transformer object is used to create the functions `etrs89_to_rdnap(lon, lat, elevation) -> x, y, H` and the inverse transformation `rdnap_to_etrs89(x, y, H) -> lon, lat, elevation`:"
      ]
    },
    {
      "cell_type": "code",
      "execution_count": null,
      "id": "0802da9a-63dc-4e03-8515-0707e2d905e4",
      "metadata": {
        "id": "0802da9a-63dc-4e03-8515-0707e2d905e4"
      },
      "outputs": [],
      "source": [
        "# Define variables with the PROJ transform pipeline and pyproj.Transformer object\n",
        "\n",
        "pipeline_3d = (\n",
        "    '+proj=pipeline '\n",
        "    '+step +proj=unitconvert +xy_in=deg +z_in=m +xy_out=rad +z_out=m '\n",
        "    '+step +proj=axisswap +order=2,1,3,4 '\n",
        "    '+step +proj=vgridshift +grids=./nlgeo2018.gtx '\n",
        "    '+step +proj=push +v_3 '\n",
        "    '+step +proj=set +v_3=43 +omit_inv '\n",
        "    '+step +proj=cart +ellps=GRS80 '\n",
        "    '+step +proj=helmert +x=-565.7346 +y=-50.4058 +z=-465.2895 +rx=-0.395023 '\n",
        "    '+ry=0.330776 +rz=-1.876073 +s=-4.07242 +convention=coordinate_frame +exact '\n",
        "    '+step +proj=cart +inv +ellps=bessel '\n",
        "    '+step +proj=hgridshift +inv +grids=./rdcorr2018.gsb,null '\n",
        "    '+step +proj=sterea +lat_0=52.156160556 +lon_0=5.387638889 +k=0.9999079 '\n",
        "    '+x_0=155000 +y_0=463000 +ellps=bessel '\n",
        "    '+step +proj=set +v_3=0 +omit_fwd '\n",
        "    '+step +proj=pop +v_3'\n",
        ")\n",
        "\n",
        "rdnaptrans2018 = pyproj.Transformer.from_pipeline(pipeline_3d)\n",
        "\n",
        "# Define function with forward transformation\n",
        "\n",
        "def etrs89_to_rdnap(lon, lat, elevation):\n",
        "    # x, y, H = etrs89_to_rdnap(lon, lat, elevation)\n",
        "    return rdnaptrans2018.transform(lat, lon, elevation, direction='FORWARD')\n",
        "\n",
        "# Define function with inverse transformation\n",
        "\n",
        "def rdnap_to_etrs89(x, y, H):\n",
        "    # lon, lat, elevation = rdnap_to_etrs89_3d(x, y, H):\n",
        "    lat, lon, elevation = rdnaptrans2018.transform(x, y, H, direction='INVERSE')\n",
        "    return lon, lat, elevation\n"
      ]
    },
    {
      "cell_type": "markdown",
      "id": "52398ac6-c0b0-43d9-aeb7-3ab54dcf9139",
      "metadata": {
        "id": "52398ac6-c0b0-43d9-aeb7-3ab54dcf9139"
      },
      "source": [
        "Note that the `pipeline_3d` variable contains references to the geoid file `nlgeo2008.gtx` (line 4) and transformation grid file `rdcorr2018.gsb` (line 11), which are expected to be present in the same folder as this notebook. If these files are stored in a different location, you have to adjust the path in the `pipeline_3d` variable. If these files are not present in the expected location the `Transformer` object returns an error!"
      ]
    },
    {
      "cell_type": "markdown",
      "id": "c8d8ea44-9280-4da0-aed6-3fec9eacc3f7",
      "metadata": {
        "id": "c8d8ea44-9280-4da0-aed6-3fec9eacc3f7"
      },
      "source": [
        "We test the transformation using the given reference coordinates (which you set in section 6.2); the known coordinates of the benchmark were given both in ETRS89 (lon,lat,h) and in RD-NAP (x,y,H)."
      ]
    },
    {
      "cell_type": "code",
      "execution_count": null,
      "id": "23ab1e4d-b105-48be-9666-a4901427d821",
      "metadata": {
        "tags": [],
        "id": "23ab1e4d-b105-48be-9666-a4901427d821"
      },
      "outputs": [],
      "source": [
        "tmp = etrs89_to_rdnap(ref_llh[0], ref_llh[1], ref_llh[2])\n",
        "print('difference (in [m]):\\n', (tmp - ref_rd))"
      ]
    },
    {
      "cell_type": "markdown",
      "id": "01a519d9-db97-4e86-9920-748a5de2ecfb",
      "metadata": {
        "id": "01a519d9-db97-4e86-9920-748a5de2ecfb"
      },
      "source": [
        "You should get differences that are smaller than one millimeter. Check!"
      ]
    },
    {
      "cell_type": "markdown",
      "id": "8cd72322-aadc-48c4-b088-6d16404cbd66",
      "metadata": {
        "id": "8cd72322-aadc-48c4-b088-6d16404cbd66"
      },
      "source": [
        "Now lets check the inverse transformation:"
      ]
    },
    {
      "cell_type": "code",
      "execution_count": null,
      "id": "b91938e7-7f1c-494a-833d-5c9f842e0dc7",
      "metadata": {
        "id": "b91938e7-7f1c-494a-833d-5c9f842e0dc7"
      },
      "outputs": [],
      "source": [
        "tmp = rdnap_to_etrs89(ref_rd[0], ref_rd[1], ref_rd[2])\n",
        "print('difference (in [deg/deg/m]):\\n', (tmp - ref_llh))"
      ]
    },
    {
      "cell_type": "markdown",
      "id": "e15ea854-22b6-44dc-9983-89c307794b5d",
      "metadata": {
        "id": "e15ea854-22b6-44dc-9983-89c307794b5d"
      },
      "source": [
        "The two functions also operate on arrays in case you desire to transform many coordinates at once. For example, this allows us to convert height/elevation above the ellipsoid to NAP height for the Digital Elevation Model (DEM) in the next section."
      ]
    },
    {
      "cell_type": "markdown",
      "id": "bc62ef3b-041a-4f1a-baab-c0d4ec492db7",
      "metadata": {
        "id": "bc62ef3b-041a-4f1a-baab-c0d4ec492db7"
      },
      "source": [
        "## 8. Computing a Digital Elevation Model (DEM)\n",
        "\n",
        "During the practical you collected position and elevation measurements on a grid from which you will compute a Digital Elevation Model (DEM).\n",
        "\n",
        "The data was stored in your dataset as a track. In our example dataset this was the second track, but this may be different in yours! In that case please adapt!"
      ]
    },
    {
      "cell_type": "code",
      "execution_count": null,
      "id": "d2fe42b6-88b9-452f-a4fd-25cc8d393cdc",
      "metadata": {
        "id": "d2fe42b6-88b9-452f-a4fd-25cc8d393cdc"
      },
      "outputs": [],
      "source": [
        "demidx=1"
      ]
    },
    {
      "cell_type": "markdown",
      "id": "02310c4f-d42c-42ab-afbd-30fb577a6b01",
      "metadata": {
        "id": "02310c4f-d42c-42ab-afbd-30fb577a6b01"
      },
      "source": [
        "Extract this track as a numpy array (this was covered in section 5) and convert into RDNAP:"
      ]
    },
    {
      "cell_type": "code",
      "execution_count": null,
      "id": "3380dbe0-59fa-4069-bc89-4686e4469417",
      "metadata": {
        "id": "3380dbe0-59fa-4069-bc89-4686e4469417"
      },
      "outputs": [],
      "source": [
        "dem_data_geo = np.array(tracks.geometry[demidx].coords)\n",
        "print('shape',dem_data_geo.shape)"
      ]
    },
    {
      "cell_type": "code",
      "execution_count": null,
      "id": "627145b5-7b27-4b13-851a-7ff6740af46e",
      "metadata": {
        "id": "627145b5-7b27-4b13-851a-7ff6740af46e"
      },
      "outputs": [],
      "source": [
        "xRD, yRD, HNAP = etrs89_to_rdnap(dem_data_geo[:,0], dem_data_geo[:,1], dem_data_geo[:,2])"
      ]
    },
    {
      "cell_type": "markdown",
      "id": "31f442e5-af85-4fc6-9357-9d9a5c0f04a8",
      "metadata": {
        "id": "31f442e5-af85-4fc6-9357-9d9a5c0f04a8"
      },
      "source": [
        "The difference between ellipsoidal height h and NAP height H is the geoid height N: N = h - H (in [m]), see Figure 33.1. Also check that the difference value that you get (the mean over the small area that you surveyed), the geoid height N, matches the geoid-height in the Delft-area, by inspecting Figure 35.10 (left), presenting the NLGEO2018 geoid."
      ]
    },
    {
      "cell_type": "code",
      "execution_count": null,
      "id": "0db401b3-40dd-4f6a-a607-3dea5a7d7491",
      "metadata": {
        "id": "0db401b3-40dd-4f6a-a607-3dea5a7d7491"
      },
      "outputs": [],
      "source": [
        "hdif = dem_data_geo[:,2] - HNAP\n",
        "print(np.mean(hdif),np.std(hdif))"
      ]
    },
    {
      "cell_type": "code",
      "execution_count": null,
      "id": "94a40e6f-0c67-4075-9d9d-dceb436e14e5",
      "metadata": {
        "id": "94a40e6f-0c67-4075-9d9d-dceb436e14e5"
      },
      "outputs": [],
      "source": [
        "fig, ax = plt.subplots(figsize=(8,8))\n",
        "\n",
        "plt.scatter(xRD, yRD ,c=HNAP, s=5)\n",
        "plt.xlabel('x-RD [m]')\n",
        "plt.ylabel('y-RD [m]')\n",
        "plt.title('Scatter plot with NAP-height')\n",
        "plt.colorbar(label='NAP height [m]')\n",
        "\n",
        "ax.set_aspect('equal')\n",
        "\n",
        "plt.show();"
      ]
    },
    {
      "cell_type": "code",
      "execution_count": null,
      "id": "7a1225a0-2635-4e9e-a057-541062b6e6e8",
      "metadata": {
        "id": "7a1225a0-2635-4e9e-a057-541062b6e6e8"
      },
      "outputs": [],
      "source": [
        "from matplotlib.tri import Triangulation, LinearTriInterpolator"
      ]
    },
    {
      "cell_type": "code",
      "execution_count": null,
      "id": "3d56bdbd-f45e-4c22-8e24-d0678efdc887",
      "metadata": {
        "id": "3d56bdbd-f45e-4c22-8e24-d0678efdc887"
      },
      "outputs": [],
      "source": [
        "npts=100"
      ]
    },
    {
      "cell_type": "code",
      "execution_count": null,
      "id": "67a2769f-b501-417c-a9d6-43b3d4b7dfb8",
      "metadata": {
        "id": "67a2769f-b501-417c-a9d6-43b3d4b7dfb8"
      },
      "outputs": [],
      "source": [
        "triObj = Triangulation(xRD,yRD)      # measured locations form an irregular grid they serve as vertices (nodes) of triangular interpolation\n",
        "                                        # see chapter 11 in the book on Surveying and Mapping\n",
        "fz = LinearTriInterpolator(triObj,HNAP) # linear interpolation (of terrain height) within triangles\n",
        "\n",
        "min_x = np.amin(xRD)                 # determine the boundaries of the (horizontal) area of interest\n",
        "max_x = np.amax(xRD)\n",
        "min_y = np.amin(yRD)\n",
        "max_y = np.amax(yRD)\n",
        "\n",
        "xnew = np.linspace(min_x,max_x,npts) # set-up new, regular grid\n",
        "ynew = np.linspace(min_y,max_y,npts)\n",
        "xxnew, yynew = np.meshgrid(xnew, ynew) # meshgrid to turn new 1D arrays into grid-array coordinates\n",
        "\n",
        "znew = fz(xxnew,yynew)               # do actual interpolation to new, regular grid\n",
        "\n",
        "fig = plt.figure()\n",
        "cs = plt.contourf(xnew, ynew, znew)  # produce contour-map\n",
        "cb = plt.colorbar(cs)                # add color-bar for height\n",
        "plt.title('Contour-map with NAP-height [m]')\n",
        "plt.xlabel('x_RD [m]')\n",
        "plt.ylabel('y_RD [m]')\n",
        "plt.axis('equal')\n",
        "\n",
        "plt.show()"
      ]
    },
    {
      "cell_type": "code",
      "execution_count": null,
      "id": "54a29afa-85ba-4889-97a5-5df6e98b2092",
      "metadata": {
        "id": "54a29afa-85ba-4889-97a5-5df6e98b2092"
      },
      "outputs": [],
      "source": [
        "ax = plt.figure().add_subplot(projection='3d')\n",
        "colormap = 'viridis'\n",
        "surf = ax.plot_trisurf(xRD, yRD, HNAP, cmap=colormap, antialiased = True)\n",
        "ax.view_init(30,330)             # set viewing angle - default (elevation=30deg, azimuth=300deg), i.e. looking from South-East\n",
        "plt.title('3D terrain model with NAP height [m]')\n",
        "plt.xlabel('x_RD [m]')\n",
        "plt.ylabel('y_RD [m]')\n",
        "\n",
        "plt.show();"
      ]
    },
    {
      "cell_type": "markdown",
      "id": "d89dffc3",
      "metadata": {
        "tags": [],
        "id": "d89dffc3"
      },
      "source": [
        "### Earth work\n",
        "\n",
        "Finally, now we have a nice 3D DEM, we compute the volume (in cubic meter) needed to fill the small hill up to a flat body at 0 m NAP.\n",
        "\n",
        "The function below requires the regular, square grid created for the interpolation (xxnew, yynew) and the interpolated height values (znew) at these grid points. It will carry out a simple numerical integration, and use for each square cell the mean height value of the four grid points. It will do so for just the surveyed area (other heights, with NaN, in the areas where you did not measure, will be ignored). Also it accounts for cells which are only partly inside the surveyed area (the volume element will be taken into account proportional to the area (number of gridpoints) covered)."
      ]
    },
    {
      "cell_type": "code",
      "execution_count": null,
      "id": "d7f3b5f9",
      "metadata": {
        "id": "d7f3b5f9"
      },
      "outputs": [],
      "source": [
        "def calc_vol_under_graph(xxgrid, yygrid, func_3D, height=0.0):\n",
        "    \"\"\"\n",
        "    Calculate the volume (in cubic meters) required to fill the terrain up to a specified height.\n",
        "\n",
        "    Parameters:\n",
        "    xxgrid (ndarray): 2D array of x-coordinates from a regular, square meshgrid.\n",
        "    yygrid (ndarray): 2D array of y-coordinates from a regular, square meshgrid.\n",
        "    func_3D (ndarray): 2D array of elevation values corresponding to the grid points.\n",
        "    height (float): Target elevation (NAP) to fill up to. Default is 0.0 meters.\n",
        "\n",
        "    Returns:\n",
        "    float: Total volume to fill (positive by convention, indicating material addition).\n",
        "    \"\"\"\n",
        "    # Convert func_3D to a float array to handle NaN and mathematical operations\n",
        "    func_3D_array = np.array(func_3D, dtype=np.float64)\n",
        "\n",
        "    # Adjust elevations to compute addition volume\n",
        "    func_3D_array = height - func_3D_array\n",
        "\n",
        "    # Calculate cell dimensions (assuming a regular, square grid)\n",
        "    dx = xxgrid[0, 1] - xxgrid[0, 0]\n",
        "    dy = yygrid[1, 0] - yygrid[0, 0]\n",
        "    cell_area = dx * dy\n",
        "\n",
        "    # Extract the four corners of each cell\n",
        "    top_left = func_3D_array[:-1, :-1]\n",
        "    top_right = func_3D_array[:-1, 1:]\n",
        "    bottom_left = func_3D_array[1:, :-1]\n",
        "    bottom_right = func_3D_array[1:, 1:]\n",
        "\n",
        "    # Sum non-NaN values across the four corners for each cell\n",
        "    sum_non_nan = np.nansum([top_left, top_right, bottom_left, bottom_right], axis=0)\n",
        "\n",
        "    # Compute total volume: sum over all cells of (sum_non_nan * cell_area / 4)\n",
        "    volume = np.sum(sum_non_nan * cell_area / 4.0)\n",
        "\n",
        "    return volume\n",
        "\n",
        "EWvolume = calc_vol_under_graph(xxnew, yynew, znew, height=0.0)\n",
        "print('Earthwork volume', EWvolume, 'in m^3')"
      ]
    },
    {
      "cell_type": "markdown",
      "id": "36ba1ce1-1081-4db7-9954-e55c3f3ce2b2",
      "metadata": {
        "tags": [],
        "id": "36ba1ce1-1081-4db7-9954-e55c3f3ce2b2"
      },
      "source": [
        "### Do this yourself\n",
        "\n",
        "Compute the contour map and 3D DEM for your own dataset using the above code examples, and also compute the volume of Earth work."
      ]
    },
    {
      "cell_type": "code",
      "execution_count": null,
      "id": "c6614e93-1f2e-4169-a71e-cf05ee565fdb",
      "metadata": {
        "id": "c6614e93-1f2e-4169-a71e-cf05ee565fdb"
      },
      "outputs": [],
      "source": [
        "# TODO: Compute the contour map for your dataset\n",
        "\n",
        "# TODO: Compute the 3D Digital Elevation Model (DEM) for your dataset\n",
        "\n",
        "# TODO: Calculate the volume of Earthwork for your dataset"
      ]
    },
    {
      "cell_type": "markdown",
      "id": "4be1576c-7236-49c9-96b1-41ddcfc1a8d9",
      "metadata": {
        "id": "4be1576c-7236-49c9-96b1-41ddcfc1a8d9"
      },
      "source": [
        "**Question 8:** Include the contour map and the 3D DEM in your report."
      ]
    },
    {
      "cell_type": "markdown",
      "id": "3c220d8c",
      "metadata": {
        "id": "3c220d8c"
      },
      "source": [
        "**Question 9:** Report the volume of Earth work (m^3) to turn the surveyed hill into a flat body at 0 m NAP."
      ]
    },
    {
      "cell_type": "markdown",
      "id": "c9266fea",
      "metadata": {
        "tags": [],
        "id": "c9266fea"
      },
      "source": [
        "### Actueel Hoogtebestand Nederland (AHN)\n",
        "\n",
        "Through airborne laser-scanning a 3D Digital Elevation Model (DEM) of the entire of the Netherlands is acquired every couple of years. This DEM can be easily accessed through the AHN-viewer https://www.ahn.nl/ (and choose 'AHN-viewer'). Horizontal coordinates are given in RD, and the vertical coordinate is obviously the NAP-height (all in [m]). The AHN-height is said to be accurate at the 1 decimeter level.\n",
        "\n",
        "Use the AHN-viewer and zoom-in (to the highest zoom-level, 6 meter) on the little hill on the TU Delft campus that you surveyed with GPS/GNSS during the fieldwork outside. Take a screen-shot and include it in your report. Also compare the AHN DEM with your own DEM, and please comment.\n",
        "\n",
        "In the AHN-viewer it is also possible to visualize an elevation profile (hoogte-profiel); try the icons in sidebar on the left of the map, to perform several simple terrain analyses. Create an elevation profile West-East, across the little hill and include a screen-shot in your report (you can move the cursor over the elevation profile to inspect the actual height)."
      ]
    },
    {
      "cell_type": "markdown",
      "id": "2001fc43",
      "metadata": {
        "id": "2001fc43"
      },
      "source": [
        "**Question 10:** Include the screen-shot of the DEM in the AHN-viewer, as well as the screen-shot of the AHN elevation profile in your report, and comment on the comparison of the AHN with your own DEM."
      ]
    },
    {
      "cell_type": "code",
      "execution_count": null,
      "id": "32562203",
      "metadata": {
        "id": "32562203"
      },
      "outputs": [],
      "source": [
        "# TODO:"
      ]
    },
    {
      "cell_type": "markdown",
      "id": "c80437ad-e71a-4b11-b6d9-ae28026376c0",
      "metadata": {
        "id": "c80437ad-e71a-4b11-b6d9-ae28026376c0"
      },
      "source": [
        "[End of the assignment]"
      ]
    },
    {
      "cell_type": "markdown",
      "id": "a89b638c-c564-465c-884d-9c898c00b96a",
      "metadata": {
        "id": "a89b638c-c564-465c-884d-9c898c00b96a"
      },
      "source": [
        "[End of Jupyter notebook]"
      ]
    }
  ],
  "metadata": {
    "colab": {
      "provenance": [],
      "include_colab_link": true
    },
    "gpuClass": "standard",
    "kernelspec": {
      "display_name": "geospatial",
      "language": "python",
      "name": "geospatial"
    },
    "language_info": {
      "codemirror_mode": {
        "name": "ipython",
        "version": 3
      },
      "file_extension": ".py",
      "mimetype": "text/x-python",
      "name": "python",
      "nbconvert_exporter": "python",
      "pygments_lexer": "ipython3",
      "version": "3.11.0"
    }
  },
  "nbformat": 4,
  "nbformat_minor": 5
}